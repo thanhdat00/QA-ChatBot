{
 "cells": [
  {
   "cell_type": "code",
   "metadata": {
    "ExecuteTime": {
     "end_time": "2024-10-02T04:15:38.981923Z",
     "start_time": "2024-10-02T04:15:38.979851Z"
    }
   },
   "source": [
    "import pandas as pd\n",
    "from pydantic import BaseModel"
   ],
   "outputs": [],
   "execution_count": 14
  },
  {
   "cell_type": "code",
   "metadata": {
    "ExecuteTime": {
     "end_time": "2024-10-02T04:15:42.078381Z",
     "start_time": "2024-10-02T04:15:42.075367Z"
    }
   },
   "source": [
    "from glob import glob\n",
    "\n",
    "folders = glob(\"./features/*\")\n",
    "folders.sort()\n",
    "folders\n",
    "\n",
    "print(folders)"
   ],
   "outputs": [
    {
     "name": "stdout",
     "output_type": "stream",
     "text": [
      "['./features/p0-9999', './features/p10000-19999', './features/p20000-29999', './features/p30000-39999', './features/p50000-59999', './features/p60000-69999', './features/p70000-79999']\n"
     ]
    }
   ],
   "execution_count": 15
  },
  {
   "cell_type": "code",
   "metadata": {
    "ExecuteTime": {
     "end_time": "2024-10-02T04:15:49.862342Z",
     "start_time": "2024-10-02T04:15:45.980937Z"
    }
   },
   "source": [
    "df = pd.read_parquet(f\"./features/p0-9999/encoded_data.parquet\")"
   ],
   "outputs": [],
   "execution_count": 16
  },
  {
   "cell_type": "code",
   "metadata": {
    "ExecuteTime": {
     "end_time": "2024-10-02T04:20:04.126241Z",
     "start_time": "2024-10-02T04:20:04.117521Z"
    }
   },
   "source": [
    "df['title']"
   ],
   "outputs": [
    {
     "data": {
      "text/plain": [
       "0        Quyết định 2054/QĐ-UBND năm 2024 về Khung kế h...\n",
       "1        Quyết định 1396/QĐ-UBND năm 2024 về Khung kế h...\n",
       "2        Quyết định 1708/QĐ-UBND năm 2024 về Khung kế h...\n",
       "3        Quyết định 590/QĐ-QLD năm 2024 về Danh mục 08 ...\n",
       "4        Thông tư 02/2024/TT-VKSNDTC quy định về công t...\n",
       "                               ...                        \n",
       "10007    Quyết định 1015/QĐ-UBND phê duyệt kế hoạch sử ...\n",
       "10008    Quyết định 1433/QĐ-UBND năm 2024 quy định về v...\n",
       "10009    Chỉ thị 04/CT-UBND năm 2024 tăng cường công tá...\n",
       "10010    Kế hoạch 83/KH-UBND tuyên truyền về quản lý tà...\n",
       "10011    Quyết định 817/QĐ-BGDĐT năm 2024 công bố công ...\n",
       "Name: title, Length: 10012, dtype: object"
      ]
     },
     "execution_count": 18,
     "metadata": {},
     "output_type": "execute_result"
    }
   ],
   "execution_count": 18
  },
  {
   "metadata": {
    "ExecuteTime": {
     "end_time": "2024-10-02T03:54:50.286677Z",
     "start_time": "2024-10-02T03:54:49.930354Z"
    }
   },
   "cell_type": "code",
   "source": [
    "from pymilvus import (\n",
    "    FieldSchema,\n",
    "    CollectionSchema,\n",
    "    DataType,\n",
    "    Collection,\n",
    "    connections,\n",
    "    AnnSearchRequest,\n",
    "    RRFRanker,\n",
    "    MilvusClient\n",
    ")"
   ],
   "outputs": [],
   "execution_count": 1
  },
  {
   "metadata": {
    "ExecuteTime": {
     "end_time": "2024-10-02T03:54:57.597788Z",
     "start_time": "2024-10-02T03:54:52.583712Z"
    }
   },
   "cell_type": "code",
   "source": [
    "from pymilvus.model.hybrid import BGEM3EmbeddingFunction\n",
    "import torch\n",
    "\n",
    "device= 'cuda' if torch.cuda.is_available() else 'cpu'\n",
    "\n",
    "embedding = BGEM3EmbeddingFunction(\n",
    "    'BAAI/bge-m3',  # Specify the model name\n",
    "    device=device,  # Specify the device to use, e.g., 'cpu' or 'cuda:0'\n",
    "    # Specify whether to use fp16. Set to `False` if `device` is `cpu`.\n",
    "    use_fp16=False,\n",
    ")\n",
    "def get_embeddings(text):\n",
    "    res = embedding.encode_queries(text)\n",
    "    return res"
   ],
   "outputs": [
    {
     "name": "stderr",
     "output_type": "stream",
     "text": [
      "/home/datltt/miniconda3/envs/rag_prj_2/lib/python3.10/site-packages/tqdm/auto.py:21: TqdmWarning: IProgress not found. Please update jupyter and ipywidgets. See https://ipywidgets.readthedocs.io/en/stable/user_install.html\n",
      "  from .autonotebook import tqdm as notebook_tqdm\n",
      "Fetching 30 files: 100%|██████████| 30/30 [00:00<00:00, 177224.11it/s]\n",
      "/home/datltt/miniconda3/envs/rag_prj_2/lib/python3.10/site-packages/FlagEmbedding/BGE_M3/modeling.py:335: FutureWarning: You are using `torch.load` with `weights_only=False` (the current default value), which uses the default pickle module implicitly. It is possible to construct malicious pickle data which will execute arbitrary code during unpickling (See https://github.com/pytorch/pytorch/blob/main/SECURITY.md#untrusted-models for more details). In a future release, the default value for `weights_only` will be flipped to `True`. This limits the functions that could be executed during unpickling. Arbitrary objects will no longer be allowed to be loaded via this mode unless they are explicitly allowlisted by the user via `torch.serialization.add_safe_globals`. We recommend you start setting `weights_only=True` for any use case where you don't have full control of the loaded file. Please open an issue on GitHub for any issues related to this experimental feature.\n",
      "  colbert_state_dict = torch.load(os.path.join(model_dir, 'colbert_linear.pt'), map_location='cpu')\n",
      "/home/datltt/miniconda3/envs/rag_prj_2/lib/python3.10/site-packages/FlagEmbedding/BGE_M3/modeling.py:336: FutureWarning: You are using `torch.load` with `weights_only=False` (the current default value), which uses the default pickle module implicitly. It is possible to construct malicious pickle data which will execute arbitrary code during unpickling (See https://github.com/pytorch/pytorch/blob/main/SECURITY.md#untrusted-models for more details). In a future release, the default value for `weights_only` will be flipped to `True`. This limits the functions that could be executed during unpickling. Arbitrary objects will no longer be allowed to be loaded via this mode unless they are explicitly allowlisted by the user via `torch.serialization.add_safe_globals`. We recommend you start setting `weights_only=True` for any use case where you don't have full control of the loaded file. Please open an issue on GitHub for any issues related to this experimental feature.\n",
      "  sparse_state_dict = torch.load(os.path.join(model_dir, 'sparse_linear.pt'), map_location='cpu')\n"
     ]
    }
   ],
   "execution_count": 2
  },
  {
   "metadata": {
    "ExecuteTime": {
     "end_time": "2024-10-02T03:57:38.051144Z",
     "start_time": "2024-10-02T03:57:37.976055Z"
    }
   },
   "cell_type": "code",
   "source": [
    "res = get_embeddings([\"Hello world\"])"
   ],
   "outputs": [],
   "execution_count": 5
  },
  {
   "metadata": {
    "ExecuteTime": {
     "end_time": "2024-10-02T03:58:36.030632Z",
     "start_time": "2024-10-02T03:58:35.993893Z"
    }
   },
   "cell_type": "code",
   "source": [
    "print(\"Sparse query dim:\", embedding.dim[\"sparse\"], list(res[\"sparse\"])[0].shape)"
   ],
   "outputs": [
    {
     "name": "stdout",
     "output_type": "stream",
     "text": [
      "Sparse query dim: 250002 (1, 250002)\n"
     ]
    }
   ],
   "execution_count": 8
  },
  {
   "metadata": {
    "ExecuteTime": {
     "end_time": "2024-10-02T04:07:30.556984Z",
     "start_time": "2024-10-02T04:07:30.540228Z"
    }
   },
   "cell_type": "code",
   "source": [
    "connections.connect(host = \"localhost\",\n",
    "                   port = 19530,\n",
    "                   db_name = \"rag_search\",\n",
    "                  )\n",
    "collection = Collection(\"thu_vien_phap_luat\")"
   ],
   "outputs": [],
   "execution_count": 10
  },
  {
   "metadata": {
    "ExecuteTime": {
     "end_time": "2024-10-02T04:37:29.996691Z",
     "start_time": "2024-10-02T04:37:29.982882Z"
    }
   },
   "cell_type": "code",
   "source": [
    "rerank = RRFRanker()\n",
    "\n",
    "def search(collection, text, limit=3):\n",
    "    query_embeds = embedding.encode_queries([text])\n",
    "\n",
    "    title_sparse_search_params = {\n",
    "        \"data\": query_embeds[\"sparse\"],  # Query vector\n",
    "        \"anns_field\": \"title_sparse\",  # Vector field name\n",
    "        \"param\": {\n",
    "            \"metric_type\": \"IP\",  # This parameter value must be identical to the one used in the collection schema\n",
    "        },\n",
    "        \"limit\": limit,  # Number of search results to return in this AnnSearchRequest\n",
    "    }\n",
    "    title_sparse_request = AnnSearchRequest(**title_sparse_search_params)\n",
    "\n",
    "    title_dense_search_params = {\n",
    "        \"data\": query_embeds[\"dense\"],\n",
    "        \"anns_field\": \"title_dense\",\n",
    "        \"param\": {\n",
    "            \"metric_type\": \"COSINE\",\n",
    "            \"ef\": 20,\n",
    "        },\n",
    "        \"limit\": limit,\n",
    "    }\n",
    "    title_dense_request = AnnSearchRequest(**title_dense_search_params)\n",
    "\n",
    "    content_sparse_search_params = {\n",
    "        \"data\": query_embeds[\"sparse\"],\n",
    "        \"anns_field\": \"content_sparse\",\n",
    "        \"param\": {\n",
    "            \"metric_type\": \"IP\",\n",
    "        },\n",
    "        \"limit\": limit,\n",
    "    }\n",
    "    content_sparse_request = AnnSearchRequest(**content_sparse_search_params)\n",
    "\n",
    "    content_dense_search_params = {\n",
    "        \"data\": query_embeds[\"dense\"],\n",
    "        \"anns_field\": \"content_dense\",\n",
    "        \"param\": {\n",
    "            \"metric_type\": \"COSINE\",\n",
    "            \"ef\": 20,\n",
    "        },\n",
    "        \"limit\": limit,\n",
    "    }\n",
    "    content_dense_request = AnnSearchRequest(**content_dense_search_params)\n",
    "\n",
    "    reqs = [\n",
    "        title_sparse_request,\n",
    "        title_dense_request,\n",
    "        content_sparse_request,\n",
    "        content_dense_request,\n",
    "    ]\n",
    "\n",
    "    collection.load()\n",
    "    res = collection.hybrid_search(\n",
    "        reqs,  # List of AnnSearchRequests created in step 1\n",
    "        rerank,  # Reranking strategy specified in step 2\n",
    "        limit=limit,  # Number of final search results to return\n",
    "        output_fields=[\"id\", \"title_text\", \"content_text\", \"url\"],\n",
    "    )[0]\n",
    "    return res"
   ],
   "outputs": [],
   "execution_count": 52
  },
  {
   "metadata": {
    "ExecuteTime": {
     "end_time": "2024-10-02T08:13:15.720078Z",
     "start_time": "2024-10-02T08:13:15.708298Z"
    }
   },
   "cell_type": "code",
   "source": [
    "from pydantic import BaseModel\n",
    "class RetrievedDocument(BaseModel):\n",
    "    url: str = \"\"\n",
    "    title: str = \"\"\n",
    "    content: str = \"\""
   ],
   "outputs": [],
   "execution_count": 97
  },
  {
   "metadata": {
    "ExecuteTime": {
     "end_time": "2024-10-02T07:14:45.599923Z",
     "start_time": "2024-10-02T07:14:45.596514Z"
    }
   },
   "cell_type": "code",
   "source": [
    "def build_chat_message(\n",
    "        user_msg: str,\n",
    "        system_msg: str | None = None,\n",
    "        previous_conversation: str | None = None,\n",
    ") -> str:\n",
    "    messages: list[str] = []\n",
    "    if system_msg:\n",
    "        messages.append({\"role\": \"system\", \"content\": system_msg})\n",
    "    messages.append({\"role\": \"user\", \"content\": user_msg})\n",
    "\n",
    "    text: str = \"\"\n",
    "    for turn in messages:\n",
    "        turn[\"content\"] = turn[\"content\"].strip()\n",
    "        text += \"<|im_start|>{role}\\n{content}<|im_end|>\\n\".format(**turn)\n",
    "\n",
    "    text += \"<|im_start|>assistant\\n\"\n",
    "\n",
    "    if previous_conversation:\n",
    "        if not previous_conversation.endswith(\"\\n\"):\n",
    "            previous_conversation += \"\\n\"\n",
    "        text = previous_conversation + text\n",
    "    return text\n"
   ],
   "outputs": [],
   "execution_count": 67
  },
  {
   "metadata": {
    "ExecuteTime": {
     "end_time": "2024-10-02T07:22:28.869084Z",
     "start_time": "2024-10-02T07:22:28.504560Z"
    }
   },
   "cell_type": "code",
   "source": [
    "from langchain_community.llms import Ollama\n",
    "\n",
    "llm_model =  Ollama(model=\"qwen2.5:latest\")"
   ],
   "outputs": [],
   "execution_count": 70
  },
  {
   "metadata": {
    "ExecuteTime": {
     "end_time": "2024-10-02T08:24:05.478546Z",
     "start_time": "2024-10-02T08:24:05.467967Z"
    }
   },
   "cell_type": "code",
   "source": [
    "import ollama\n",
    "def llm_completion(system_prompt, user_query):\n",
    "    messages = [\n",
    "        {\n",
    "            \"role\" : \"System\",\n",
    "            \"content\": system_prompt\n",
    "        },\n",
    "        {\n",
    "            \"role\" : \"User\",\n",
    "            \"content\": user_query\n",
    "        }\n",
    "    ]\n",
    "    response = ollama.chat(model='qwen2.5', messages=messages)\n",
    "    return response['message']['content']"
   ],
   "outputs": [],
   "execution_count": 101
  },
  {
   "metadata": {
    "ExecuteTime": {
     "end_time": "2024-10-02T06:54:29.565832Z",
     "start_time": "2024-10-02T06:54:29.561217Z"
    }
   },
   "cell_type": "code",
   "source": [
    "CLASSIFY_SYSTEM_PROMPT_TEMPLATE = \\\n",
    "    \"\"\"You are a virtual assistant for {{classify_topic}}\n",
    "        ## Rules\n",
    "        1. Only answer `Yes` or `No`.\n",
    "        2. Respond `Yes` if the question is related to {{classify_topic}} otherwise respond `No`.\n",
    "        3. Reject description: Topics on criminal, civil, administrative documents, aviation, maritime, medical, and political issues not related to {{classify_topic}} should be answered with `No`.\n",
    "    \"\"\""
   ],
   "outputs": [],
   "execution_count": 66
  },
  {
   "metadata": {
    "ExecuteTime": {
     "end_time": "2024-10-02T08:11:23.268070Z",
     "start_time": "2024-10-02T08:11:23.265721Z"
    }
   },
   "cell_type": "code",
   "source": [
    "QUESTION_PARSING_SYS_MSG_PROMPT_LINE = \"\"\"You are a legal assistant. Your task is to analyze questions from the Human.\n",
    "Instructions:\n",
    "1. You need to analyze the question below and break it down into 4 most correct smallest questions.\n",
    "2. Each small question is displayed in a line folowing the format:\n",
    "- <question1>\n",
    "- <question2>\n",
    "...\"\"\""
   ],
   "outputs": [],
   "execution_count": 95
  },
  {
   "metadata": {
    "ExecuteTime": {
     "end_time": "2024-10-02T08:00:46.085470Z",
     "start_time": "2024-10-02T08:00:46.082868Z"
    }
   },
   "cell_type": "code",
   "source": [
    "def parse_search_query(prompt):\n",
    "    res = []\n",
    "    for line in prompt.split(\"\\n\"):\n",
    "        res.append(line.replace(\"-\", \"\").strip())\n",
    "            \n",
    "    return res"
   ],
   "outputs": [],
   "execution_count": 88
  },
  {
   "metadata": {
    "ExecuteTime": {
     "end_time": "2024-10-02T09:37:46.326432Z",
     "start_time": "2024-10-02T09:37:46.323951Z"
    }
   },
   "cell_type": "code",
   "source": [
    "query = \"thông tin về quản lý, kết nối và chia sẻ dữ liệu số của cơ quan nhà nước\""
   ],
   "outputs": [],
   "execution_count": 108
  },
  {
   "metadata": {
    "ExecuteTime": {
     "end_time": "2024-10-02T10:34:19.764389Z",
     "start_time": "2024-10-02T10:34:07.931242Z"
    }
   },
   "cell_type": "code",
   "source": [
    "## Search query \n",
    "\n",
    "context_items = [ RetrievedDocument(url = item.url, title = item.title_text, content = item.content_text) for item in search(collection, query, limit = 3)]\n",
    "\n",
    "# reference = [\n",
    "#     {\"url\": context_item['entity']['url'],\n",
    "#      'title': context_item['entity']['title']}\n",
    "#     for context_item in context_items]\n",
    "context = [f\"\"\"post {index}:\n",
    "           - context {item.content}\n",
    "           - url: {item.url}\n",
    "           ---\n",
    "           \"\"\" for index, item in enumerate(context_items)]\n",
    "\n",
    "prompt_formatted = '''\n",
    "    You are an assistant for question-answering tasks. Use the following pieces of retrieved context to answer the question or history of the chat. If you don't know the answer, just say that you don't know. If you know return both answer and reference document (title and document url link) in user language. Use three sentences maximum and keep the answer concise.\n",
    "    Question: {question}\n",
    "    Context: {context}\n",
    "    History:{history}\n",
    "    Answer:\n",
    "\n",
    "    '''.format(\n",
    "    question=query, context=context, history=\"\")\n",
    "\n",
    "llm_res = llm_model.invoke(prompt_formatted)\n",
    "print(llm_res)"
   ],
   "outputs": [
    {
     "name": "stderr",
     "output_type": "stream",
     "text": [
      "E0000 00:00:1727865258.584028 1426062 ssl_transport_security.cc:1654] Handshake failed with fatal error SSL_ERROR_SSL: error:100000f7:SSL routines:OPENSSL_internal:WRONG_VERSION_NUMBER\n"
     ]
    },
    {
     "name": "stdout",
     "output_type": "stream",
     "text": [
      "Đây là một quyết định quan trọng về quy chế khai thác và sử dụng dữ liệu của tỉnh Hà Giang. Dưới đây là tóm tắt các điểm chính trong văn bản:\n",
      "\n",
      "1. **Mục đích**: Đảm bảo việc khai thác, sử dụng, chia sẻ thông tin, dữ liệu được tuân thủ pháp luật.\n",
      "\n",
      "2. **Nguyên tắc và trách nhiệm**:\n",
      "   - Các cơ quan Nhà nước phải duy trì định kỳ hàng năm theo quy định của pháp luật.\n",
      "   - Cơ sở dữ liệu do các cơ quan Nhà nước cung cấp trên Cổng thông tin dữ liệu dùng chung tỉnh Hà Giang phải đảm bảo quy định về bảo mật thông tin và không xâm phạm lợi ích cá nhân, tổ chức, Nhà nước.\n",
      "\n",
      "3. **Quyền truy cập**:\n",
      "   - Các cơ quan phối hợp được cấp phát tài khoản truy cập và phân quyền để cập nhật dữ liệu theo chức năng nhiệm vụ của mình.\n",
      "\n",
      "4. **Yêu cầu khai thác, sử dụng dữ liệu**:\n",
      "   - Tuân thủ quy định về bảo vệ thông tin cá nhân, bí mật Nhà nước, an toàn thông tin mạng.\n",
      "   - Cơ quan Nhà nước phải chia sẻ dữ liệu cho cơ quan khác nếu có yêu cầu theo pháp luật. Không cung cấp thông tin qua hình thức văn bản đối với thông tin đã được khai thác bằng kết nối và chia sẻ dữ liệu giữa các hệ thống thông tin.\n",
      "\n",
      "5. **Cổng thông tin dữ liệu dùng chung tỉnh Hà Giang**:\n",
      "   - Là điểm truy cập thông tin, dữ liệu phục vụ công bố dữ liệu mở.\n",
      "   - Cơ quan Nhà nước phải theo dõi, đăng ký và cung cấp thông tin về dữ liệu, quản lý dữ liệu mở; khả năng chia sẻ dữ liệu và nhu cầu khai thác dữ liệu trên Cổng thông tin.\n",
      "\n",
      "6. **Cập nhật dữ liệu**:\n",
      "   - Thời hạn cập nhật là 15 ngày kể từ đầu quý sau.\n",
      "   - Các cơ sở dữ liệu đã xây dựng đáp ứng tiêu chuẩn ngành và Bộ Thông tin và Truyền thông có thể cung cấp giao diện kết nối (API) để hệ thống kết nối.\n",
      "\n",
      "Tóm lại, quyết định này nhằm đảm bảo tính minh bạch, hiệu quả trong việc khai thác và sử dụng dữ liệu của tỉnh Hà Giang, đồng thời bảo vệ quyền lợi cá nhân và tổ chức.\n"
     ]
    }
   ],
   "execution_count": 131
  },
  {
   "metadata": {
    "ExecuteTime": {
     "end_time": "2024-10-02T09:37:52.489708Z",
     "start_time": "2024-10-02T09:37:47.965817Z"
    }
   },
   "cell_type": "code",
   "source": [
    "parse_question = llm_completion(system_prompt=QUESTION_PARSING_SYS_MSG_PROMPT_LINE, user_query=query)\n",
    "search_query = parse_search_query(parse_question)\n",
    "print(parse_question)"
   ],
   "outputs": [
    {
     "name": "stdout",
     "output_type": "stream",
     "text": [
      "- Thông tin về cách thức quản lý dữ liệu số của cơ quan nhà nước?\n",
      "- Phương pháp kết nối dữ liệu số giữa các cơ quan nhà nước là gì?\n",
      "- Cơ chế chia sẻ dữ liệu số giữa các cơ quan nhà nước ra sao?\n",
      "- Pháp luật có quy định gì về việc quản lý, kết nối và chia sẻ dữ liệu số của cơ quan nhà nước?\n"
     ]
    }
   ],
   "execution_count": 109
  },
  {
   "metadata": {
    "ExecuteTime": {
     "end_time": "2024-10-02T08:25:04.162980Z",
     "start_time": "2024-10-02T08:25:04.159464Z"
    }
   },
   "cell_type": "code",
   "source": [
    "USER_QAC_MESSAGE_TEMPLATE = \"\"\"'''Cho đoạn văn:\n",
    "{d}.\n",
    "Câu hỏi: \\\"{q}\\\"\n",
    "\n",
    "Đoạn văn trên có chứa câu trả lời cho câu hỏi không?'''\"\"\"\n",
    "\n",
    "\n",
    "QAC_SYS_TEMPLATE = \"\"\"Bạn được cung cấp một đoạn văn và một câu hỏi, hãy xác định xem đoạn văn có chứa câu trả lời cho câu hỏi không. Response {\"is_answer\": \"yes\"} nếu đoạn văn chứa câu trả lời cho câu hỏi.Response {\"is_answer\": \"no\"} nếu đoạn văn không chứa câu trả lời cho câu hỏi.\"\"\"  # noqa: E501\n"
   ],
   "outputs": [],
   "execution_count": 102
  },
  {
   "metadata": {
    "ExecuteTime": {
     "end_time": "2024-10-02T09:44:18.090164Z",
     "start_time": "2024-10-02T09:44:18.087751Z"
    }
   },
   "cell_type": "code",
   "source": [
    "def parse_qac_response(response):\n",
    "    yes_sub = \"\"\"yes\"\"\"\"\"\n",
    "    no_sub = \"\"\"no\"\"\"\"\"\n",
    "    if yes_sub in response:\n",
    "        return \"yes\"\n",
    "    if no_sub in response:\n",
    "        return \"no\"\n",
    "    return \"not found\""
   ],
   "outputs": [],
   "execution_count": 114
  },
  {
   "metadata": {
    "ExecuteTime": {
     "end_time": "2024-10-02T09:47:19.281671Z",
     "start_time": "2024-10-02T09:47:04.663252Z"
    }
   },
   "cell_type": "code",
   "source": [
    "## Search query \n",
    "contexts = []\n",
    "for query in search_query:\n",
    "    retrieved_documents = [ RetrievedDocument(url = item.url, title = item.title_text, content = item.content_text) for item in search(collection, query, limit = 3)]\n",
    "    for doc in retrieved_documents:\n",
    "        user_query = USER_QAC_MESSAGE_TEMPLATE.format(q=query.strip(), d=doc.content.strip())\n",
    "        ### QAC the search response\n",
    "        qac_res = llm_completion(system_prompt=QAC_SYS_TEMPLATE, user_query=user_query)\n",
    "        if parse_qac_response(qac_res) == \"yes\":\n",
    "            contexts.append(doc)\n",
    "        else:\n",
    "            print(parse_qac_response(qac_res))"
   ],
   "outputs": [
    {
     "name": "stdout",
     "output_type": "stream",
     "text": [
      "no\n",
      "no\n",
      "no\n"
     ]
    }
   ],
   "execution_count": 120
  },
  {
   "metadata": {
    "ExecuteTime": {
     "end_time": "2024-10-02T09:47:19.289307Z",
     "start_time": "2024-10-02T09:47:19.286213Z"
    }
   },
   "cell_type": "code",
   "source": [
    "len(contexts)"
   ],
   "outputs": [
    {
     "data": {
      "text/plain": [
       "9"
      ]
     },
     "execution_count": 121,
     "metadata": {},
     "output_type": "execute_result"
    }
   ],
   "execution_count": 121
  },
  {
   "metadata": {
    "ExecuteTime": {
     "end_time": "2024-10-02T10:06:23.961267Z",
     "start_time": "2024-10-02T10:06:23.951367Z"
    }
   },
   "cell_type": "code",
   "source": [
    "thoughts = None"
   ],
   "outputs": [],
   "execution_count": 123
  },
  {
   "metadata": {
    "ExecuteTime": {
     "end_time": "2024-10-02T10:20:21.925231Z",
     "start_time": "2024-10-02T10:20:21.921884Z"
    }
   },
   "cell_type": "code",
   "source": [
    "USER_MSG_TEMPLATE = \"\"\"Câu hỏi: {q}\n",
    "Search result: ```\n",
    "{snippet}\n",
    "```\"\"\"\n",
    "\n",
    "FINAL_SYS_MSG = (\n",
    "    \"<role>\\nYou are a legal question answering assistant. Your role is to provide accurate,\"\n",
    "    \" relevant and well-structured responses to user queries by leveraging information\"\n",
    "    \" from search results.\\n\\nTo generate a high-quality response:\\n\\n1. Carefully\"\n",
    "    \" analyze the user's question to understand their information needs\\n2. Review the\"\n",
    "    \" search results returned by the system to identify relevant information \\n3.\"\n",
    "    \" Synthesize the key details from the search results into a coherent, informative\"\n",
    "    \" response that directly addresses the user's question\\n4. Structure the response\"\n",
    "    \" as follows:\\n   - Opening (1-3 sentences): Provide a general overview of the\"\n",
    "    \" topic without including specific numerical details \\n   - Answer (detailed\"\n",
    "    \" response): Present the main findings and details from the search results, using\"\n",
    "    \" bullet points (-) to clearly list key information and penalties\\n   - Citation:\"\n",
    "    \" Include references to the search results at the end of the response\\n5. Aim for a\"\n",
    "    \" response length of 500-1000 words\\n6. Write the response in Vietnamese  \\n7.\"\n",
    "    \" Focus only on information directly relevant to answering the question\\n8. Avoid\"\n",
    "    ' using generic phrases like \"Based on the information found in the related'\n",
    "    ' documents,\" \"Your question is unclear,\" or \"based on the information from'\n",
    "    ' [QA-2]\"\\n\\n<response_format>\\n # Mở đầu\\n...\\n\\n# Trả lời\\n\\n...\\n</response_format>\\n</role>'\n",
    ")"
   ],
   "outputs": [],
   "execution_count": 127
  },
  {
   "metadata": {
    "ExecuteTime": {
     "end_time": "2024-10-02T10:20:30.550835Z",
     "start_time": "2024-10-02T10:20:30.548321Z"
    }
   },
   "cell_type": "code",
   "source": [
    "def format_snippets(list_docs: list[RetrievedDocument]):\n",
    "    text = \"\"\n",
    "    for doc in list_docs:\n",
    "        text += \"\\n---\\n\"\n",
    "        text += doc.content.strip() + \"\\n\\n\"\n",
    "        \n",
    "    return text"
   ],
   "outputs": [],
   "execution_count": 128
  },
  {
   "metadata": {
    "ExecuteTime": {
     "end_time": "2024-10-02T10:20:45.839089Z",
     "start_time": "2024-10-02T10:20:31.516554Z"
    }
   },
   "cell_type": "code",
   "source": [
    "snippet_text: str = format_snippets(\n",
    "    contexts\n",
    ")\n",
    "\n",
    "user_msg: str = USER_MSG_TEMPLATE.format(\n",
    "    q=query,\n",
    "    snippet=\" \".join(snippet_text.split(\" \")[:5000]),\n",
    ")\n",
    "\n",
    "if thoughts is not None:\n",
    "    user_msg += \"\\n---\\nFollow these notes to answer:\\n\" + \"\\n\".join(thoughts)\n",
    "    \n",
    "final_response = llm_completion(system_prompt=FINAL_SYS_MSG, user_query=user_msg)\n",
    "\n",
    "print(final_response)"
   ],
   "outputs": [
    {
     "name": "stdout",
     "output_type": "stream",
     "text": [
      "Dựa trên nội dung bạn cung cấp, tôi sẽ giúp tóm tắt và tổ chức lại các mục chính trong phần phát triển hạ tầng dữ liệu của tỉnh Trà Vinh. Dưới đây là bản đồ kế hoạch chi tiết:\n",
      "\n",
      "### 1. Quản lý dữ liệu về công tác dân tộc\n",
      "\n",
      "- **Tổ chức khai thác hiệu quả:**\n",
      "  - Nâng cao hiệu quả quản lý nhà nước.\n",
      "  - Số hóa quy trình, nghiệp vụ quản lý.\n",
      "\n",
      "- **Thu thập và cập nhật dữ liệu:**\n",
      "  - Ban Dân tộc tỉnh chủ trì, phối hợp với các cơ quan liên quan.\n",
      "  - Thu thập, số hóa, cập nhật dữ liệu ban đầu; cập nhập khi có phát sinh, thay đổi.\n",
      "\n",
      "- **Kết nối và đồng bộ dữ liệu:**\n",
      "  - Kết nối CSDL về công tác dân tộc với Kho dữ liệu dùng chung của tỉnh.\n",
      "\n",
      "- **Chia sẻ dữ liệu:**\n",
      "  - Chia sẻ dữ liệu mặc định thông qua dịch vụ chia sẻ.\n",
      "  - Chia sẻ theo yêu cầu đặc thù của cơ quan, đơn vị.\n",
      "\n",
      "### 2. Quản lý dữ liệu về khu kinh tế và khu công nghiệp\n",
      "\n",
      "- **Tổ chức khai thác hiệu quả:**\n",
      "  - Nâng cao hiệu quả quản lý nhà nước.\n",
      "  - Số hóa quy trình, nghiệp vụ quản lý.\n",
      "\n",
      "- **Thu thập và cập nhật dữ liệu:**\n",
      "  - Ban Quản lý Khu kinh tế Trà Vinh chủ trì, phối hợp với các cơ quan liên quan.\n",
      "  - Thu thập, số hóa, cập nhật dữ liệu ban đầu; cập nhập khi có phát sinh, thay đổi.\n",
      "\n",
      "- **Kết nối và đồng bộ dữ liệu:**\n",
      "  - Kết nối CSDL khu kinh tế, khu công nghiệp với các hệ thống thông tin liên quan.\n",
      "\n",
      "### 3. Phát triển hạ tầng dữ liệu\n",
      "\n",
      "- **Tăng cường hoạt động của Trung tâm dữ liệu Bộ Kế hoạch và Đầu tư:**\n",
      "  - Xây dựng theo tiêu chuẩn quy định.\n",
      "  - Kết nối nền tảng điện toán đám mây của Bộ với Chính phủ.\n",
      "  - Kết nối với trạm trung chuyển Internet quốc gia (VNIX).\n",
      "\n",
      "- **Phát triển hạ tầng IoT:**\n",
      "  - Phát triển hạ tầng Internet vạn vật phục vụ ứng dụng nghiệp vụ, chuyên ngành.\n",
      "\n",
      "- **Tập trung phát triển dữ liệu:**\n",
      "  - Tập trung vào các lĩnh vực như đăng ký doanh nghiệp, đầu tư, đấu thầu, đầu tư công, quy hoạch, doanh nghiệp, hợp tác xã, thống kê kinh tế-xã hội, khu công nghiệp, khu kinh tế.\n",
      "  - Xây dựng kế hoạch triển khai nền tảng phân tích, xử lý dữ liệu tổng hợp cấp bộ.\n",
      "\n",
      "### Kết luận\n",
      "\n",
      "- Hoàn thiện hạ tầng kỹ thuật và số hóa quy trình quản lý để nâng cao hiệu quả quản lý nhà nước trong các lĩnh vực công tác dân tộc và khu kinh tế.\n",
      "- Xây dựng nền tảng điện toán đám mây, kết nối mạng quốc gia để đảm bảo tính liên thông và ổn định hoạt động.\n",
      "\n",
      "Những mục này sẽ giúp tổ chức hệ thống dữ liệu một cách có tổ chức, đồng thời tối ưu hóa hiệu suất quản lý và khai thác thông tin.\n"
     ]
    }
   ],
   "execution_count": 129
  },
  {
   "metadata": {},
   "cell_type": "code",
   "outputs": [],
   "execution_count": null,
   "source": [
    "#### TODO:\n",
    "#### https://github.com/NirDiamant/RAG_Techniques/blob/main/all_rag_techniques/retrieval_with_feedback_loop.ipynb\n",
    "### Rerank with cross-encoder model https://github.com/NirDiamant/RAG_Techniques/blob/main/all_rag_techniques/reranking.ipynb\n"
   ]
  }
 ],
 "metadata": {
  "kernelspec": {
   "display_name": "rag_prj",
   "language": "python",
   "name": "python3"
  },
  "language_info": {
   "codemirror_mode": {
    "name": "ipython",
    "version": 3
   },
   "file_extension": ".py",
   "mimetype": "text/x-python",
   "name": "python",
   "nbconvert_exporter": "python",
   "pygments_lexer": "ipython3",
   "version": "3.10.14"
  }
 },
 "nbformat": 4,
 "nbformat_minor": 2
}
