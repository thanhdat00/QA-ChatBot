{
 "cells": [
  {
   "cell_type": "code",
   "execution_count": 2,
   "id": "initial_id",
   "metadata": {
    "collapsed": true,
    "ExecuteTime": {
     "end_time": "2024-10-13T12:35:02.135410589Z",
     "start_time": "2024-10-13T12:35:01.052271600Z"
    }
   },
   "outputs": [],
   "source": [
    "import pandas as pd"
   ]
  },
  {
   "cell_type": "code",
   "outputs": [],
   "source": [
    "import numpy as np\n",
    "\n",
    "class MetricCalculator:\n",
    "    def __init__(self, k=10):\n",
    "        \"\"\"\n",
    "        Initialize the MetricCalculator with an optional parameter k\n",
    "        which defines the number of top results considered for ranking-based metrics.\n",
    "        \"\"\"\n",
    "        self.k = k\n",
    "\n",
    "    def hit_rate(self, expected_ids, actual_ids):\n",
    "        \"\"\"\n",
    "        Hit Rate (HR) measures whether the expected item is in the actual top-k list.\n",
    "        \"\"\"\n",
    "        return int(any([item in actual_ids[:self.k] for item in expected_ids]))\n",
    "\n",
    "    def mrr(self, expected_ids, actual_ids):\n",
    "        \"\"\"\n",
    "        Mean Reciprocal Rank (MRR) evaluates how soon the relevant item appears in the result list.\n",
    "        \"\"\"\n",
    "        for rank, item in enumerate(actual_ids[:self.k], start=1):\n",
    "            if item in expected_ids:\n",
    "                return 1 / rank\n",
    "        return 0\n",
    "\n",
    "    def precision(self, expected_ids, actual_ids):\n",
    "        \"\"\"\n",
    "        Precision is the fraction of retrieved documents that are relevant.\n",
    "        \"\"\"\n",
    "        relevant_items = [item for item in actual_ids[:self.k] if item in expected_ids]\n",
    "        return len(relevant_items) / len(actual_ids[:self.k])\n",
    "\n",
    "    def recall(self, expected_ids, actual_ids):\n",
    "        \"\"\"\n",
    "        Recall is the fraction of relevant documents that are retrieved.\n",
    "        \"\"\"\n",
    "        relevant_items = [item for item in actual_ids[:self.k] if item in expected_ids]\n",
    "        return len(relevant_items) / len(expected_ids)\n",
    "\n",
    "    def average_precision(self, expected_ids, actual_ids):\n",
    "        \"\"\"\n",
    "        Average Precision (AP) measures the precision at the rank of each relevant document.\n",
    "        \"\"\"\n",
    "        relevant_count = 0\n",
    "        precision_sum = 0\n",
    "        for i, item in enumerate(actual_ids[:self.k]):\n",
    "            if item in expected_ids:\n",
    "                relevant_count += 1\n",
    "                precision_sum += relevant_count / (i + 1)\n",
    "        return precision_sum / len(expected_ids) if expected_ids else 0\n",
    "\n",
    "    def dcg(self, actual_ids, expected_ids):\n",
    "        \"\"\"\n",
    "        Discounted Cumulative Gain (DCG) is a measure of ranking quality.\n",
    "        \"\"\"\n",
    "        dcg = 0\n",
    "        for i, item in enumerate(actual_ids[:self.k]):\n",
    "            if item in expected_ids:\n",
    "                dcg += 1 / np.log2(i + 2)\n",
    "        return dcg\n",
    "\n",
    "    def idcg(self, expected_ids):\n",
    "        \"\"\"\n",
    "        Ideal DCG (IDCG) is the best possible DCG score if all relevant documents are ranked at the top.\n",
    "        \"\"\"\n",
    "        idcg = 0\n",
    "        for i in range(min(len(expected_ids), self.k)):\n",
    "            idcg += 1 / np.log2(i + 2)\n",
    "        return idcg\n",
    "\n",
    "    def ndcg(self, expected_ids, actual_ids):\n",
    "        \"\"\"\n",
    "        Normalized Discounted Cumulative Gain (nDCG) is the ratio of DCG to IDCG.\n",
    "        \"\"\"\n",
    "        dcg_score = self.dcg(actual_ids, expected_ids)\n",
    "        idcg_score = self.idcg(expected_ids)\n",
    "        return dcg_score / idcg_score if idcg_score > 0 else 0\n",
    "\n",
    "    def evaluate(self, expected_ids, actual_ids):\n",
    "        \"\"\"\n",
    "        Evaluate all metrics for the given expected and actual IDs.\n",
    "        \"\"\"\n",
    "        metrics = {\n",
    "            \"hit_rate\": self.hit_rate(expected_ids, actual_ids),\n",
    "            \"mrr\": self.mrr(expected_ids, actual_ids),\n",
    "            \"precision\": self.precision(expected_ids, actual_ids),\n",
    "            \"recall\": self.recall(expected_ids, actual_ids),\n",
    "            \"ap\": self.average_precision(expected_ids, actual_ids),\n",
    "            \"ndcg\": self.ndcg(expected_ids, actual_ids)\n",
    "        }\n",
    "        return metrics"
   ],
   "metadata": {
    "collapsed": false,
    "ExecuteTime": {
     "end_time": "2024-10-13T12:35:11.392346504Z",
     "start_time": "2024-10-13T12:35:11.384961631Z"
    }
   },
   "id": "a56dcab888dbd048",
   "execution_count": 3
  },
  {
   "cell_type": "code",
   "outputs": [
    {
     "name": "stdout",
     "output_type": "stream",
     "text": [
      "hit_rate: 1.0000\n",
      "mrr: 0.5000\n",
      "precision: 0.4000\n",
      "recall: 0.6667\n",
      "ap: 0.3333\n",
      "ndcg: 0.4982\n"
     ]
    }
   ],
   "source": [
    "expected = [1, 2, 3]\n",
    "actual = [4, 1, 6, 3, 5, 2]\n",
    "\n",
    "metric_calculator = MetricCalculator(k=5)\n",
    "results = metric_calculator.evaluate(expected, actual)\n",
    "\n",
    "for metric, value in results.items():\n",
    "    print(f\"{metric}: {value:.4f}\")"
   ],
   "metadata": {
    "collapsed": false,
    "ExecuteTime": {
     "end_time": "2024-10-13T12:35:13.227462517Z",
     "start_time": "2024-10-13T12:35:13.224449410Z"
    }
   },
   "id": "19d32b48d8068a0",
   "execution_count": 4
  },
  {
   "cell_type": "code",
   "outputs": [],
   "source": [
    "## TODO: Using questions_eval2.jsonl (p0-9999) file as ground truth, Search using milvus and calculate metrics above"
   ],
   "metadata": {
    "collapsed": false
   },
   "id": "ec1eefb4b598e2a"
  },
  {
   "cell_type": "code",
   "outputs": [],
   "source": [
    "### Generate question based on chunks\n",
    "import openai\n",
    "from openai import OpenAI\n",
    "\n",
    "openai_client = OpenAI(api_key = \"\")"
   ],
   "metadata": {
    "collapsed": false,
    "ExecuteTime": {
     "end_time": "2024-10-13T12:35:15.675128207Z",
     "start_time": "2024-10-13T12:35:15.102679758Z"
    }
   },
   "id": "963108375947e672",
   "execution_count": 5
  },
  {
   "cell_type": "code",
   "outputs": [],
   "source": [
    "DEFAULT_QA_GENERATE_PROMPT_TMPL = \"\"\"\\\n",
    "Context information is below.\n",
    "\n",
    "---------------------\n",
    "{context_str}\n",
    "---------------------\n",
    "\n",
    "Based on the context provided and without relying on prior knowledge, please generate questions related to the given information.\n",
    "\n",
    "You are a Teacher/Professor preparing for an upcoming quiz or examination. Your task is to create {num_questions_per_chunk} diverse questions that cover different aspects of the document. Ensure the questions are clearly based on the context provided. Write the questions in Vietnamese.\n",
    "\"\"\""
   ],
   "metadata": {
    "collapsed": false,
    "ExecuteTime": {
     "end_time": "2024-10-13T12:35:16.501869193Z",
     "start_time": "2024-10-13T12:35:16.498248467Z"
    }
   },
   "id": "751fef29e8c00f14",
   "execution_count": 6
  },
  {
   "cell_type": "code",
   "outputs": [],
   "source": [
    "data_folder_path = '../backend/test_data'\n",
    "df = pd.read_parquet(f\"{data_folder_path}/p0-9999/encoded_data.parquet\")"
   ],
   "metadata": {
    "collapsed": false,
    "ExecuteTime": {
     "end_time": "2024-10-13T12:35:25.355565417Z",
     "start_time": "2024-10-13T12:35:19.761758487Z"
    }
   },
   "id": "13239a736ea13376",
   "execution_count": 7
  },
  {
   "cell_type": "code",
   "outputs": [
    {
     "data": {
      "text/plain": "10012"
     },
     "execution_count": 8,
     "metadata": {},
     "output_type": "execute_result"
    }
   ],
   "source": [
    "len(df)"
   ],
   "metadata": {
    "collapsed": false,
    "ExecuteTime": {
     "end_time": "2024-10-13T12:35:25.362498462Z",
     "start_time": "2024-10-13T12:35:25.359292709Z"
    }
   },
   "id": "b356cb8368ff2cb8",
   "execution_count": 8
  },
  {
   "cell_type": "code",
   "outputs": [],
   "source": [
    "from bs4 import BeautifulSoup\n",
    "\n",
    "def clean_html(html_text):\n",
    "    \"\"\"\n",
    "    Function to remove HTML tags from a string and return plain text.\n",
    "    :param html_text: String containing HTML content.\n",
    "    :return: Cleaned text without HTML tags.\n",
    "    \"\"\"\n",
    "    # Parse the HTML content\n",
    "    soup = BeautifulSoup(html_text, \"html.parser\")\n",
    "    \n",
    "    # Get text with all HTML tags removed\n",
    "    cleaned_text = soup.get_text(separator=' ')\n",
    "    \n",
    "    # Return the cleaned text\n",
    "    return cleaned_text.strip()"
   ],
   "metadata": {
    "collapsed": false,
    "ExecuteTime": {
     "end_time": "2024-10-13T12:35:26.711042851Z",
     "start_time": "2024-10-13T12:35:26.653528756Z"
    }
   },
   "id": "996a17f32822c8af",
   "execution_count": 9
  },
  {
   "cell_type": "code",
   "outputs": [],
   "source": [
    "def get_prompt(content):\n",
    "    \n",
    "    clean_text = clean_html(content)\n",
    "    \n",
    "    generated_prompt = DEFAULT_QA_GENERATE_PROMPT_TMPL.format(\n",
    "        context_str=clean_text, num_questions_per_chunk=2\n",
    "    )\n",
    "    \n",
    "    return generated_prompt"
   ],
   "metadata": {
    "collapsed": false,
    "ExecuteTime": {
     "end_time": "2024-10-13T12:35:32.901454867Z",
     "start_time": "2024-10-13T12:35:32.892354531Z"
    }
   },
   "id": "a55f6ec77519e804",
   "execution_count": 10
  },
  {
   "cell_type": "code",
   "outputs": [],
   "source": [
    "def call_gpt(generated_prompt):\n",
    "    model_response = openai_client.chat.completions.create(\n",
    "            model = \"gpt-4o-mini\",\n",
    "            messages = \n",
    "                        [\n",
    "                            {\"role\": \"system\", \"content\": \"\"},\n",
    "                            {\"role\": \"user\", \"content\": generated_prompt}\n",
    "                        ]\n",
    "        )\n",
    "    response_content = model_response.choices[0].message.content\n",
    "    return response_content"
   ],
   "metadata": {
    "collapsed": false,
    "ExecuteTime": {
     "end_time": "2024-10-13T12:35:34.772157449Z",
     "start_time": "2024-10-13T12:35:34.769916384Z"
    }
   },
   "id": "82587b4d737a7473",
   "execution_count": 11
  },
  {
   "cell_type": "code",
   "outputs": [
    {
     "name": "stdout",
     "output_type": "stream",
     "text": [
      "1245313\n"
     ]
    }
   ],
   "source": [
    "import random\n",
    "\n",
    "random_ids = random.sample(range(1, len(df)), 50)\n",
    "sum = 0\n",
    "for id in random_ids:\n",
    "    content = df['content'][id]\n",
    "    clean_text = clean_html(content)\n",
    "    sum += len(clean_text)\n",
    "    # print(len(content))\n",
    "print(sum)"
   ],
   "metadata": {
    "collapsed": false,
    "ExecuteTime": {
     "end_time": "2024-10-13T12:43:45.361552208Z",
     "start_time": "2024-10-13T12:43:42.525910695Z"
    }
   },
   "id": "a19f8d5743a6d48c",
   "execution_count": 19
  },
  {
   "cell_type": "code",
   "outputs": [
    {
     "name": "stdout",
     "output_type": "stream",
     "text": [
      "50\n"
     ]
    }
   ],
   "source": [
    "question_output = {}\n",
    "print(len(random_ids))"
   ],
   "metadata": {
    "collapsed": false,
    "ExecuteTime": {
     "end_time": "2024-10-13T12:43:47.038263145Z",
     "start_time": "2024-10-13T12:43:47.035031150Z"
    }
   },
   "id": "a7171595e002c029",
   "execution_count": 20
  },
  {
   "cell_type": "code",
   "outputs": [],
   "source": [
    "for id in random_ids:\n",
    "    try:\n",
    "        prompt = get_prompt(df['content'][id])\n",
    "        gpt_response = call_gpt(prompt)\n",
    "        question_output[df['id'][id]] = gpt_response\n",
    "    except Exception as e:\n",
    "        print(\"failed\")\n",
    "        print(df['id'][id])"
   ],
   "metadata": {
    "collapsed": false,
    "ExecuteTime": {
     "end_time": "2024-10-13T12:49:01.538486108Z",
     "start_time": "2024-10-13T12:44:25.451727563Z"
    }
   },
   "id": "e1a79ad992c5b112",
   "execution_count": 21
  },
  {
   "cell_type": "code",
   "outputs": [
    {
     "data": {
      "text/plain": "{9350: '1. Theo Quyết định số 883/QĐ-UBND ngày 23 tháng 3 năm 2024, có bao nhiêu quy trình nội bộ giải quyết thủ tục hành chính đã được phê duyệt? Hãy liệt kê một vài quy trình trong số đó và nêu rõ lĩnh vực mà chúng thuộc về.\\n\\n2. Quyết định nêu rõ các cơ quan có trách nhiệm nào trong việc thực hiện các quy trình nội bộ giải quyết thủ tục hành chính đã được phê duyệt? Nêu cụ thể nghĩa vụ của các cơ quan này.',\n 3218: '1. Theo Quyết định số 997/QĐ-UBND, danh mục thủ tục hành chính nào đã được công bố trong lĩnh vực tài nguyên nước thuộc phạm vi chức năng quản lý nhà nước của Sở Tài nguyên và Môi trường vào ngày 20 tháng 6 năm 2024?\\n\\n2. Quyết định số 997/QĐ-UBND có hiệu lực từ ngày nào và các thủ tục hành chính nào được cho là hết hiệu lực thi hành theo quyết định này?',\n 5728: '1. Nhà hát Ca múa nhạc Thăng Long có những chức năng chính nào theo quy định tại Quyết định số 2554/QĐ-UBND?\\n\\n2. Để thực hiện nhiệm vụ quản lý và phát triển, Nhà hát Ca múa nhạc Thăng Long cần phối hợp với những đơn vị nào, và nội dung phối hợp là gì?',\n 8211: '1. Chi cục Kiểm ngư tỉnh Cà Mau có những chức năng và nhiệm vụ chính nào theo Quyết định số 10/2024/QĐ-UBND? Xin liệt kê ít nhất ba nhiệm vụ cụ thể.\\n\\n2. Theo Quyết định ban hành Quy định tổ chức của Chi cục Kiểm ngư, ai là người đứng đầu và chịu trách nhiệm trước Giám đốc Sở Nông nghiệp và Phát triển nông thôn về hoạt động của đơn vị?',\n 4845: '1. Kế hoạch triển khai thực hiện Đề án \"Phát triển giá trị đa dụng của hệ sinh thái rừng đến năm 2030, tầm nhìn đến năm 2050\" của UBND tỉnh Lào Cai bao gồm những mục tiêu cụ thể nào để nâng cao hiệu quả quản lý và sử dụng bền vững tài nguyên rừng?\\n\\n2. Trong Kế hoạch, các cơ quan và đơn vị nào có trách nhiệm cụ thể trong việc triển khai nhiệm vụ phát triển dịch vụ môi trường rừng và bảo tồn đa dạng sinh học? Hãy nêu rõ các nhiệm vụ của từng cơ quan liên quan.',\n 1848: '1. Quyết định số 3562/QĐ-UBND của Ủy ban nhân dân thành phố Hà Nội được ban hành vào ngày nào và có nội dung gì chính liên quan đến lĩnh vực bảo vệ quyền lợi người tiêu dùng?\\n\\n2. Danh mục thủ tục hành chính mới được công bố trong quyết định này bao gồm bao nhiêu thủ tục, và những thủ tục đó thuộc thẩm quyền giải quyết của cơ quan nào?',\n 4624: '1. Kế hoạch chi trả không dùng tiền mặt đối với đối tượng hưởng lương hưu và trợ cấp bảo hiểm xã hội hàng tháng trên địa bàn tỉnh Bắc Ninh được thực hiện trong khoảng thời gian nào, và những mục tiêu cụ thể nào mà kế hoạch này hướng tới?\\n\\n2. Liệt kê các cơ quan và đơn vị chủ trì hoặc phối hợp thực hiện kế hoạch cao điểm triển khai thực hiện chi trả không dùng tiền mặt theo Quyết định số 630/QĐ-UBND kể tên trong văn bản, và nêu rõ vai trò của từng cơ quan trong quá trình thực hiện kế hoạch này.',\n 5110: '1. Theo Quyết định số 1846/QĐ-UBND ngày 24 tháng 5 năm 2024, thủ tục hành chính nào được công bố mới trong lĩnh vực nghề thủ công mỹ nghệ thuộc phạm vi chức năng quản lý của Sở Công Thương?\\n\\n2. Thời gian tối đa để tổ chức hoạt động xét tặng danh hiệu “Nghệ nhân nhân dân”, “Nghệ nhân ưu tú” trong lĩnh vực nghề thủ công mỹ nghệ tại Hội đồng cấp tỉnh là bao nhiêu ngày?',\n 340: '1. Theo Quyết định số 2017/QĐ-BCT, cơ quan nào có trách nhiệm thực hiện thủ tục hành chính về đăng ký hợp đồng theo mẫu và điều kiện giao dịch chung thuộc thẩm quyền của Bộ Công Thương?\\n\\n2. Về thủ tục thông báo thực hiện hoạt động bán hàng không tại địa điểm giao dịch thường xuyên, tổ chức, cá nhân kinh doanh cần gửi hồ sơ thông báo đến Ủy ban nhân dân cấp xã bao nhiêu ngày làm việc trước khi thực hiện hoạt động?',\n 9843: '1. Quyết định số 470/QĐ-UBND được ban hành bởi đơn vị nào và vào ngày nào? \\n\\n2. Trong nội dung của Quyết định, số lượng quy trình nội bộ được phê duyệt là bao nhiêu quy trình mới và bao nhiêu quy trình được sửa đổi, bổ sung?',\n 9314: '1. Chi cục Phòng, chống tệ nạn xã hội Hà Nội được thành lập dưới sự quản lý của cơ quan nào và có chức năng chính gì theo Quyết định số 1572/QĐ-UBND?\\n\\n2. Vui lòng liệt kê ít nhất ba nhiệm vụ cụ thể của Chi cục Phòng, chống tệ nạn xã hội Hà Nội theo nội dung của Quyết định này.',\n 4272: '1. Theo quy trình giải quyết tố cáo được ban hành tại Quyết định số 164-QĐ/TW, ai là cơ quan có trách nhiệm thành lập đoàn kiểm tra và triển khai kế hoạch giải quyết tố cáo đối với tổ chức đảng trực thuộc Trung ương và đảng viên thuộc diện Trung ương quản lý?\\n\\n2. Trong bước kết thúc của quy trình giải quyết tố cáo, các nội dung chính cần được trình bày tại hội nghị Bộ Chính trị, Ban Bí thư bao gồm những gì?',\n 6954: '1. Theo Quyết định số 769/QĐ-UBND, tỉnh Sơn La đã phê duyệt tổng số bao nhiêu vị trí điểm dừng, đón trả khách tuyến cố định trên các quốc lộ? Vui lòng liệt kê số lượng vị trí theo từng quốc lộ cụ thể.\\n\\n2. Theo nội dung của Quyết định này, ai là cơ quan chủ trì trong việc đầu tư xây dựng các điểm dừng, đón trả khách tuyến cố định, và họ cần phối hợp với cơ quan nào khác trong quá trình thực hiện?',\n 583: '1. Theo Quyết định số 3853/QĐ-UBND ngày 25 tháng 7 năm 2024 của Ủy ban nhân dân Thành phố Hà Nội, có bao nhiêu dự án được điều chỉnh, bổ sung vào Kế hoạch sử dụng đất năm 2024 của huyện Đan Phượng? \\n\\n2. Trong bảng điều chỉnh diện tích các loại đất nông nghiệp, diện tích đất trồng lúa được ghi nhận là bao nhiêu hecta? Hãy chỉ rõ trong số đó có diện tích đất nào chuyên trồng lúa nước.',\n 5790: '1. Theo Quyết định số 926/QĐ-UBND, danh mục thủ tục hành chính nào đã được sửa đổi, bổ sung trong lĩnh vực thủy sản thuộc phạm vi chức năng quản lý của Sở Nông nghiệp và Phát triển nông thôn tỉnh Vĩnh Long?\\n\\n2. Một trong những yêu cầu để được cấp Giấy chứng nhận đăng ký tàu cá theo Luật Thủy sản năm 2017 là gì? Hãy nêu ít nhất ba điều kiện cần thiết để tàu cá đủ điều kiện cấp giấy chứng nhận.',\n 7134: '1. Quyết định số 818/QĐ-UBND ban hành vào ngày nào và do ai ký? \\n\\n2. Thủ tục hành chính nội bộ nào đã bị bãi bỏ theo Quyết định số 818/QĐ-UBND và theo căn cứ văn bản nào?',\n 9529: '1. Quyết định số 1101/QĐ-UBND ngày 21 tháng 3 năm 2024 của Ủy ban nhân dân tỉnh Thanh Hóa công bố điều gì trong lĩnh vực đất đai? \\n\\n2. Những căn cứ nào đã được viện dẫn để Ban hành Quyết định về việc công bố thủ tục hành chính trong lĩnh vực đất đai tại tỉnh Thanh Hóa?',\n 1926: '1. Quyết định số 12/2024/QĐ-UBND của Ủy ban nhân dân tỉnh Phú Thọ quy định về những đối tượng nào áp dụng cho việc quản lý và khoán kinh phí sử dụng xe ô tô phục vụ công tác chung? \\n\\n2. Theo Quyết định này, phương thức quản lý xe ô tô phục vụ công tác chung tại các cơ quan, đơn vị thuộc Tỉnh ủy được quy định như thế nào?',\n 5492: '1. Theo Quyết định số 04/2024/QĐ-UBND ngày 20 tháng 5 năm 2024, Phòng Giáo dục và Đào tạo thuộc Ủy ban nhân dân quận 6 có trách nhiệm tham mưu cho Ủy ban nhân dân quận trong các lĩnh vực nào? \\n\\n2. Quyết định này có hiệu lực thi hành từ ngày nào và thay thế Quyết định nào trước đó?',\n 9875: '1. Theo Quyết định số 409/QĐ-UBND, thủ tục hành chính nào đã được sửa đổi về thẩm quyền giải quyết của Sở Tư pháp tỉnh Bắc Kạn? \\n\\n2. Những văn bản pháp lý nào đã được viện dẫn trong Quyết định này để thực hiện việc công bố danh mục thủ tục hành chính mới?',\n 6030: '1. Quyết định số 1107/QĐ-UBND ngày 10 tháng 5 năm 2024 có nội dung chính là gì và có hiệu lực từ khi nào?\\n\\n2. Tại sao thủ tục hành chính \"Cấp Giấy phép vận chuyển thuốc bảo vệ thực vật\" lại bị bãi bỏ theo Quyết định này, và căn cứ pháp lý nào đã dẫn đến việc bãi bỏ này?',\n 5946: '1. Kế hoạch số 113/KH-UBND ban hành ngày 13 tháng 5 năm 2024 có mục đích gì trong việc thực hiện Nghị quyết số 42-NQ/TW và các chương trình liên quan đến chính sách xã hội tại tỉnh Cà Mau? \\n\\n2. Theo kế hoạch, đến năm 2030, tỉnh Cà Mau đặt mục tiêu nào liên quan đến việc làm và tỷ lệ lao động qua đào tạo?',\n 6852: '1. Kế hoạch triển khai Đề án \"Nâng cao năng lực xuất khẩu tỉnh Vĩnh Long giai đoạn 2021-2025\" năm 2024 có mục đích gì trong việc hỗ trợ doanh nghiệp xuất nhập khẩu trên địa bàn tỉnh?\\n\\n2. Theo Kế hoạch thực hiện, ngân sách dự kiến cho từng nội dung cụ thể nào trong tổng số 300 triệu đồng để triển khai Đề án này?',\n 9252: '1. Thông tư số 21/2024/TT-BTC quy định về định mức chi phí bảo quản hàng dự trữ quốc gia do Tổng cục Dự trữ Nhà nước trực tiếp quản lý. Vui lòng nêu rõ phạm vi điều chỉnh và đối tượng áp dụng của thông tư này.\\n\\n2. Theo phụ lục đính kèm Thông tư số 21/2024/TT-BTC, hãy liệt kê ít nhất ba loại hàng hóa và định mức chi phí bảo quản tương ứng cho mỗi loại hàng hóa đó.',\n 4725: '1. Theo Quyết định số 621/QĐ-UBND ngày 30 tháng 5 năm 2024, trách nhiệm nào được giao cho Sở Tư pháp tỉnh Ninh Thuận sau khi công bố Danh mục và Quy trình nội bộ giải quyết thủ tục hành chính trong lĩnh vực Trọng tài thương mại?\\n\\n2. Liệt kê các bước trong quy trình giải quyết thủ tục Đăng ký hoạt động của Trung tâm Trọng tài sau khi Bộ Tư pháp cấp Giấy phép thành lập, và cho biết thời gian thực hiện của từng bước?',\n 7154: '1. Theo Nghị quyết số 52/NQ-CP ngày 22 tháng 4 năm 2024, mục tiêu chính của Chương trình hành động và Kế hoạch của Chính phủ là gì trong công tác chống khai thác thủy sản bất hợp pháp và phát triển bền vững ngành thủy sản?\\n\\n2. Những nhiệm vụ và giải pháp nào được đề ra trong Nghị quyết này để thực hiện đến tháng 5 năm 2024 nhằm nâng cao nhận thức và trách nhiệm đối với công tác chống khai thác IUU?',\n 5106: '1. Theo Quyết định số 16/2024/QĐ-UBND của Ủy ban Nhân dân tỉnh Bình Định, những quy định nào áp dụng cho các tổ chức, cá nhân liên quan đến hoạt động quản lý, bảo vệ và phát huy giá trị di tích trên địa bàn tỉnh?\\n\\n2. Quy chế Quản lý, bảo vệ và phát huy giá trị di tích lịch sử - văn hóa, danh lam thắng cảnh quy định mốc thời gian có hiệu lực thi hành từ ngày nào và trách nhiệm của cơ quan nào trong việc triển khai thực hiện quy chế này?',\n 8971: '1. Hãy nêu rõ những căn cứ pháp lý quan trọng mà Ủy ban Nhân dân tỉnh Quảng Ngãi dựa vào để phê duyệt Đề án vị trí việc làm trong các đơn vị sự nghiệp công lập thuộc UBND thành phố Quảng Ngãi.\\n\\n2. Theo Đề án vị trí việc làm được phê duyệt, số lượng người làm việc dự kiến cho các đơn vị sự nghiệp công lập thuộc UBND thành phố Quảng Ngãi trong năm 2024 là bao nhiêu? Hãy phân biệt số lượng này theo các lĩnh vực khác nhau.',\n 7197: '1. Quyết định số 34/2024/QĐ-UBND của Ủy ban Nhân dân tỉnh Ninh Bình quy định về vấn đề gì và đối tượng nào sẽ áp dụng nội dung trong quyết định này?\\n\\n2. Theo Quyết định này, đơn giá trồng rừng thay thế cho 01 ha rừng trồng cây Bần chua được xác định là bao nhiêu tiền và có hiệu lực từ khi nào?',\n 5490: '1. Theo Quyết định số 03/2024/QĐ-UBND ngày 20 tháng 5 năm 2024, Phòng Văn hóa và Thông tin thuộc Ủy ban nhân dân quận 6 có những chức năng và nhiệm vụ chính nào trong việc quản lý nhà nước về văn hóa, gia đình, thể dục, thể thao, du lịch và quảng cáo?\\n\\n2. Qui định về cơ cấu tổ chức của Phòng Văn hóa và Thông tin thuộc Ủy ban nhân dân quận 6 nêu rõ số lượng lãnh đạo và biên chế công chức là bao nhiêu? Ai là người có trách nhiệm bổ nhiệm các chức danh này?',\n 9590: '1. Hãy nêu các căn cứ pháp lý mà Chủ tịch Ủy ban nhân dân tỉnh Bình Định dựa vào để ban hành Quyết định số 920/QĐ-UBND về việc công bố sửa đổi, bổ sung danh mục thủ tục hành chính cung cấp dịch vụ công trực tuyến toàn trình.\\n\\n2. Danh mục thủ tục hành chính nào được công bố kèm theo Quyết định số 920/QĐ-UBND? Vui lòng liệt kê ít nhất ba thủ tục hành chính cụ thể trong danh mục đó.',\n 4037: '1. Theo Quyết định số 02/2024/QĐ-UBND, những văn bản quy phạm pháp luật nào được nêu ra làm cơ sở để ban hành Quy định về chức năng, nhiệm vụ, quyền hạn và tổ chức của Phòng Nội vụ thuộc Ủy ban nhân dân Quận 5?\\n\\n2. Trưởng phòng Nội vụ Quận 5 có những trách nhiệm gì theo quy định được nêu trong Quyết định? Hãy liệt kê ít nhất ba trách nhiệm chính.',\n 2427: '1. Theo Quyết định số 1208/QĐ-UBND, danh mục thuốc mua sắm tập trung tại tỉnh Phú Thọ bao gồm bao nhiêu mặt hàng? Hãy nêu rõ các bước thực hiện mua sắm tập trung thuốc theo quyết định này.\\n\\n2. Quyết định số 1208/QĐ-UBND có hiệu lực từ ngày nào và quyết định này thay thế Quyết định nào trước đó? Hãy nêu lý do của việc ban hành quyết định mới này.',\n 2997: '1. Quyết định số 1514/QĐ-UBND được ban hành vào ngày nào và có nội dung chính là gì? \\n\\n2. Theo phụ lục ban hành kèm theo Quyết định số 1514/QĐ-UBND, Sở nào chịu trách nhiệm chủ trì tổ chức tuyên truyền, phổ biến thông tin pháp luật về sở hữu trí tuệ?',\n 6731: '1. Trong Nghị quyết số 04/NQ-HĐND, tỉnh Kiên Giang đã điều chỉnh, bổ sung kế hoạch đầu tư công trung hạn giai đoạn 2021-2025 với tổng số vốn bổ sung tăng là bao nhiêu triệu đồng và gồm bao nhiêu dự án?\\n\\n2. Theo Điều 2 của Nghị quyết, ai chịu trách nhiệm triển khai thực hiện Nghị quyết này và các cơ quan nào có nhiệm vụ giám sát việc thực hiện?',\n 1777: '1. Theo Quyết định số 20/2024/QĐ-UBND, giá dịch vụ cho hành khách qua Cảng du lịch xã Thung Nai là bao nhiêu đồng/lượt và giá dịch vụ neo đậu tàu, thuyền là bao nhiêu đồng/lượt?\\n\\n2. Ai là cơ quan được giao chủ trì để tổ chức triển khai thực hiện việc thu giá dịch vụ sử dụng Cảng Du lịch xã Thung Nai, huyện Cao Phong, tỉnh Hòa Bình theo Quyết định này?',\n 6263: '1. Theo Quyết định số 928/QĐ-UBND ngày 08 tháng 5 năm 2024, các thủ tục hành chính nào trong lĩnh vực Thú y và Thủy sản đã được sửa đổi, bổ sung? Hãy liệt kê cụ thể số lượng thủ tục trong từng lĩnh vực và nêu rõ thời gian có hiệu lực của từng thủ tục.\\n\\n2. Căn cứ vào Quyết định số 928/QĐ-UBND, ai là cơ quan có trách nhiệm công khai nội dung của các thủ tục hành chính được sửa đổi, bổ sung? Hơn nữa, hãy đề cập đến các biện pháp nào được quy định để theo dõi và kiểm tra việc thực hiện công khai thủ tục hành chính.',\n 1868: '1. Trong quyết định số 1923/QĐ-UBND, thủ tục nào có thời gian giải quyết là 115 ngày và lệ phí là 3.000.000 đồng? \\n\\n2. Theo quyết định này, Sở Tư pháp tỉnh Quảng Bình có trách nhiệm gì trong việc thực hiện các thủ tục hành chính được sửa đổi, bổ sung trong lĩnh vực quốc tịch?',\n 6281: '1. Quyết định số 1176/QĐ-UBND được ban hành vào ngày nào và nó liên quan đến lĩnh vực nào trong quản lý nhà nước tại tỉnh Quảng Bình?\\n\\n2. Theo phụ lục kèm theo Quyết định số 1176/QĐ-UBND, hãy liệt kê một trong các thủ tục hành chính cấp huyện và cung cấp thông tin về văn bản quy phạm pháp luật quy định việc bãi bỏ thủ tục đó.',\n 7106: '1. Theo kế hoạch phòng, chống tác hại thuốc lá của tỉnh Bình Thuận đến năm 2030, mục tiêu giảm tỷ lệ sử dụng thuốc lá trong nhóm nam từ 15 tuổi trở lên là bao nhiêu vào giai đoạn 2026 - 2030?\\n\\n2. Các cơ quan, ban ngành nào được chỉ định có nhiệm vụ phối hợp thực hiện các quy định về cấm quảng cáo các sản phẩm thuốc lá trong tỉnh Bình Thuận?',\n 1519: '1. Nêu rõ những lĩnh vực mà kiến nghị của cử tri gửi đến Hội đồng nhân dân tỉnh Sơn La trong Nghị quyết số 342/NQ-HĐND ngày 11 tháng 7 năm 2024 liên quan đến các vấn đề nào?\\n\\n2. Theo Nghị quyết số 342/NQ-HĐND, những biện pháp nào được đề xuất để nâng cao chất lượng và hiệu quả trong việc giải quyết kiến nghị của cử tri tại tỉnh Sơn La?',\n 2989: '1. Quyết định số 1699/QĐ-BGDĐT được ban hành vào ngày nào và có nội dung chính gì liên quan đến việc giáo dục mầm non?\\n\\n2. Ai là tác giả của bộ tài liệu \"Làm quen tiếng Anh (dành cho trẻ 3-6 tuổi)\" và các đơn vị tổ chức biên soạn tài liệu này là gì?',\n 601: '1. Theo Quyết định số 20/2024/QĐ-UBND, đối tượng nào không thuộc phạm vi áp dụng của quyết định này? \\n\\n2. Danh mục tài sản cố định vô hình được quy định chi tiết tại Phụ lục nào ban hành kèm theo Quyết định số 20/2024/QĐ-UBND?',\n 3385: '1. Theo Quyết định số 533/QĐ-UBND ngày 19 tháng 6 năm 2024, hai nhóm thủ tục hành chính liên thông điện tử nào được công bố để thực hiện trên địa bàn tỉnh Ninh Bình?\\n\\n2. Trình tự thực hiện việc đăng ký khai sinh, đăng ký thường trú và cấp thẻ bảo hiểm y tế cho trẻ em dưới 6 tuổi được nêu trong Quyết định này bao gồm mấy bước và mô tả ngắn về bước đầu tiên trong quy trình đó?',\n 7530: '1. Nêu rõ các loại trang phục và tiêu chuẩn trang bị mà lực lượng tham gia bảo vệ an ninh, trật tự ở cơ sở cần có theo Nghị định số 40/2024/NĐ-CP.\\n\\n2. Trình bày quy trình và các bước cụ thể để người tham gia lực lượng bảo vệ an ninh, trật tự ở cơ sở được hưởng chế độ hỗ trợ khi bị ốm đau, tai nạn trong quá trình thực hiện nhiệm vụ.',\n 3731: '1. Quyết định số 839/QĐ-CT ngày 13 tháng 6 năm 2024 của Chủ tịch UBND tỉnh Vĩnh Phúc công bố danh mục bao nhiêu thủ tục hành chính được sửa đổi, bổ sung trong lĩnh vực đường bộ? \\n\\n2. Theo Quyết định này, thời hạn giải quyết thủ tục cấp Giấy phép lái xe quốc tế là bao lâu, và người dân có thể nộp hồ sơ qua những hình thức nào?',\n 3641: '1. Theo Kế hoạch triển khai Nghị quyết số 41-NQ/TW, mục tiêu tổng quát mà UBND tỉnh Bắc Ninh đề ra là gì? Hãy nêu rõ những yếu tố mà tỉnh nhắm đến trong việc phát triển đội ngũ doanh nhân và doanh nghiệp.\\n\\n2. Liệt kê ba nhiệm vụ cụ thể mà Sở Kế hoạch và Đầu tư phải thực hiện theo Kế hoạch này để cải thiện môi trường đầu tư và kinh doanh của tỉnh Bắc Ninh.',\n 3112: '1. Theo Quyết định số 28/2024/QĐ-UBND, tổng số lượng Tổ bảo vệ an ninh, trật tự cần thành lập trên địa bàn tỉnh Đồng Nai là bao nhiêu Tổ? \\n\\n2. Trong phụ lục của Quyết định, hãy nêu rõ số lượng thành viên của Tổ bảo vệ an ninh, trật tự tại phường Tân Phong thuộc thành phố Biên Hòa.',\n 5366: '1. Quyết định số 426/QĐ-CTN được ký vào ngày nào và hiệu lực từ khi nào?\\n\\n2. Hãy nêu rõ thông tin về một trong ba công dân được cho thôi quốc tịch Việt Nam theo Quyết định này, bao gồm họ tên, ngày sinh, và địa chỉ hiện tại.',\n 5115: '1. Theo Chỉ thị số 10/CT-UBND ngày 24 tháng 05 năm 2024 của Ủy ban Nhân dân tỉnh Đắk Lắk, những nguyên nhân nào đã dẫn đến tỷ lệ hòa giải ở cơ sở tại tỉnh còn thấp so với cả nước?  \\n\\n2. Chỉ thị nêu rõ các biện pháp nào mà Sở Tư pháp cần thực hiện để nâng cao năng lực của đội ngũ hòa giải viên ở cơ sở trong giai đoạn 2024 - 2030?'}"
     },
     "execution_count": 22,
     "metadata": {},
     "output_type": "execute_result"
    }
   ],
   "source": [
    "question_output"
   ],
   "metadata": {
    "collapsed": false,
    "ExecuteTime": {
     "end_time": "2024-10-13T12:49:01.587479707Z",
     "start_time": "2024-10-13T12:49:01.545692367Z"
    }
   },
   "id": "ea25c846f1d1e4b4",
   "execution_count": 22
  },
  {
   "cell_type": "code",
   "outputs": [],
   "source": [
    "tmp_res = {str(key): value for key, value in question_output.items()}\n",
    "import json\n",
    "with open('questions.jsonl', 'w') as fp:\n",
    "    json.dump(tmp_res, fp)"
   ],
   "metadata": {
    "collapsed": false,
    "ExecuteTime": {
     "end_time": "2024-10-13T12:50:10.391180713Z",
     "start_time": "2024-10-13T12:50:10.345933283Z"
    }
   },
   "id": "59384d2a5a234f23",
   "execution_count": 24
  },
  {
   "cell_type": "code",
   "outputs": [],
   "source": [
    "import re\n",
    "def convert_to_list_by_index(input_string):\n",
    "    items = re.split(r'\\d+\\.\\s', input_string)\n",
    "    return [item.strip() for item in items if item.strip()]"
   ],
   "metadata": {
    "collapsed": false,
    "ExecuteTime": {
     "end_time": "2024-10-13T12:54:04.475193457Z",
     "start_time": "2024-10-13T12:54:04.433817658Z"
    }
   },
   "id": "665d7e33cddf8249",
   "execution_count": 26
  },
  {
   "cell_type": "code",
   "outputs": [],
   "source": [
    "with open(\"questions_eval2.jsonl\", 'w') as jsonl_file:\n",
    "    # Convert each key-value pair into a JSON object and write to a new line\n",
    "    for key, value in tmp_res.items():\n",
    "        list_value = convert_to_list_by_index(value)\n",
    "        json_line = json.dumps({key: list_value})\n",
    "        jsonl_file.write(json_line + '\\n')"
   ],
   "metadata": {
    "collapsed": false,
    "ExecuteTime": {
     "end_time": "2024-10-13T12:54:15.274683462Z",
     "start_time": "2024-10-13T12:54:15.257760340Z"
    }
   },
   "id": "fee57bcdadc4c3b2",
   "execution_count": 27
  },
  {
   "cell_type": "code",
   "outputs": [],
   "source": [],
   "metadata": {
    "collapsed": false
   },
   "id": "d9907cdd64ea05ae"
  }
 ],
 "metadata": {
  "kernelspec": {
   "display_name": "Python 3",
   "language": "python",
   "name": "python3"
  },
  "language_info": {
   "codemirror_mode": {
    "name": "ipython",
    "version": 2
   },
   "file_extension": ".py",
   "mimetype": "text/x-python",
   "name": "python",
   "nbconvert_exporter": "python",
   "pygments_lexer": "ipython2",
   "version": "2.7.6"
  }
 },
 "nbformat": 4,
 "nbformat_minor": 5
}
