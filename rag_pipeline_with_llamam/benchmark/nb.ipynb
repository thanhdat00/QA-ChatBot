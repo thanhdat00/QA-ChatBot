{
 "cells": [
  {
   "cell_type": "code",
   "execution_count": 1,
   "metadata": {},
   "outputs": [
    {
     "name": "stderr",
     "output_type": "stream",
     "text": [
      "p:\\rag_pipeline_with_llamam\\.venv\\Lib\\site-packages\\tqdm\\auto.py:21: TqdmWarning: IProgress not found. Please update jupyter and ipywidgets. See https://ipywidgets.readthedocs.io/en/stable/user_install.html\n",
      "  from .autonotebook import tqdm as notebook_tqdm\n"
     ]
    },
    {
     "name": "stdout",
     "output_type": "stream",
     "text": [
      "sagemaker.config INFO - Not applying SDK defaults from location: C:\\ProgramData\\sagemaker\\sagemaker\\config.yaml\n",
      "sagemaker.config INFO - Not applying SDK defaults from location: C:\\Users\\ADMIN\\AppData\\Local\\sagemaker\\sagemaker\\config.yaml\n"
     ]
    }
   ],
   "source": [
    "import os\n",
    "from ragas import evaluate, RunConfig\n",
    "from ragas.metrics import faithfulness, answer_correctness, answer_relevancy, answer_similarity, context_recall\n",
    "from datasets import Dataset\n",
    "\n",
    "from langchain_community.embeddings import CohereEmbeddings\n",
    "from langchain_community.llms import Cohere\n",
    "\n",
    "from src.benchmark import Benchmark, QAData"
   ]
  },
  {
   "cell_type": "code",
   "execution_count": 2,
   "metadata": {},
   "outputs": [
    {
     "name": "stderr",
     "output_type": "stream",
     "text": [
      "p:\\rag_pipeline_with_llamam\\.venv\\Lib\\site-packages\\langchain_core\\_api\\deprecation.py:119: LangChainDeprecationWarning: The class `Cohere` was deprecated in LangChain 0.1.14 and will be removed in 0.3.0. An updated version of the class exists in the langchain-cohere package and should be used instead. To use it run `pip install -U langchain-cohere` and import as `from langchain_cohere import Cohere`.\n",
      "  warn_deprecated(\n",
      "p:\\rag_pipeline_with_llamam\\.venv\\Lib\\site-packages\\langchain_core\\_api\\deprecation.py:119: LangChainDeprecationWarning: The class `CohereEmbeddings` was deprecated in LangChain 0.0.30 and will be removed in 0.3.0. An updated version of the class exists in the langchain-cohere package and should be used instead. To use it run `pip install -U langchain-cohere` and import as `from langchain_cohere import CohereEmbeddings`.\n",
      "  warn_deprecated(\n"
     ]
    }
   ],
   "source": [
    "os.environ[\"COHERE_API_KEY\"] = \"qOTcu0Xr3BGmpAO8zk9z41y7gx06mO3cgGQOcvlt\"\n",
    "\n",
    "qa = QAData(\n",
    "    question='What is the primary cause of global warming?',\n",
    "    answer=\"The primary cause of global warming is the increase in greenhouse gases, particularly carbon dioxide (CO2) from human activities such as burning fossil fuels.\",\n",
    "    ground_truth='Increase in greenhouse gases, particularly CO2 from human activities.',\n",
    "    contexts=[\n",
    "        \"The Earth’s climate has been undergoing significant changes over the past century, primarily due to the increased concentration of greenhouse gases in the atmosphere. Human activities, such as burning fossil fuels like coal, oil, and natural gas, have released large amounts of carbon dioxide (CO2) and other greenhouse gases into the atmosphere. These gases trap heat from the sun, leading to a gradual rise in the Earth's temperature, a phenomenon known as global warming. Since the Industrial Revolution, CO2 levels have increased dramatically, contributing to more extreme weather events, rising sea levels, and disruptions to ecosystems worldwide.\",\n",
    "        \"The primary drivers of climate change include the release of greenhouse gases such as carbon dioxide, methane, and nitrous oxide. These gases trap heat in the atmosphere, which causes the greenhouse effect. The burning of fossil fuels, such as coal, oil, and natural gas, is the largest source of greenhouse gas emissions from human activities in the United States. Globally, deforestation and agricultural practices are also significant contributors to greenhouse gas emissions. The long-term consequences of these emissions include rising global temperatures, changes in precipitation patterns, and more frequent and severe natural disasters.\",\n",
    "        \"The greenhouse effect occurs when gases in Earth's atmosphere trap the sun's heat. This process makes Earth much warmer than it would be without an atmosphere. The greenhouse effect is one of the things that makes Earth a comfortable place to live. However, human activities, especially the burning of fossil fuels, have intensified this natural process, resulting in global warming and climate change. Scientists are increasingly concerned that if greenhouse gas emissions continue at the current rate, the world will face dangerous consequences such as rising sea levels, increased frequency of extreme weather events, and significant impacts on biodiversity and human health.\"\n",
    "    ]\n",
    ")\n",
    "\n",
    "benchmark = Benchmark(\n",
    "    llm=Cohere(model=\"command-xlarge\"),\n",
    "    embeddings=CohereEmbeddings(model=\"embed-multilingual-v3.0\"),\n",
    "    metrics=[faithfulness, answer_correctness, answer_relevancy, answer_similarity, context_recall]\n",
    ")"
   ]
  },
  {
   "cell_type": "code",
   "execution_count": 4,
   "metadata": {},
   "outputs": [
    {
     "name": "stderr",
     "output_type": "stream",
     "text": [
      "Evaluating: 100%|██████████| 5/5 [00:18<00:00,  3.66s/it]\n"
     ]
    }
   ],
   "source": [
    "result = benchmark.evaluate(qa)"
   ]
  },
  {
   "cell_type": "code",
   "execution_count": 9,
   "metadata": {},
   "outputs": [
    {
     "name": "stdout",
     "output_type": "stream",
     "text": [
      "{'faithfulness': 1.0, 'answer_correctness': 0.7874923401272615, 'answer_relevancy': 0.8654227762287633, 'answer_similarity': 0.7499693605090458, 'context_recall': 1.0}\n"
     ]
    }
   ],
   "source": [
    "print(result[0])"
   ]
  }
 ],
 "metadata": {
  "kernelspec": {
   "display_name": ".venv",
   "language": "python",
   "name": "python3"
  },
  "language_info": {
   "codemirror_mode": {
    "name": "ipython",
    "version": 3
   },
   "file_extension": ".py",
   "mimetype": "text/x-python",
   "name": "python",
   "nbconvert_exporter": "python",
   "pygments_lexer": "ipython3",
   "version": "3.12.1"
  }
 },
 "nbformat": 4,
 "nbformat_minor": 2
}
