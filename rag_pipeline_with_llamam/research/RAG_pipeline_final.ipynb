{
 "cells": [
  {
   "cell_type": "markdown",
   "metadata": {},
   "source": [
    "# RAG pipeline"
   ]
  },
  {
   "cell_type": "code",
   "execution_count": 58,
   "metadata": {},
   "outputs": [],
   "source": [
    "from langchain_community.llms import Ollama\n",
    "from langchain.chains import RetrievalQA\n",
    "from langchain.text_splitter import CharacterTextSplitter\n",
    "from langchain.document_loaders import CSVLoader\n",
    "from langchain.vectorstores import FAISS\n",
    "import pandas as pd\n",
    "import psycopg2\n",
    "from langchain_huggingface import HuggingFaceEmbeddings\n"
   ]
  },
  {
   "cell_type": "code",
   "execution_count": 59,
   "metadata": {},
   "outputs": [],
   "source": [
    "# Step 4: Initialize LLaMA LLM via Ollama\n",
    "# freeze\n",
    "llm = Ollama(model=\"llama3.1:latest\")\n",
    "# llm = Ollama(model=\"llama3.1:70b\")\n"
   ]
  },
  {
   "cell_type": "code",
   "execution_count": 60,
   "metadata": {},
   "outputs": [
    {
     "name": "stderr",
     "output_type": "stream",
     "text": [
      "Fetching 30 files: 100%|██████████| 30/30 [00:00<00:00, 18930.21it/s]\n",
      "/Volumes/home/Learn/Master/3.LLMs/rag_pipeline/.venv/lib/python3.11/site-packages/FlagEmbedding/BGE_M3/modeling.py:335: FutureWarning: You are using `torch.load` with `weights_only=False` (the current default value), which uses the default pickle module implicitly. It is possible to construct malicious pickle data which will execute arbitrary code during unpickling (See https://github.com/pytorch/pytorch/blob/main/SECURITY.md#untrusted-models for more details). In a future release, the default value for `weights_only` will be flipped to `True`. This limits the functions that could be executed during unpickling. Arbitrary objects will no longer be allowed to be loaded via this mode unless they are explicitly allowlisted by the user via `torch.serialization.add_safe_globals`. We recommend you start setting `weights_only=True` for any use case where you don't have full control of the loaded file. Please open an issue on GitHub for any issues related to this experimental feature.\n",
      "  colbert_state_dict = torch.load(os.path.join(model_dir, 'colbert_linear.pt'), map_location='cpu')\n",
      "/Volumes/home/Learn/Master/3.LLMs/rag_pipeline/.venv/lib/python3.11/site-packages/FlagEmbedding/BGE_M3/modeling.py:336: FutureWarning: You are using `torch.load` with `weights_only=False` (the current default value), which uses the default pickle module implicitly. It is possible to construct malicious pickle data which will execute arbitrary code during unpickling (See https://github.com/pytorch/pytorch/blob/main/SECURITY.md#untrusted-models for more details). In a future release, the default value for `weights_only` will be flipped to `True`. This limits the functions that could be executed during unpickling. Arbitrary objects will no longer be allowed to be loaded via this mode unless they are explicitly allowlisted by the user via `torch.serialization.add_safe_globals`. We recommend you start setting `weights_only=True` for any use case where you don't have full control of the loaded file. Please open an issue on GitHub for any issues related to this experimental feature.\n",
      "  sparse_state_dict = torch.load(os.path.join(model_dir, 'sparse_linear.pt'), map_location='cpu')\n"
     ]
    }
   ],
   "source": [
    "from pymilvus.model.hybrid import BGEM3EmbeddingFunction\n",
    "\n",
    "bge_m3_ef = BGEM3EmbeddingFunction(\n",
    "    model_name='BAAI/bge-m3', # Specify the model name\n",
    "    device='cpu', # Specify the device to use, e.g., 'cpu' or 'cuda:0'\n",
    "    use_fp16=False # Specify whether to use fp16. Set to `False` if `device` is `cpu`.\n",
    ")"
   ]
  },
  {
   "cell_type": "markdown",
   "metadata": {},
   "source": [
    "## Milvus standalone"
   ]
  },
  {
   "cell_type": "code",
   "execution_count": 61,
   "metadata": {},
   "outputs": [],
   "source": [
    "from pymilvus import MilvusClient\n",
    "\n",
    "client = MilvusClient(\n",
    "    uri=\"http://localhost:19530\"\n",
    ")"
   ]
  },
  {
   "cell_type": "code",
   "execution_count": 62,
   "metadata": {},
   "outputs": [],
   "source": [
    "# if client.has_collection(collection_name=\"demo_collection\"):\n",
    "#     client.drop_collection(collection_name=\"demo_collection\")\n",
    "# client.create_collection(\n",
    "#         collection_name=\"demo_collection\",\n",
    "#         dimension=1024,  # The vectors we will use in this demo has 768 dimensions\n",
    "# )\n"
   ]
  },
  {
   "cell_type": "code",
   "execution_count": 63,
   "metadata": {},
   "outputs": [
    {
     "name": "stdout",
     "output_type": "stream",
     "text": [
      "file_name Văn Bản Pháp Luật_p100000-100019.parquet\n",
      "id                                                         100000\n",
      "url             https://thuvienphapluat.vn/van-ban/Quyen-dan-s...\n",
      "title           Quyết định 720/QĐ-CTN năm 2020 về cho thôi quố...\n",
      "created_date                                  2020-05-18 00:00:00\n",
      "updated_date                                  2020-06-03 00:00:00\n",
      "content         b'<div class=\"content1\">\\n <div>\\n  <div>\\n   ...\n",
      "content_raw     <div class=\"content1\">\\n <div>\\n  <div>\\n   <t...\n",
      "Name: 0, dtype: object\n",
      "id                                                         100001\n",
      "url             https://thuvienphapluat.vn/van-ban/Quyen-dan-s...\n",
      "title           Quyết định 719/QĐ-CTN năm 2020 về cho thôi quố...\n",
      "created_date                                  2020-05-18 00:00:00\n",
      "updated_date                                  2020-06-03 00:00:00\n",
      "content         b'<div class=\"content1\">\\n <div>\\n  <div>\\n   ...\n",
      "content_raw     <div class=\"content1\">\\n <div>\\n  <div>\\n   <t...\n",
      "Name: 1, dtype: object\n",
      "id                                                         100002\n",
      "url             https://thuvienphapluat.vn/van-ban/Xay-dung-Do...\n",
      "title           Quyết định 648/QĐ-TTg năm 2020 về phê duyệt nh...\n",
      "created_date                                  2020-05-18 00:00:00\n",
      "updated_date                                  2020-05-18 00:00:00\n",
      "content         b'<div class=\"content1\">\\n <div>\\n  <div>\\n   ...\n",
      "content_raw     <div class=\"content1\">\\n <div>\\n  <div>\\n   <t...\n",
      "Name: 2, dtype: object\n",
      "id                                                         100003\n",
      "url             https://thuvienphapluat.vn/van-ban/Thuong-mai/...\n",
      "title           Quyết định 1000/QĐ-UBND năm 2020 công bố danh ...\n",
      "created_date                                  2020-05-18 00:00:00\n",
      "updated_date                                  2020-08-24 00:00:00\n",
      "content         b'<div class=\"content1\">\\n <div>\\n  <div>\\n   ...\n",
      "content_raw     <div class=\"content1\">\\n <div>\\n  <div>\\n   <t...\n",
      "Name: 3, dtype: object\n",
      "id                                                         100004\n",
      "url             https://thuvienphapluat.vn/van-ban/Bo-may-hanh...\n",
      "title           Quyết định 1517/QĐ-UBND năm 2020 về công bố Da...\n",
      "created_date                                  2020-05-18 00:00:00\n",
      "updated_date                                  2020-09-30 00:00:00\n",
      "content         b'<div class=\"content1\">\\n <div>\\n  <div>\\n   ...\n",
      "content_raw     <div class=\"content1\">\\n <div>\\n  <div>\\n   <t...\n",
      "Name: 4, dtype: object\n",
      "id                                                         100005\n",
      "url             https://thuvienphapluat.vn/van-ban/Thuong-mai/...\n",
      "title           Quyết định 647/QĐ-TTg năm 2020 về phê duyệt Đề...\n",
      "created_date                                  2020-05-18 00:00:00\n",
      "updated_date                                  2020-05-19 00:00:00\n",
      "content         b'<div class=\"content1\">\\n <div>\\n  <div>\\n   ...\n",
      "content_raw     <div class=\"content1\">\\n <div>\\n  <div>\\n   <t...\n",
      "Name: 5, dtype: object\n",
      "id                                                         100006\n",
      "url             https://thuvienphapluat.vn/van-ban/Bo-may-hanh...\n",
      "title           Quyết định 949/QĐ-BGTVT năm 2020 công bố thủ t...\n",
      "created_date                                  2020-05-18 00:00:00\n",
      "updated_date                                  2020-05-21 00:00:00\n",
      "content         b'<div class=\"content1\">\\n <div>\\n  <div>\\n   ...\n",
      "content_raw     <div class=\"content1\">\\n <div>\\n  <div>\\n   <t...\n",
      "Name: 6, dtype: object\n",
      "id                                                         100007\n",
      "url             https://thuvienphapluat.vn/van-ban/Bo-may-hanh...\n",
      "title           Quyết định 579/QĐ-TCCB về Kế hoạch thi và chỉ ...\n",
      "created_date                                  2020-05-18 00:00:00\n",
      "updated_date                                  2020-05-22 00:00:00\n",
      "content         b'<div class=\"content1\">\\n <div>\\n  <div>\\n   ...\n",
      "content_raw     <div class=\"content1\">\\n <div>\\n  <div>\\n   <t...\n",
      "Name: 7, dtype: object\n",
      "id                                                         100008\n",
      "url             https://thuvienphapluat.vn/van-ban/Dau-tu/Quye...\n",
      "title           Quyết định 649/QĐ-TTg năm 2020 về phê duyệt ch...\n",
      "created_date                                  2020-05-18 00:00:00\n",
      "updated_date                                  2020-05-22 00:00:00\n",
      "content         b'<div class=\"content1\">\\n <div>\\n  <div>\\n   ...\n",
      "content_raw     <div class=\"content1\">\\n <div>\\n  <div>\\n   <d...\n",
      "Name: 8, dtype: object\n",
      "id                                                         100009\n",
      "url             https://thuvienphapluat.vn/van-ban/Doanh-nghie...\n",
      "title           Quyết định 13/2020/QĐ-UBND bãi bỏ Quyết định 1...\n",
      "created_date                                  2020-05-18 00:00:00\n",
      "updated_date                                  2020-05-26 00:00:00\n",
      "content         b'<div class=\"content1\">\\n <div>\\n  <div>\\n   ...\n",
      "content_raw     <div class=\"content1\">\\n <div>\\n  <div>\\n   <d...\n",
      "Name: 9, dtype: object\n",
      "id                                                         100010\n",
      "url             https://thuvienphapluat.vn/van-ban/Linh-vuc-kh...\n",
      "title           Quyết định 854/QĐ-UBND về phê duyệt Kế hoạch p...\n",
      "created_date                                  2020-05-18 00:00:00\n",
      "updated_date                                  2020-05-26 00:00:00\n",
      "content         b'<div class=\"content1\">\\n <div>\\n  <div>\\n   ...\n",
      "content_raw     <div class=\"content1\">\\n <div>\\n  <div>\\n   <t...\n",
      "Name: 10, dtype: object\n",
      "id                                                         100011\n",
      "url             https://thuvienphapluat.vn/van-ban/Lao-dong-Ti...\n",
      "title           Quyết định 1079/QĐ-UBND năm 2020 công bố danh ...\n",
      "created_date                                  2020-05-18 00:00:00\n",
      "updated_date                                  2020-05-29 00:00:00\n",
      "content         b'<div class=\"content1\">\\n <div>\\n  <div>\\n   ...\n",
      "content_raw     <div class=\"content1\">\\n <div>\\n  <div>\\n   <d...\n",
      "Name: 11, dtype: object\n",
      "id                                                         100012\n",
      "url             https://thuvienphapluat.vn/van-ban/Thue-Phi-Le...\n",
      "title           Quyết định 09/2020/QĐ-UBND về Bảng giá tính th...\n",
      "created_date                                  2020-05-18 00:00:00\n",
      "updated_date                                  2020-07-21 00:00:00\n",
      "content         b'<div class=\"content1\">\\n <div>\\n  <div>\\n   ...\n",
      "content_raw     <div class=\"content1\">\\n <div>\\n  <div>\\n   <t...\n",
      "Name: 12, dtype: object\n",
      "id                                                         100013\n",
      "url             https://thuvienphapluat.vn/van-ban/Thuong-mai/...\n",
      "title           Quyết định 13/2020/QĐ-UBND về phân cấp thẩm qu...\n",
      "created_date                                  2020-05-18 00:00:00\n",
      "updated_date                                  2020-08-03 00:00:00\n",
      "content         b'<div class=\"content1\">\\n <div>\\n  <div>\\n   ...\n",
      "content_raw     <div class=\"content1\">\\n <div>\\n  <div>\\n   <d...\n",
      "Name: 13, dtype: object\n",
      "id                                                         100014\n",
      "url             https://thuvienphapluat.vn/van-ban/Bo-may-hanh...\n",
      "title           Kế hoạch 112/KH-UBND năm 2020 về thực hiện Quy...\n",
      "created_date                                  2020-05-18 00:00:00\n",
      "updated_date                                  2020-08-18 00:00:00\n",
      "content         b'<div class=\"content1\">\\n <div>\\n  <div>\\n   ...\n",
      "content_raw     <div class=\"content1\">\\n <div>\\n  <div>\\n   <t...\n",
      "Name: 14, dtype: object\n",
      "id                                                         100015\n",
      "url             https://thuvienphapluat.vn/van-ban/Cong-nghe-t...\n",
      "title           Quyết định 859/QĐ-UBND về phê duyệt danh mục d...\n",
      "created_date                                  2020-05-18 00:00:00\n",
      "updated_date                                  2020-06-11 00:00:00\n",
      "content         b'<div class=\"content1\">\\n <div>\\n  <div>\\n   ...\n",
      "content_raw     <div class=\"content1\">\\n <div>\\n  <div>\\n   <d...\n",
      "Name: 15, dtype: object\n",
      "id                                                         100016\n",
      "url             https://thuvienphapluat.vn/van-ban/Dau-tu/Ke-h...\n",
      "title           Kế hoạch 4223/KH-UBND năm 2020 thực hiện Nghị ...\n",
      "created_date                                  2020-05-18 00:00:00\n",
      "updated_date                                  2020-06-18 00:00:00\n",
      "content         b'<div class=\"content1\">\\n <div>\\n  <div>\\n   ...\n",
      "content_raw     <div class=\"content1\">\\n <div>\\n  <div>\\n   <t...\n",
      "Name: 16, dtype: object\n",
      "id                                                         100017\n",
      "url             https://thuvienphapluat.vn/van-ban/Tai-chinh-n...\n",
      "title           Quyết định 22/2020/QĐ-UBND về tiêu chuẩn, định...\n",
      "created_date                                  2020-05-18 00:00:00\n",
      "updated_date                                  2020-06-24 00:00:00\n",
      "content         b'<div class=\"content1\">\\n <div>\\n  <div>\\n   ...\n",
      "content_raw     <div class=\"content1\">\\n <div>\\n  <div>\\n   <t...\n",
      "Name: 17, dtype: object\n",
      "id                                                         100018\n",
      "url             https://thuvienphapluat.vn/van-ban/Tai-chinh-n...\n",
      "title           Quyết định 18/2020/QĐ-UBND quy định về mức giá...\n",
      "created_date                                  2020-05-18 00:00:00\n",
      "updated_date                                  2020-07-25 00:00:00\n",
      "content         b'<div class=\"content1\">\\n <div>\\n  <div>\\n   ...\n",
      "content_raw     <div class=\"content1\">\\n <div>\\n  <div>\\n   <d...\n",
      "Name: 18, dtype: object\n",
      "id                                                         100019\n",
      "url             https://thuvienphapluat.vn/van-ban/Giao-duc/Th...\n",
      "title           Thông báo 1403/TB-GDĐT-KTKĐCLGD năm 2020 về tu...\n",
      "created_date                                  2020-05-18 00:00:00\n",
      "updated_date                                  2020-07-03 00:00:00\n",
      "content         b'<div class=\"content1\">\\n <div>\\n  <div>\\n   ...\n",
      "content_raw     <div class=\"content1\">\\n <div>\\n  <div>\\n   <d...\n",
      "Name: 19, dtype: object\n",
      "{'insert_count': 20, 'ids': [100000, 100001, 100002, 100003, 100004, 100005, 100006, 100007, 100008, 100009, 100010, 100011, 100012, 100013, 100014, 100015, 100016, 100017, 100018, 100019]}\n",
      "Data inserted successfully!\n"
     ]
    }
   ],
   "source": [
    "import os\n",
    "import pandas as pd\n",
    "\n",
    "# Đường dẫn đến thư mục \"Khoi\"\n",
    "folder_path = '../Khoi'\n",
    "\n",
    "# Danh sách lưu trữ các DataFrame\n",
    "df_list = []\n",
    "\n",
    "# Duyệt qua tất cả các file trong thư mục\n",
    "# for file_name in os.listdir('Khoi'):\n",
    "for file_name in ['Văn Bản Pháp Luật_p100000-100019.parquet']:\n",
    "    # Kiểm tra nếu file có định dạng giống \"Văn Bản Pháp Luật_p*.parquet\"\n",
    "    print(\"file_name\", file_name)\n",
    "    file_path = os.path.join(folder_path, file_name)\n",
    "    \n",
    "    # Đọc file Parquet và thêm vào danh sách DataFrame\n",
    "    file_df = pd.read_parquet(file_path)\n",
    "    \n",
    "    # Thực hiện các chuyển đổi tương tự như bạn đã đề cập\n",
    "    file_df['created_date'] = pd.to_datetime(file_df['created_date'], format='%d/%m/%Y')\n",
    "    file_df['updated_date'] = pd.to_datetime(file_df['updated_date'], format='%d/%m/%Y')\n",
    "    file_df['content_raw'] = file_df['content'].apply(lambda x: x.decode('utf-8') if isinstance(x, bytes) else x)\n",
    "    \n",
    "    # df_list.append(file_df)\n",
    "    \n",
    "    \n",
    "\n",
    "    # connection = create_connection()\n",
    "\n",
    "    # cursor = connection.cursor()\n",
    "\n",
    "    try: \n",
    "        # Chèn dữ liệu từ DataFrame vào PostgreSQL\n",
    "        \n",
    "        data = []\n",
    "        for index, item in file_df.iterrows():\n",
    "            print(item)\n",
    "            docs= [f\"{item.title}\"]\n",
    "            \n",
    "            docs_embeddings = bge_m3_ef.encode_documents(docs)\n",
    "\n",
    "            vectors = docs_embeddings[\"dense\"]\n",
    "\n",
    "        \n",
    "            data.append({\"id\": item.id, \"vector\": vectors[0], \"text\": docs[0],\"url\":item.url,\"title\": item.title, \"subject\": \"van_ban_phap_luat\"} )\n",
    "        \n",
    "        res = client.insert(collection_name=\"demo_collection\", data=data)\n",
    "        print(res)\n",
    "        \n",
    "        # Xác nhận các thay đổi vào cơ sở dữ liệu\n",
    "        # connection.commit()\n",
    "\n",
    "    except Exception as e:\n",
    "        print(e)\n",
    "\n",
    "    # Đóng kết nối\n",
    "    # cursor.close()\n",
    "    # connection.close()\n",
    "\n",
    "    print(\"Data inserted successfully!\")\n",
    "\n",
    "\n",
    "# # Nối tất cả các DataFrame lại với nhau thành một DataFrame duy nhất\n",
    "# combined_df = pd.concat(df_list, ignore_index=True)\n",
    "\n",
    "# # Hiển thị vài dòng đầu tiên của DataFrame\n",
    "# combined_df.head()"
   ]
  },
  {
   "cell_type": "code",
   "execution_count": 64,
   "metadata": {},
   "outputs": [],
   "source": [
    "\n",
    "# res = client.query(\n",
    "#     collection_name=\"demo_collection\",  # target collection\n",
    "#     filter='',  # number of returned entities\n",
    "#     limit=100,\n",
    "#     output_fields=[\"id\", 'text'],  # specifies fields to be returned\n",
    "#     # sorted=True, #\n",
    "# )\n",
    "# for item in res:\n",
    "#     print(item)"
   ]
  },
  {
   "cell_type": "code",
   "execution_count": 65,
   "metadata": {},
   "outputs": [],
   "source": [
    "# queries = [\"năm 2020 về cho thôi quốc tịch Việt Nam\"]\n",
    "\n",
    "# query_embeddings = bge_m3_ef.encode_queries(queries)\n",
    "\n",
    "# res = client.search(\n",
    "#     collection_name=\"demo_collection\",  # target collection\n",
    "#     data=[query_embeddings['dense'][0]],  # query vectors\n",
    "#     limit=5,  # number of returned entities\n",
    "#     output_fields=[\"text\", \"subject\"],  # specifies fields to be returned\n",
    "# )\n",
    "# context_items = res[0]\n",
    "\n",
    "# print(context_items)\n",
    "\n"
   ]
  },
  {
   "cell_type": "code",
   "execution_count": 66,
   "metadata": {},
   "outputs": [
    {
     "data": {
      "text/plain": [
       "['Quyết định 720/QĐ-CTN năm 2020 về cho thôi quốc tịch Việt Nam đối với 95 công dân hiện đang cư trú tại Đức do Chủ tịch nước ban hành']"
      ]
     },
     "execution_count": 66,
     "metadata": {},
     "output_type": "execute_result"
    }
   ],
   "source": [
    "context = [item['entity']['text'] for item in context_items]\n",
    "context "
   ]
  },
  {
   "cell_type": "code",
   "execution_count": 67,
   "metadata": {},
   "outputs": [],
   "source": [
    "from langchain.chains import create_retrieval_chain\n",
    "from langchain.chains.combine_documents import create_stuff_documents_chain\n",
    "from langchain_core.prompts import ChatPromptTemplate"
   ]
  },
  {
   "cell_type": "code",
   "execution_count": 68,
   "metadata": {},
   "outputs": [],
   "source": [
    "prompt = '''\n",
    "You are an assistant for question-answering tasks. Use the following pieces of retrieved context to answer the question or history of the chat. If you don't know the answer, just say that you don't know. Use three sentences maximum and keep the answer concise.\n",
    "Question: {question}\n",
    "Context: {context}\n",
    "History:{history}\n",
    "Answer: \n",
    "\n",
    "'''"
   ]
  },
  {
   "cell_type": "code",
   "execution_count": 69,
   "metadata": {},
   "outputs": [],
   "source": [
    "history = []"
   ]
  },
  {
   "cell_type": "code",
   "execution_count": 70,
   "metadata": {},
   "outputs": [],
   "source": [
    "example_messages = llm.invoke(prompt)"
   ]
  },
  {
   "cell_type": "code",
   "execution_count": 71,
   "metadata": {},
   "outputs": [
    {
     "data": {
      "text/plain": [
       "'There is no context provided. What would you like me to do?'"
      ]
     },
     "execution_count": 71,
     "metadata": {},
     "output_type": "execute_result"
    }
   ],
   "source": [
    "example_messages"
   ]
  },
  {
   "cell_type": "code",
   "execution_count": 72,
   "metadata": {},
   "outputs": [],
   "source": [
    "def question_llm(question):\n",
    "  prompt_formatted = prompt.format(question=question, context=context, history=history)\n",
    "  res = llm.invoke(prompt_formatted)\n",
    "  history.append([\n",
    "    ('user',question),\n",
    "    ('system',res)\n",
    "  ])\n",
    "  \n",
    "  # print(prompt_formatted)\n",
    "  print(res)"
   ]
  },
  {
   "cell_type": "code",
   "execution_count": 73,
   "metadata": {},
   "outputs": [
    {
     "name": "stdout",
     "output_type": "stream",
     "text": [
      "Quyết định 720/QĐ-CTN năm 2020 là quyết định của Chủ tịch nước Việt Nam về việc cho thôi quốc tịch Việt Nam đối với 95 công dân. Họ hiện đang cư trú tại Đức. Quyết định này được ban hành vào năm 2020.\n"
     ]
    }
   ],
   "source": [
    "question_llm(\"Quyết định 720/QĐ-CTN năm 2020 là gì\")"
   ]
  },
  {
   "cell_type": "code",
   "execution_count": 74,
   "metadata": {},
   "outputs": [
    {
     "name": "stdout",
     "output_type": "stream",
     "text": [
      "Tôi lấy thông tin từ các văn bản pháp luật, trong trường hợp này là Quyết định 720/QĐ-CTN năm 2020. Cụ thể hơn, thông tin này được thu thập từ trang web của Chủ tịch nước Việt Nam hoặc các cơ quan liên quan đến vấn đề quốc tịch.\n"
     ]
    }
   ],
   "source": [
    "question_llm(\"Bạn lấy thông tin từ đâu\")"
   ]
  },
  {
   "cell_type": "code",
   "execution_count": 75,
   "metadata": {},
   "outputs": [
    {
     "name": "stdout",
     "output_type": "stream",
     "text": [
      "Tôi lấy thông tin từ văn bản pháp luật, cụ thể là Quyết định 720/QĐ-CTN năm 2020 và trang web của Chủ tịch nước Việt Nam. Thông tin này được thu thập từ các cơ quan liên quan đến vấn đề quốc tịch.\n"
     ]
    }
   ],
   "source": [
    "question_llm(\"Câu hỏi về Quyết định 720/QĐ-CTN khi nãy bạn lấy thông tin từ dữ liệu nào\")"
   ]
  },
  {
   "cell_type": "code",
   "execution_count": 76,
   "metadata": {},
   "outputs": [
    {
     "name": "stdout",
     "output_type": "stream",
     "text": [
      "Tôi không có thông tin về câu hỏi tiếp theo của bạn trong cuộc trò chuyện này.\n"
     ]
    }
   ],
   "source": [
    "question_llm(\"Thể hiện các context mà bạn thao khảo\")"
   ]
  },
  {
   "cell_type": "markdown",
   "metadata": {},
   "source": [
    "## FAQ\n",
    "Khi nhận câu hỏi -> Hệ thống detect FAQ -> Trả lời FAQ answer\n",
    "\n",
    "==> Người dùng sửa câu trả lời --> Lưu \n",
    "\n",
    "==> Nếu có version của user khác sửa rồi thì cho user đánh giá cái nào tốt hơn (random 2 cái)\n",
    "\n",
    "Sau 1 khoảng tg câu trả lời nào điểm cao thì update vào FAQ"
   ]
  },
  {
   "cell_type": "code",
   "execution_count": 77,
   "metadata": {},
   "outputs": [],
   "source": [
    "# client.drop_collection(collection_name=\"faq_collection\")\n",
    "\n"
   ]
  },
  {
   "cell_type": "code",
   "execution_count": 78,
   "metadata": {},
   "outputs": [],
   "source": [
    "\n",
    "# client.create_collection(\n",
    "#         collection_name=\"faq_collection\",\n",
    "#         dimension=1024,  # The vectors we will use in this demo has 768 dimensions\n",
    "#         auto_id=True\n",
    "# )"
   ]
  },
  {
   "cell_type": "code",
   "execution_count": 79,
   "metadata": {},
   "outputs": [],
   "source": [
    "# data = [\n",
    "#   {'question': 'Quyết định 720/QĐ-CTN năm 2020 là gì', 'answer': '1'},\n",
    "#   {'question': 'Quyết định 720/QĐ-CTN năm 2020 có gì', 'answer': '2'},\n",
    "#   {'question': 'Tôi yêu em', 'answer': '3'},\n",
    "#   ]\n",
    "# docs= [f\"{item['question']}\" for item in data ]\n",
    "            \n",
    "# docs_embeddings = bge_m3_ef.encode_documents(docs)\n",
    "\n",
    "# vectors = docs_embeddings[\"dense\"]\n",
    "\n",
    "# data = [{\"question\": data[i]['question'], \"vector\": vectors[i], \"answer\":  data[i]['answer']} for i in range(len(vectors)) ]\n",
    "\n",
    "# res = client.insert(collection_name=\"faq_collection\", data=data)\n",
    "# res"
   ]
  },
  {
   "cell_type": "code",
   "execution_count": 80,
   "metadata": {},
   "outputs": [],
   "source": [
    "# faq_queries = [\"Quyết định 720/QĐ-CTN năm 2020\"]\n",
    "\n",
    "# faq_query_embeddings = bge_m3_ef.encode_queries(faq_queries)\n",
    "\n",
    "# faq_query_embeddings"
   ]
  },
  {
   "cell_type": "code",
   "execution_count": 81,
   "metadata": {},
   "outputs": [],
   "source": [
    "# res = client.search(\n",
    "#     collection_name=\"faq_collection\",  # target collection\n",
    "#     data=[faq_query_embeddings['dense'][0]],  # query vectors\n",
    "#     limit=5,  # number of returned entities\n",
    "#     output_fields=[\"question\", \"answer\"],  # specifies fields to be returned\n",
    "# )\n",
    "# context_items = res[0]\n",
    "\n",
    "# print(context_items)\n",
    "\n"
   ]
  }
 ],
 "metadata": {
  "kernelspec": {
   "display_name": ".venv",
   "language": "python",
   "name": "python3"
  },
  "language_info": {
   "codemirror_mode": {
    "name": "ipython",
    "version": 3
   },
   "file_extension": ".py",
   "mimetype": "text/x-python",
   "name": "python",
   "nbconvert_exporter": "python",
   "pygments_lexer": "ipython3",
   "version": "3.11.2"
  }
 },
 "nbformat": 4,
 "nbformat_minor": 2
}
