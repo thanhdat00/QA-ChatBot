{
 "cells": [
  {
   "cell_type": "markdown",
   "metadata": {},
   "source": [
    "# RAG pipeline"
   ]
  },
  {
   "cell_type": "code",
   "execution_count": 1,
   "metadata": {},
   "outputs": [],
   "source": [
    "from langchain.llms import Ollama\n",
    "from langchain.chains import RetrievalQA\n",
    "from langchain.text_splitter import CharacterTextSplitter\n",
    "from langchain.document_loaders import CSVLoader\n",
    "from langchain.vectorstores import FAISS\n",
    "import pandas as pd\n",
    "import psycopg2\n",
    "from langchain_huggingface import HuggingFaceEmbeddings\n"
   ]
  },
  {
   "cell_type": "code",
   "execution_count": 2,
   "metadata": {},
   "outputs": [],
   "source": [
    "# # Step 1: Load Data from CSV\n",
    "# csv_path = \"rag_data.csv\"  # Replace with your CSV file path\n",
    "# loader = CSVLoader(csv_path)\n",
    "# data = loader.load()"
   ]
  },
  {
   "cell_type": "code",
   "execution_count": 3,
   "metadata": {},
   "outputs": [],
   "source": [
    "# print(data)"
   ]
  },
  {
   "cell_type": "code",
   "execution_count": 4,
   "metadata": {},
   "outputs": [],
   "source": [
    "# # Step 2: Split Data into Documents\n",
    "# text_splitter = CharacterTextSplitter(chunk_size=1000, chunk_overlap=200)\n",
    "# documents = text_splitter.split_documents(data)"
   ]
  },
  {
   "cell_type": "code",
   "execution_count": 5,
   "metadata": {},
   "outputs": [],
   "source": [
    "# print(documents)"
   ]
  },
  {
   "cell_type": "code",
   "execution_count": 6,
   "metadata": {},
   "outputs": [],
   "source": [
    "# Step 3: Use Sentence-Transformers for Embeddings\n",
    "# Load a pre-trained sentence transformer model\n",
    "# embeddings = HuggingFaceEmbeddings(model_name=\"cointegrated/rubert-tiny2\")\n",
    "\n",
    "# Create embeddings for documents\n",
    "# embeddings = embedding_model.encode([doc.page_content for doc in documents])\n",
    "\n",
    "# Create FAISS vector store\n",
    "# vectorstore = FAISS.from_documents(documents, embeddings)\n"
   ]
  },
  {
   "cell_type": "code",
   "execution_count": 7,
   "metadata": {},
   "outputs": [],
   "source": [
    "# Step 4: Initialize LLaMA LLM via Ollama\n",
    "llm = Ollama(model=\"llama3.1:latest\")\n"
   ]
  },
  {
   "cell_type": "code",
   "execution_count": 8,
   "metadata": {},
   "outputs": [],
   "source": [
    "# # # Step 5: Create the RAG Pipeline with LangChain's RetrievalQA Chain\n",
    "# qa_chain = RetrievalQA.from_chain_type(\n",
    "#     llm=llm,\n",
    "#     chain_type=\"stuff\",  # You can also use \"map_reduce\" for larger datasets\n",
    "#     retriever=vectorstore.as_retriever()\n",
    "# )\n"
   ]
  },
  {
   "cell_type": "code",
   "execution_count": 9,
   "metadata": {},
   "outputs": [],
   "source": [
    "\n",
    "# # Step 6: Run a Q&A Test\n",
    "# query = \"FPT Smart Cloud là gì\"\n",
    "# result = qa_chain.run(query)\n",
    "# print(result)"
   ]
  },
  {
   "cell_type": "markdown",
   "metadata": {},
   "source": [
    "# Database integrate"
   ]
  },
  {
   "cell_type": "code",
   "execution_count": 10,
   "metadata": {},
   "outputs": [],
   "source": [
    "# import pandas as pd\n",
    "# df = pd.read_parquet('Văn Bản Pháp Luật_p100000-100019.parquet')\n",
    "# # Đọc file Parquet bằng pandas\n",
    "# parquet_file_path = 'Văn Bản Pháp Luật_p100000-100019.parquet'  # Đường dẫn đến file Parquet\n",
    "# df = pd.read_parquet(parquet_file_path)\n",
    "# df['created_date'] = pd.to_datetime(df['created_date'], format='%d/%m/%Y')\n",
    "# df['updated_date'] = pd.to_datetime(df['updated_date'], format='%d/%m/%Y')\n",
    "# df['content_raw'] =  df['content'].apply(lambda x: x.decode('utf-8') if isinstance(x, bytes) else x)\n",
    "# df.head()\n"
   ]
  },
  {
   "cell_type": "code",
   "execution_count": null,
   "metadata": {},
   "outputs": [],
   "source": []
  },
  {
   "cell_type": "code",
   "execution_count": 11,
   "metadata": {},
   "outputs": [],
   "source": [
    "# # df = combined_df\n",
    "# df.info()"
   ]
  },
  {
   "cell_type": "code",
   "execution_count": 12,
   "metadata": {},
   "outputs": [],
   "source": [
    "# Kết nối tới PostgreSQL\n",
    "def create_connection():\n",
    "    connection = psycopg2.connect(\n",
    "        host=\"localhost\",\n",
    "        port=\"5432\",\n",
    "        user=\"postgres\",\n",
    "        password=\"123456\",\n",
    "        database=\"db_llm\"\n",
    "    )\n",
    "    return connection"
   ]
  },
  {
   "cell_type": "code",
   "execution_count": 13,
   "metadata": {},
   "outputs": [],
   "source": [
    "# import os\n",
    "# import pandas as pd\n",
    "\n",
    "# # Đường dẫn đến thư mục \"Khoi\"\n",
    "# folder_path = 'Khoi'\n",
    "\n",
    "# # Danh sách lưu trữ các DataFrame\n",
    "# df_list = []\n",
    "\n",
    "# # Duyệt qua tất cả các file trong thư mục\n",
    "# for file_name in os.listdir('Khoi'):\n",
    "#     # Kiểm tra nếu file có định dạng giống \"Văn Bản Pháp Luật_p*.parquet\"\n",
    "#     print(\"file_name\", file_name)\n",
    "#     file_path = os.path.join(folder_path, file_name)\n",
    "    \n",
    "#     # Đọc file Parquet và thêm vào danh sách DataFrame\n",
    "#     file_df = pd.read_parquet(file_path)\n",
    "    \n",
    "#     # Thực hiện các chuyển đổi tương tự như bạn đã đề cập\n",
    "#     file_df['created_date'] = pd.to_datetime(file_df['created_date'], format='%d/%m/%Y')\n",
    "#     file_df['updated_date'] = pd.to_datetime(file_df['updated_date'], format='%d/%m/%Y')\n",
    "#     file_df['content_raw'] = file_df['content'].apply(lambda x: x.decode('utf-8') if isinstance(x, bytes) else x)\n",
    "    \n",
    "#     # df_list.append(file_df)\n",
    "    \n",
    "    \n",
    "\n",
    "#     connection = create_connection()\n",
    "\n",
    "#     cursor = connection.cursor()\n",
    "\n",
    "#     try: \n",
    "#         # Chèn dữ liệu từ DataFrame vào PostgreSQL\n",
    "#         for index, row in file_df.iterrows():\n",
    "#             cursor.execute(\n",
    "#                 \"\"\"\n",
    "#                 INSERT INTO page_content (type, id, url, title, created_date, updated_date, content, content_raw)\n",
    "#                 VALUES (%s, %s, %s, %s, %s, %s, %s, %s)\n",
    "#                 \"\"\",\n",
    "#                 (\"van_ban_phap_luat\",row['id'], row['url'], row['title'], row['created_date'], row['updated_date'], row['content'], row['content_raw'])\n",
    "#             )\n",
    "\n",
    "#         # Xác nhận các thay đổi vào cơ sở dữ liệu\n",
    "#         connection.commit()\n",
    "\n",
    "#     except Exception as e:\n",
    "#         print(e)\n",
    "\n",
    "#     # Đóng kết nối\n",
    "#     cursor.close()\n",
    "#     connection.close()\n",
    "\n",
    "#     print(\"Data inserted successfully!\")\n",
    "\n",
    "\n",
    "# # # Nối tất cả các DataFrame lại với nhau thành một DataFrame duy nhất\n",
    "# # combined_df = pd.concat(df_list, ignore_index=True)\n",
    "\n",
    "# # # Hiển thị vài dòng đầu tiên của DataFrame\n",
    "# # combined_df.head()"
   ]
  },
  {
   "cell_type": "code",
   "execution_count": 14,
   "metadata": {},
   "outputs": [],
   "source": [
    "\n",
    "\n",
    "# connection = create_connection()\n",
    "\n",
    "# cursor = connection.cursor()\n",
    "\n",
    "# try: \n",
    "#     # Chèn dữ liệu từ DataFrame vào PostgreSQL\n",
    "#     for index, row in df.iterrows():\n",
    "#         cursor.execute(\n",
    "#             \"\"\"\n",
    "#             INSERT INTO page_content (type, id, url, title, created_date, updated_date, content, content_raw)\n",
    "#             VALUES (%s, %s, %s, %s, %s, %s, %s, %s)\n",
    "#             \"\"\",\n",
    "#             (\"van_ban_phap_luat\",row['id'], row['url'], row['title'], row['created_date'], row['updated_date'], row['content'], row['content_raw'])\n",
    "#         )\n",
    "\n",
    "#     # Xác nhận các thay đổi vào cơ sở dữ liệu\n",
    "#     connection.commit()\n",
    "\n",
    "# except Exception as e:\n",
    "#     print(e)\n",
    "\n",
    "# # Đóng kết nối\n",
    "# cursor.close()\n",
    "# connection.close()\n",
    "\n",
    "# print(\"Data inserted successfully!\")\n"
   ]
  },
  {
   "cell_type": "code",
   "execution_count": 15,
   "metadata": {},
   "outputs": [
    {
     "name": "stderr",
     "output_type": "stream",
     "text": [
      "/var/folders/38/q1znsjsj5c17qlggflslw4000000gn/T/ipykernel_30072/1450111919.py:6: UserWarning: pandas only supports SQLAlchemy connectable (engine/connection) or database string URI or sqlite3 DBAPI2 connection. Other DBAPI2 objects are not tested. Please consider using SQLAlchemy.\n",
      "  df = pd.read_sql_query(query, connection)\n"
     ]
    },
    {
     "data": {
      "text/html": [
       "<div>\n",
       "<style scoped>\n",
       "    .dataframe tbody tr th:only-of-type {\n",
       "        vertical-align: middle;\n",
       "    }\n",
       "\n",
       "    .dataframe tbody tr th {\n",
       "        vertical-align: top;\n",
       "    }\n",
       "\n",
       "    .dataframe thead th {\n",
       "        text-align: right;\n",
       "    }\n",
       "</style>\n",
       "<table border=\"1\" class=\"dataframe\">\n",
       "  <thead>\n",
       "    <tr style=\"text-align: right;\">\n",
       "      <th></th>\n",
       "      <th>type</th>\n",
       "      <th>id</th>\n",
       "      <th>url</th>\n",
       "      <th>title</th>\n",
       "      <th>created_date</th>\n",
       "      <th>updated_date</th>\n",
       "      <th>content</th>\n",
       "      <th>content_raw</th>\n",
       "    </tr>\n",
       "  </thead>\n",
       "  <tbody>\n",
       "    <tr>\n",
       "      <th>0</th>\n",
       "      <td>van_ban_phap_luat</td>\n",
       "      <td>100000</td>\n",
       "      <td>https://thuvienphapluat.vn/van-ban/Quyen-dan-s...</td>\n",
       "      <td>Quyết định 720/QĐ-CTN năm 2020 về cho thôi quố...</td>\n",
       "      <td>2020-05-18</td>\n",
       "      <td>2020-06-03</td>\n",
       "      <td>\\x3c64697620636c6173733d22636f6e74656e7431223e...</td>\n",
       "      <td>&lt;div class=\"content1\"&gt;\\n &lt;div&gt;\\n  &lt;div&gt;\\n   &lt;t...</td>\n",
       "    </tr>\n",
       "    <tr>\n",
       "      <th>1</th>\n",
       "      <td>van_ban_phap_luat</td>\n",
       "      <td>100001</td>\n",
       "      <td>https://thuvienphapluat.vn/van-ban/Quyen-dan-s...</td>\n",
       "      <td>Quyết định 719/QĐ-CTN năm 2020 về cho thôi quố...</td>\n",
       "      <td>2020-05-18</td>\n",
       "      <td>2020-06-03</td>\n",
       "      <td>\\x3c64697620636c6173733d22636f6e74656e7431223e...</td>\n",
       "      <td>&lt;div class=\"content1\"&gt;\\n &lt;div&gt;\\n  &lt;div&gt;\\n   &lt;t...</td>\n",
       "    </tr>\n",
       "  </tbody>\n",
       "</table>\n",
       "</div>"
      ],
      "text/plain": [
       "                type      id  \\\n",
       "0  van_ban_phap_luat  100000   \n",
       "1  van_ban_phap_luat  100001   \n",
       "\n",
       "                                                 url  \\\n",
       "0  https://thuvienphapluat.vn/van-ban/Quyen-dan-s...   \n",
       "1  https://thuvienphapluat.vn/van-ban/Quyen-dan-s...   \n",
       "\n",
       "                                               title created_date  \\\n",
       "0  Quyết định 720/QĐ-CTN năm 2020 về cho thôi quố...   2020-05-18   \n",
       "1  Quyết định 719/QĐ-CTN năm 2020 về cho thôi quố...   2020-05-18   \n",
       "\n",
       "  updated_date                                            content  \\\n",
       "0   2020-06-03  \\x3c64697620636c6173733d22636f6e74656e7431223e...   \n",
       "1   2020-06-03  \\x3c64697620636c6173733d22636f6e74656e7431223e...   \n",
       "\n",
       "                                         content_raw  \n",
       "0  <div class=\"content1\">\\n <div>\\n  <div>\\n   <t...  \n",
       "1  <div class=\"content1\">\\n <div>\\n  <div>\\n   <t...  "
      ]
     },
     "execution_count": 15,
     "metadata": {},
     "output_type": "execute_result"
    }
   ],
   "source": [
    "connection = create_connection()\n",
    "# Query to fetch data\n",
    "query = \"SELECT * FROM page_content limit 1000;\"\n",
    "\n",
    "# Load data into a DataFrame\n",
    "df = pd.read_sql_query(query, connection)\n",
    "\n",
    "# Close the connection\n",
    "connection.close()\n",
    "\n",
    "df.head(2)"
   ]
  },
  {
   "cell_type": "code",
   "execution_count": 16,
   "metadata": {},
   "outputs": [
    {
     "name": "stderr",
     "output_type": "stream",
     "text": [
      "/var/folders/38/q1znsjsj5c17qlggflslw4000000gn/T/ipykernel_30072/3549705010.py:10: UserWarning: pandas only supports SQLAlchemy connectable (engine/connection) or database string URI or sqlite3 DBAPI2 connection. Other DBAPI2 objects are not tested. Please consider using SQLAlchemy.\n",
      "  df = pd.read_sql_query(query, connection)\n"
     ]
    }
   ],
   "source": [
    "\n",
    "# Define the Document class\n",
    "class Document:\n",
    "    def __init__(self,page_content,metadata):\n",
    "        self.page_content = page_content\n",
    "        self.metadata = metadata\n",
    "# Connect to PostgreSQL and fetch data\n",
    "def fetch_data_from_postgres():\n",
    "    connection = create_connection()\n",
    "    query = \"SELECT * FROM page_content limit 1000;\"\n",
    "    df = pd.read_sql_query(query, connection)\n",
    "    connection.close()\n",
    "    return df\n",
    "\n",
    "# Convert DataFrame to Document objects\n",
    "def convert_df_to_documents(df):\n",
    "    documents = [\n",
    "        Document(\n",
    "            # page_content=f\"ID: {row.id}, Title: {row.title}, Content: {row.content_raw}\",  # or combine other fields if needed\n",
    "            page_content=f\"ID: {row.id}\\n Title: {row.title}\",  # or combine other fields if needed\n",
    "            metadata={\n",
    "                'id': row['id'],\n",
    "                'url': row['url'],\n",
    "                'title': row['title'],\n",
    "                # 'created_date': row['created_date'],\n",
    "                # 'updated_date': row['updated_date']\n",
    "            }\n",
    "        )\n",
    "        for _, row in df.iterrows()\n",
    "    ]\n",
    "    return documents\n",
    "\n",
    "# Fetch data\n",
    "df = fetch_data_from_postgres()\n",
    "\n",
    "# Convert to Document objects\n",
    "documents = convert_df_to_documents(df)\n",
    "\n",
    "# Example usage\n",
    "# for doc in documents:\n",
    "#     print(f\"page_content: {doc.page_content}\")  # "
   ]
  },
  {
   "cell_type": "code",
   "execution_count": 17,
   "metadata": {},
   "outputs": [],
   "source": [
    "# embeddings = HuggingFaceEmbeddings(model_name=\"cointegrated/rubert-tiny2\")"
   ]
  },
  {
   "cell_type": "code",
   "execution_count": 18,
   "metadata": {},
   "outputs": [],
   "source": [
    "# vectorstore = FAISS.from_documents(documents, embeddings)"
   ]
  },
  {
   "cell_type": "code",
   "execution_count": 19,
   "metadata": {},
   "outputs": [],
   "source": [
    "# # Step 5: Create the RAG Pipeline with LangChain's RetrievalQA Chain\n",
    "# qa_chain = RetrievalQA.from_chain_type(\n",
    "#     llm=llm,\n",
    "#     chain_type=\"stuff\",  # You can also use \"map_reduce\" for larger datasets\n",
    "#     retriever=vectorstore.as_retriever()\n",
    "# )"
   ]
  },
  {
   "cell_type": "code",
   "execution_count": null,
   "metadata": {},
   "outputs": [],
   "source": []
  },
  {
   "cell_type": "code",
   "execution_count": 20,
   "metadata": {},
   "outputs": [],
   "source": [
    "\n",
    "\n",
    "\n",
    "# # Step 6: Run a Q&A Test\n",
    "# query = \"4223/KH-UBND năm 2020 \"\n",
    "# # result = qa_chain.run(query)\n",
    "# result = vectorstore.similarity_search(query)\n",
    "# show_result = [{'url': item.metadata['url'],'title': item.metadata['title'] } for item in result]\n",
    "\n",
    "# show_result\n"
   ]
  },
  {
   "cell_type": "code",
   "execution_count": 21,
   "metadata": {},
   "outputs": [],
   "source": [
    "# retriever = vectorstore.as_retriever(search_type=\"mmr\", search_kwargs={\"k\": 1})\n",
    "# result = retriever.invoke(query)\n",
    "# show_result = [{'url': item.metadata['url'],'title': item.metadata['title'] } for item in result]\n",
    "\n",
    "# show_result"
   ]
  },
  {
   "cell_type": "code",
   "execution_count": 22,
   "metadata": {},
   "outputs": [],
   "source": [
    "def print_result(result):\n",
    "  show_result = [{'url': item.metadata['url'],'title': item.metadata['title'] } for item in result]\n",
    "  print(show_result)"
   ]
  },
  {
   "cell_type": "code",
   "execution_count": 23,
   "metadata": {},
   "outputs": [],
   "source": [
    "def dynamic_embedding_model(query,model):\n",
    "  embeddings = HuggingFaceEmbeddings(model_name=model)\n",
    "  vectorstore = FAISS.from_documents(documents, embeddings)\n",
    "  \n",
    "  result_search = vectorstore.similarity_search(query)\n",
    "  print(model)\n",
    "  print_result(result_search)\n",
    "\n"
   ]
  },
  {
   "cell_type": "code",
   "execution_count": 24,
   "metadata": {},
   "outputs": [
    {
     "name": "stderr",
     "output_type": "stream",
     "text": [
      "/Volumes/home/Learn/Master/3.LLMs/rag_pipeline/.venv/lib/python3.11/site-packages/sentence_transformers/cross_encoder/CrossEncoder.py:11: TqdmWarning: IProgress not found. Please update jupyter and ipywidgets. See https://ipywidgets.readthedocs.io/en/stable/user_install.html\n",
      "  from tqdm.autonotebook import tqdm, trange\n",
      "/Volumes/home/Learn/Master/3.LLMs/rag_pipeline/.venv/lib/python3.11/site-packages/transformers/tokenization_utils_base.py:1601: FutureWarning: `clean_up_tokenization_spaces` was not set. It will be set to `True` by default. This behavior will be depracted in transformers v4.45, and will be then set to `False` by default. For more details check this issue: https://github.com/huggingface/transformers/issues/31884\n",
      "  warnings.warn(\n"
     ]
    },
    {
     "name": "stdout",
     "output_type": "stream",
     "text": [
      "cointegrated/rubert-tiny2\n",
      "[{'url': 'https://thuvienphapluat.vn/van-ban/Thuong-mai/Quyet-dinh-48-2018-QD-UBND-quyen-han-va-co-cau-to-chuc-cua-So-Cong-Thuong-Binh-Phuoc-400999.aspx', 'title': 'Quyết định 48/2018/QĐ-UBND quy định về chức năng, nhiệm vụ, quyền hạn và cơ cấu tổ chức của Sở Công Thương tỉnh Bình Phước'}, {'url': 'https://thuvienphapluat.vn/van-ban/Cong-nghe-thong-tin/Quyet-dinh-599-QD-UBND-2018-ung-dung-Cong-nghe-thong-tin-Gia-Lai-407576.aspx', 'title': 'Quyết định 599/QĐ-UBND năm 2018 về Kế hoạch ứng dụng Công nghệ thông tin trong hoạt động các cơ quan Nhà nước trên địa bàn tỉnh Gia Lai năm 2019'}, {'url': 'https://thuvienphapluat.vn/van-ban/Bo-may-hanh-chinh/Quyet-dinh-474-QD-UBND-2019-bai-bo-Quyet-dinh-2191-QD-UBND-Can-Tho-409552.aspx', 'title': 'Quyết định 474/QĐ-UBND năm 2019 bãi bỏ Quyết định 2191/QĐ-UBND và 2984/QĐ-UBND do thành phố Cần Thơ ban hành'}, {'url': 'https://thuvienphapluat.vn/van-ban/Bo-may-hanh-chinh/Quyet-dinh-47-2018-QD-UBND-quy-dinh-chuc-nang-nhiem-vu-quyen-han-cua-Thanh-tra-Binh-Phuoc-401015.aspx', 'title': 'Quyết định 47/2018/QĐ-UBND quy định về chức năng, nhiệm vụ, quyền hạn và cơ cấu tổ chức của Thanh tra tỉnh Bình Phước'}]\n",
      "sentence-transformers/all-MiniLM-L6-v2\n",
      "[{'url': 'https://thuvienphapluat.vn/van-ban/Xay-dung-Do-thi/Nghi-quyet-18-2019-NQ-HDND-sua-doi-Nghi-quyet-ve-Chuong-trinh-phat-trien-nha-o-tinh-Hai-Duong-434258.aspx', 'title': 'Nghị quyết 18/2019/NQ-HĐND sửa đổi Nghị quyết 01/2018/NQ-HĐND về Chương trình phát triển nhà ở tỉnh Hải Dương đến năm 2020 và tầm nhìn đến năm 2030'}, {'url': 'https://thuvienphapluat.vn/van-ban/Bo-may-hanh-chinh/Quyet-dinh-30-2016-QD-UBND-Quy-che-lam-viec-cua-Uy-ban-nhan-dan-Ca-Mau-nhiem-ky-2016-2021-329086.aspx', 'title': 'Quyết định 30/2016/QĐ-UBND Quy chế làm việc của Ủy ban nhân dân tỉnh Cà Mau nhiệm kỳ 2016-2021'}, {'url': 'https://thuvienphapluat.vn/van-ban/Tai-nguyen-Moi-truong/Quyet-dinh-3722-QD-UBND-2018-ket-qua-ra-soat-quy-hoach-ba-loai-rung-Quang-Ninh-den-2025-440808.aspx', 'title': 'Quyết định 3722/QĐ-UBND năm 2018 phê duyệt kết quả rà soát, điều chỉnh quy hoạch ba loại rừng đến năm 2025, định hướng đến năm 2030 tỉnh Quảng Ninh'}, {'url': 'https://thuvienphapluat.vn/van-ban/Tai-chinh-nha-nuoc/Quyet-dinh-12-2019-QD-UBND-bo-sung-Quyet-dinh-1568-2017-QD-UBND-Quang-Ninh-410569.aspx', 'title': 'Quyết định 12/2019/QĐ-UBND bổ sung Quyết định 1568/2017/QĐ-UBND quy định về mức hỗ trợ để khôi phục sản xuất nông nghiệp vùng bị thiệt hại do thiên tai, dịch bệnh trên địa bàn tỉnh Quảng Ninh theo Nghị định 02/2017/NĐ-CP'}]\n",
      "BAAI/bge-m3\n",
      "[{'url': 'https://thuvienphapluat.vn/van-ban/Bo-may-hanh-chinh/Quyet-dinh-474-QD-UBND-2019-bai-bo-Quyet-dinh-2191-QD-UBND-Can-Tho-409552.aspx', 'title': 'Quyết định 474/QĐ-UBND năm 2019 bãi bỏ Quyết định 2191/QĐ-UBND và 2984/QĐ-UBND do thành phố Cần Thơ ban hành'}, {'url': 'https://thuvienphapluat.vn/van-ban/Cong-nghe-thong-tin/Quyet-dinh-598-QD-UBND-2018-quan-ly-khai-thac-va-su-dung-thong-tin-du-lieu-tai-nguyen-Gia-Lai-407575.aspx', 'title': 'Quyết định 598/QĐ-UBND năm 2018 về Kế hoạch thu thập, cập nhật, quản lý, khai thác và sử dụng thông tin, dữ liệu tài nguyên và môi trường năm 2019 do tỉnh Gia Lai ban hành'}, {'url': 'https://thuvienphapluat.vn/van-ban/Bo-may-hanh-chinh/Quyet-dinh-1138-QD-UBND-2018-phoi-hop-cong-tac-Uy-ban-nhan-dan-Hoi-Cuu-chien-binh-Dak-Nong-397714.aspx', 'title': 'Quyết định 1138/QĐ-UBND năm 2018 về Quy chế phối hợp công tác giữa Ủy ban nhân dân tỉnh Đắk Nông với Hội Cựu chiến binh tỉnh Đắk Nông'}, {'url': 'https://thuvienphapluat.vn/van-ban/Van-hoa-Xa-hoi/Quyet-dinh-1693-QD-UBND-2018-phe-duyet-Dieu-le-sua-doi-bo-sung-Hiep-hoi-Du-lich-Dak-Lak-392039.aspx', 'title': 'Quyết định 1693/QĐ-UBND năm 2018 về phê duyệt Điều lệ (sửa đổi, bổ sung) Hiệp hội Du lịch Đắk Lắk'}]\n"
     ]
    }
   ],
   "source": [
    "models = ['cointegrated/rubert-tiny2','sentence-transformers/all-MiniLM-L6-v2','BAAI/bge-m3']\n",
    "# Step 6: Run a Q&A Test\n",
    "query = \"Tìm quyết định  2498/QĐ-UBND năm 2018 \"\n",
    "for model in models:\n",
    "  dynamic_embedding_model(query,model)"
   ]
  },
  {
   "cell_type": "code",
   "execution_count": 25,
   "metadata": {},
   "outputs": [
    {
     "name": "stdout",
     "output_type": "stream",
     "text": [
      "BAAI/bge-m3\n",
      "[{'url': 'https://thuvienphapluat.vn/van-ban/The-thao-Y-te/Chi-thi-03-CT-UBND-2020-day-manh-phong-trao-chong-dich-Covid-19-tinh-Yen-Bai-439548.aspx', 'title': 'Chỉ thị 03/CT-UBND năm 2020 về đẩy mạnh phong trào, chống dịch Covid-19 trên địa bàn tỉnh Yên Bái'}, {'url': 'https://thuvienphapluat.vn/van-ban/The-thao-Y-te/Quyet-dinh-99-QD-UBND-2020-uy-quyen-cho-quyet-dinh-thanh-lap-co-so-cach-ly-tap-trung-Tuyen-Quang-439227.aspx', 'title': 'Quyết định 99/QĐ-UBND năm 2020 về ủy quyền cho quyết định thành lập cơ sở cách ly tập trung; quyết định phê duyệt danh sách người được cách ly, người kết thúc thời gian cách ly tập trung trên địa bàn các huyện, thành phố, tỉnh Tuyên Quang'}, {'url': 'https://thuvienphapluat.vn/van-ban/Giao-thong-Van-tai/Ke-hoach-23-KH-UBND-2020-phoi-hop-ung-pho-tai-nan-hang-khong-dan-dung-tinh-Thai-Binh-440743.aspx', 'title': 'Kế hoạch 23/KH-UBND năm 2020 về phối hợp ứng phó tai nạn hàng không dân dụng do tỉnh Thái Bình ban hành'}, {'url': 'https://thuvienphapluat.vn/van-ban/Bat-dong-san/Quyet-dinh-10-2020-QD-UBND-muc-ho-tro-chi-phi-thue-nha-o-tam-cu-cho-ho-gia-dinh-Ho-Chi-Minh-439989.aspx', 'title': 'Quyết định 10/2020/QĐ-UBND về mức hỗ trợ chi phí thuê nhà ở tạm cư cho hộ gia đình, cá nhân trong thời gian chờ bố trí nhà ở, đất ở tái định cư trên địa bàn Thành phố Hồ Chí Minh'}]\n"
     ]
    }
   ],
   "source": [
    " \n",
    "query = \"13/2020/QĐ-UBND\"\n",
    "dynamic_embedding_model(query,'BAAI/bge-m3')"
   ]
  },
  {
   "cell_type": "markdown",
   "metadata": {},
   "source": [
    "# Q&A "
   ]
  },
  {
   "cell_type": "code",
   "execution_count": 26,
   "metadata": {},
   "outputs": [],
   "source": [
    "# from fuzzywuzzy import process\n"
   ]
  },
  {
   "cell_type": "code",
   "execution_count": 27,
   "metadata": {},
   "outputs": [],
   "source": [
    "# def get_faq_data():\n",
    "#     # Database connection parameters\n",
    "#     conn = create_connection()\n",
    "    \n",
    "#     # Query to fetch data\n",
    "#     query = \"SELECT question, answer FROM faq;\"\n",
    "    \n",
    "#     # Fetch data into a DataFrame\n",
    "#     df = pd.read_sql_query(query, conn)\n",
    "    \n",
    "#     # Close the connection\n",
    "#     conn.close()\n",
    "    \n",
    "#     return df\n",
    "\n",
    "# df = get_faq_data()\n",
    "# df.head()"
   ]
  },
  {
   "cell_type": "code",
   "execution_count": 28,
   "metadata": {},
   "outputs": [],
   "source": [
    "\n",
    "# # Convert DataFrame to Document objects\n",
    "# def convert_df_to_documents(df):\n",
    "#     documents = [\n",
    "#         Document(\n",
    "#             page_content=f\"question: {row.question}\",  # or combine other fields if needed\n",
    "#             metadata={\n",
    "#                 'question': row['question'],\n",
    "#                 'answer': row['answer'],\n",
    "#             }\n",
    "#         )\n",
    "#         for _, row in df.iterrows()\n",
    "#     ]\n",
    "#     return documents\n"
   ]
  },
  {
   "cell_type": "code",
   "execution_count": 29,
   "metadata": {},
   "outputs": [],
   "source": [
    "# question_documents = convert_df_to_documents(df)"
   ]
  },
  {
   "cell_type": "code",
   "execution_count": 30,
   "metadata": {},
   "outputs": [],
   "source": [
    "# from sentence_transformers import SentenceTransformer, util\n",
    "# import numpy as np\n",
    "# import torch\n",
    "\n",
    "# # Initialize HuggingFaceEmbeddings\n",
    "# model_name = \"sentence-transformers/all-MiniLM-L6-v2\"\n",
    "# embedding_model = HuggingFaceEmbeddings(model_name=model_name)\n",
    "\n",
    "# # Initialize FAISS vector store\n",
    "# vector_store = FAISS.from_documents(question_documents, embedding_model)\n"
   ]
  },
  {
   "cell_type": "code",
   "execution_count": 31,
   "metadata": {},
   "outputs": [],
   "source": [
    "# def search_similar_question(user_query):\n",
    "\n",
    "#     # Find the most similar question\n",
    "#     search_results = vector_store.similarity_search(user_query)\n",
    "    \n",
    "    \n",
    "#     return [{'question': item.metadata['question'],'answer': item.metadata['answer'] } for item in search_results]\n",
    "    \n",
    "#     # else:\n",
    "#     #     return \"Sorry, I couldn't find a similar question.\"\n"
   ]
  },
  {
   "cell_type": "markdown",
   "metadata": {},
   "source": [
    "## Search "
   ]
  },
  {
   "cell_type": "code",
   "execution_count": 32,
   "metadata": {},
   "outputs": [],
   "source": [
    "# # Example usage\n",
    "# user_query = \"delivery\"\n",
    "# search_similar_question(user_query)"
   ]
  },
  {
   "cell_type": "code",
   "execution_count": 33,
   "metadata": {},
   "outputs": [],
   "source": [
    "# from FlagEmbedding import BGEM3FlagModel\n",
    "\n",
    "# model = BGEM3FlagModel('BAAI/bge-m3',  \n",
    "#                        use_fp16=True) # Setting use_fp16 to True speeds up computation with a slight performance degradation\n",
    "\n",
    "# sentences_1 = [\"What is BGE M3?\", \"Defination of BM25\"]\n",
    "# sentences_2 = [\"BGE M3 is an embedding model supporting dense retrieval, lexical matching and multi-vector interaction.\", \n",
    "#                \"BM25 is a bag-of-words retrieval function that ranks a set of documents based on the query terms appearing in each document\"]\n",
    "\n",
    "# embeddings_1 = model.encode(sentences_1, \n",
    "#                             batch_size=12, \n",
    "#                             max_length=8192, # If you don't need such a long length, you can set a smaller value to speed up the encoding process.\n",
    "#                             )['dense_vecs']\n",
    "# embeddings_2 = model.encode(sentences_2)['dense_vecs']\n",
    "# similarity = embeddings_1 @ embeddings_2.T\n",
    "# print(similarity)\n",
    "# # [[0.6265, 0.3477], [0.3499, 0.678 ]]\n"
   ]
  },
  {
   "cell_type": "markdown",
   "metadata": {},
   "source": [
    "## Milvus Integrate"
   ]
  },
  {
   "cell_type": "code",
   "execution_count": 34,
   "metadata": {},
   "outputs": [
    {
     "name": "stderr",
     "output_type": "stream",
     "text": [
      "huggingface/tokenizers: The current process just got forked, after parallelism has already been used. Disabling parallelism to avoid deadlocks...\n",
      "To disable this warning, you can either:\n",
      "\t- Avoid using `tokenizers` before the fork if possible\n",
      "\t- Explicitly set the environment variable TOKENIZERS_PARALLELISM=(true | false)\n"
     ]
    }
   ],
   "source": [
    "from pymilvus import MilvusClient\n",
    "\n",
    "client = MilvusClient(\"milvus.db\")"
   ]
  },
  {
   "cell_type": "code",
   "execution_count": 35,
   "metadata": {},
   "outputs": [],
   "source": [
    "if client.has_collection(collection_name=\"demo_collection\"):\n",
    "    client.drop_collection(collection_name=\"demo_collection\")\n",
    "client.create_collection(\n",
    "        collection_name=\"demo_collection\",\n",
    "        dimension=768,  # The vectors we will use in this demo has 768 dimensions\n",
    ")\n"
   ]
  },
  {
   "cell_type": "code",
   "execution_count": 36,
   "metadata": {},
   "outputs": [
    {
     "name": "stderr",
     "output_type": "stream",
     "text": [
      "/Volumes/home/Learn/Master/3.LLMs/rag_pipeline/.venv/lib/python3.11/site-packages/transformers/tokenization_utils_base.py:1601: FutureWarning: `clean_up_tokenization_spaces` was not set. It will be set to `True` by default. This behavior will be depracted in transformers v4.45, and will be then set to `False` by default. For more details check this issue: https://github.com/huggingface/transformers/issues/31884\n",
      "  warnings.warn(\n"
     ]
    },
    {
     "name": "stdout",
     "output_type": "stream",
     "text": [
      "Dim: 768 (768,)\n",
      "Data has 3 entities, each with fields:  dict_keys(['id', 'vector', 'text', 'subject'])\n",
      "Vector dim: 768\n"
     ]
    }
   ],
   "source": [
    "from pymilvus import model\n",
    "\n",
    "\n",
    "embedding_fn = model.DefaultEmbeddingFunction()\n",
    "\n",
    "docs = [\n",
    "    \"Artificial intelligence was founded as an academic discipline in 1956.\",\n",
    "    \"Alan Turing was the first person to conduct substantial research in AI.\",\n",
    "    \"Born in Maida Vale, London, Turing was raised in southern England.\",\n",
    "]\n",
    "\n",
    "vectors = embedding_fn.encode_documents(docs)\n",
    "print(\"Dim:\", embedding_fn.dim, vectors[0].shape)  # Dim: 768 (768,)\n",
    "data =[ {\"id\": i, \"vector\": vectors[i], \"text\": docs[i], \"subject\": \"history\"}\n",
    "    for i in range(len(vectors))]\n",
    "\n",
    "print(\"Data has\", len(data), \"entities, each with fields: \", data[0].keys())\n",
    "print(\"Vector dim:\", len(data[0][\"vector\"]))\n"
   ]
  },
  {
   "cell_type": "code",
   "execution_count": 37,
   "metadata": {},
   "outputs": [],
   "source": [
    "# res = client.insert(collection_name=\"demo_collection\", data=data)"
   ]
  },
  {
   "cell_type": "code",
   "execution_count": 38,
   "metadata": {},
   "outputs": [],
   "source": [
    "\n",
    "res = client.query(\n",
    "    collection_name=\"demo_collection\",  # target collection\n",
    "    filter='',  # number of returned entities\n",
    "    limit=100,\n",
    "    output_fields=[\"id\", 'text'],  # specifies fields to be returned\n",
    "    # sorted=True, #\n",
    ")\n",
    "for item in res:\n",
    "    print(item)"
   ]
  },
  {
   "cell_type": "code",
   "execution_count": 39,
   "metadata": {},
   "outputs": [
    {
     "name": "stdout",
     "output_type": "stream",
     "text": [
      "file_name Văn Bản Pháp Luật_p100000-100019.parquet\n",
      "{'insert_count': 20, 'ids': [100000, 100001, 100002, 100003, 100004, 100005, 100006, 100007, 100008, 100009, 100010, 100011, 100012, 100013, 100014, 100015, 100016, 100017, 100018, 100019]}\n",
      "Data inserted successfully!\n"
     ]
    }
   ],
   "source": [
    "import os\n",
    "import pandas as pd\n",
    "\n",
    "# Đường dẫn đến thư mục \"Khoi\"\n",
    "folder_path = '../Khoi'\n",
    "\n",
    "# Danh sách lưu trữ các DataFrame\n",
    "df_list = []\n",
    "\n",
    "# Duyệt qua tất cả các file trong thư mục\n",
    "# for file_name in os.listdir('Khoi'):\n",
    "for file_name in ['Văn Bản Pháp Luật_p100000-100019.parquet']:\n",
    "    # Kiểm tra nếu file có định dạng giống \"Văn Bản Pháp Luật_p*.parquet\"\n",
    "    print(\"file_name\", file_name)\n",
    "    file_path = os.path.join(folder_path, file_name)\n",
    "    \n",
    "    # Đọc file Parquet và thêm vào danh sách DataFrame\n",
    "    file_df = pd.read_parquet(file_path)\n",
    "    \n",
    "    # Thực hiện các chuyển đổi tương tự như bạn đã đề cập\n",
    "    file_df['created_date'] = pd.to_datetime(file_df['created_date'], format='%d/%m/%Y')\n",
    "    file_df['updated_date'] = pd.to_datetime(file_df['updated_date'], format='%d/%m/%Y')\n",
    "    file_df['content_raw'] = file_df['content'].apply(lambda x: x.decode('utf-8') if isinstance(x, bytes) else x)\n",
    "    \n",
    "    # df_list.append(file_df)\n",
    "    \n",
    "    \n",
    "\n",
    "    # connection = create_connection()\n",
    "\n",
    "    # cursor = connection.cursor()\n",
    "\n",
    "    try: \n",
    "        # Chèn dữ liệu từ DataFrame vào PostgreSQL\n",
    "        \n",
    "        data = []\n",
    "        for index, item in file_df.iterrows():\n",
    "            docs= [f\"{item.title}\"]\n",
    "            vectors = embedding_fn.encode_documents(docs)\n",
    "        \n",
    "            data.append({\"id\": item.id, \"vector\": vectors[0], \"text\": docs[0], \"subject\": \"van_ban_phap_luat\"} )\n",
    "        \n",
    "        res = client.insert(collection_name=\"demo_collection\", data=data)\n",
    "        print(res)\n",
    "        \n",
    "        # Xác nhận các thay đổi vào cơ sở dữ liệu\n",
    "        # connection.commit()\n",
    "\n",
    "    except Exception as e:\n",
    "        print(e)\n",
    "\n",
    "    # Đóng kết nối\n",
    "    # cursor.close()\n",
    "    # connection.close()\n",
    "\n",
    "    print(\"Data inserted successfully!\")\n",
    "\n",
    "\n",
    "# # Nối tất cả các DataFrame lại với nhau thành một DataFrame duy nhất\n",
    "# combined_df = pd.concat(df_list, ignore_index=True)\n",
    "\n",
    "# # Hiển thị vài dòng đầu tiên của DataFrame\n",
    "# combined_df.head()"
   ]
  },
  {
   "cell_type": "code",
   "execution_count": 40,
   "metadata": {},
   "outputs": [
    {
     "name": "stdout",
     "output_type": "stream",
     "text": [
      "[{'id': 100012, 'distance': 0.28190290927886963, 'entity': {'text': 'Quyết định 09/2020/QĐ-UBND về Bảng giá tính thuế tài nguyên trên địa bàn tỉnh Phú Thọ năm 2020', 'id': 100012}}, {'id': 100009, 'distance': 0.2791537940502167, 'entity': {'text': 'Quyết định 13/2020/QĐ-UBND bãi bỏ Quyết định 10/2015/QĐ-UBND quy định về chính sách hỗ trợ doanh nghiệp xuất khẩu phần mềm trên địa bàn thành phố Đà Nẵng', 'id': 100009}}]\n"
     ]
    }
   ],
   "source": [
    "query_vectors = embedding_fn.encode_queries([\"13/2020/QĐ-UBND\"])\n",
    "\n",
    "res = client.search(\n",
    "    collection_name=\"demo_collection\",  # target collection\n",
    "    data=query_vectors,  # query vectors\n",
    "    limit=2,  # number of returned entities\n",
    "    output_fields=[\"id\", \"text\"],  # specifies fields to be returned\n",
    "    # sorted=True, #\n",
    ")\n",
    "for item in res:\n",
    "    print(item)\n"
   ]
  },
  {
   "cell_type": "markdown",
   "metadata": {},
   "source": [
    "## Milvus BGEM3EmbeddingFunction"
   ]
  },
  {
   "cell_type": "code",
   "execution_count": 41,
   "metadata": {},
   "outputs": [
    {
     "name": "stderr",
     "output_type": "stream",
     "text": [
      "Fetching 30 files: 100%|██████████| 30/30 [00:00<00:00, 19529.59it/s]\n",
      "/Volumes/home/Learn/Master/3.LLMs/rag_pipeline/.venv/lib/python3.11/site-packages/FlagEmbedding/BGE_M3/modeling.py:335: FutureWarning: You are using `torch.load` with `weights_only=False` (the current default value), which uses the default pickle module implicitly. It is possible to construct malicious pickle data which will execute arbitrary code during unpickling (See https://github.com/pytorch/pytorch/blob/main/SECURITY.md#untrusted-models for more details). In a future release, the default value for `weights_only` will be flipped to `True`. This limits the functions that could be executed during unpickling. Arbitrary objects will no longer be allowed to be loaded via this mode unless they are explicitly allowlisted by the user via `torch.serialization.add_safe_globals`. We recommend you start setting `weights_only=True` for any use case where you don't have full control of the loaded file. Please open an issue on GitHub for any issues related to this experimental feature.\n",
      "  colbert_state_dict = torch.load(os.path.join(model_dir, 'colbert_linear.pt'), map_location='cpu')\n",
      "/Volumes/home/Learn/Master/3.LLMs/rag_pipeline/.venv/lib/python3.11/site-packages/FlagEmbedding/BGE_M3/modeling.py:336: FutureWarning: You are using `torch.load` with `weights_only=False` (the current default value), which uses the default pickle module implicitly. It is possible to construct malicious pickle data which will execute arbitrary code during unpickling (See https://github.com/pytorch/pytorch/blob/main/SECURITY.md#untrusted-models for more details). In a future release, the default value for `weights_only` will be flipped to `True`. This limits the functions that could be executed during unpickling. Arbitrary objects will no longer be allowed to be loaded via this mode unless they are explicitly allowlisted by the user via `torch.serialization.add_safe_globals`. We recommend you start setting `weights_only=True` for any use case where you don't have full control of the loaded file. Please open an issue on GitHub for any issues related to this experimental feature.\n",
      "  sparse_state_dict = torch.load(os.path.join(model_dir, 'sparse_linear.pt'), map_location='cpu')\n"
     ]
    }
   ],
   "source": [
    "from pymilvus.model.hybrid import BGEM3EmbeddingFunction\n",
    "\n",
    "bge_m3_ef = BGEM3EmbeddingFunction(\n",
    "    model_name='BAAI/bge-m3', # Specify the model name\n",
    "    device='cpu', # Specify the device to use, e.g., 'cpu' or 'cuda:0'\n",
    "    use_fp16=False # Specify whether to use fp16. Set to `False` if `device` is `cpu`.\n",
    ")"
   ]
  },
  {
   "cell_type": "code",
   "execution_count": 42,
   "metadata": {},
   "outputs": [
    {
     "name": "stdout",
     "output_type": "stream",
     "text": [
      "Embeddings: {'dense': [array([-0.02505936, -0.00142193,  0.04015467, ..., -0.02094922,\n",
      "        0.02623664,  0.00324104], dtype=float32), array([ 0.00118458,  0.00649292, -0.00735761, ..., -0.01446296,\n",
      "        0.04243682, -0.01794821], dtype=float32), array([ 0.00415284, -0.01014922,  0.00098107, ..., -0.02559662,\n",
      "        0.08084679,  0.00141645], dtype=float32)], 'sparse': <Compressed Sparse Row sparse array of dtype 'float64'\n",
      "\twith 43 stored elements and shape (3, 250002)>}\n",
      "Dense document dim: 1024 (1024,)\n",
      "Sparse document dim: 250002 (250002,)\n"
     ]
    }
   ],
   "source": [
    "docs = [\n",
    "    \"Artificial intelligence was founded as an academic discipline in 1956.\",\n",
    "    \"Alan Turing was the first person to conduct substantial research in AI.\",\n",
    "    \"Born in Maida Vale, London, Turing was raised in southern England.\",\n",
    "]\n",
    "\n",
    "docs_embeddings = bge_m3_ef.encode_documents(docs)\n",
    "\n",
    "print(\"Embeddings:\", docs_embeddings)\n",
    "print(\"Dense document dim:\", bge_m3_ef.dim[\"dense\"], docs_embeddings[\"dense\"][0].shape)\n",
    "print(\"Sparse document dim:\", bge_m3_ef.dim[\"sparse\"], list(docs_embeddings[\"sparse\"])[0].shape)\n"
   ]
  },
  {
   "cell_type": "code",
   "execution_count": 43,
   "metadata": {},
   "outputs": [
    {
     "name": "stdout",
     "output_type": "stream",
     "text": [
      "Embeddings: {'dense': [array([ 0.00648039, -0.00815423, -0.02717063, ..., -0.00380104,\n",
      "        0.04200583, -0.01274776], dtype=float32)], 'sparse': <Compressed Sparse Row sparse array of dtype 'float64'\n",
      "\twith 7 stored elements and shape (1, 250002)>}\n",
      "Dense query dim: 1024 (1024,)\n",
      "Sparse query dim: 250002 (250002,)\n"
     ]
    }
   ],
   "source": [
    "queries = [\"Where was Alan Turing born?\"]\n",
    "\n",
    "query_embeddings = bge_m3_ef.encode_queries(queries)\n",
    "\n",
    "print(\"Embeddings:\", query_embeddings)\n",
    "print(\"Dense query dim:\", bge_m3_ef.dim[\"dense\"], query_embeddings[\"dense\"][0].shape)\n",
    "print(\"Sparse query dim:\", bge_m3_ef.dim[\"sparse\"], list(query_embeddings[\"sparse\"])[0].shape)\n"
   ]
  },
  {
   "cell_type": "code",
   "execution_count": 44,
   "metadata": {},
   "outputs": [],
   "source": [
    "client = MilvusClient(\"milvus_bge_m3.db\")"
   ]
  },
  {
   "cell_type": "code",
   "execution_count": 45,
   "metadata": {},
   "outputs": [],
   "source": [
    "if client.has_collection(collection_name=\"demo_collection\"):\n",
    "    client.drop_collection(collection_name=\"demo_collection\")\n",
    "client.create_collection(\n",
    "        collection_name=\"demo_collection\",\n",
    "        dimension=1024,  # The vectors we will use in this demo has 768 dimensions\n",
    ")\n"
   ]
  },
  {
   "cell_type": "code",
   "execution_count": 46,
   "metadata": {},
   "outputs": [
    {
     "data": {
      "text/plain": [
       "[array([-0.02505936, -0.00142193,  0.04015467, ..., -0.02094922,\n",
       "         0.02623664,  0.00324104], dtype=float32),\n",
       " array([ 0.00118458,  0.00649292, -0.00735761, ..., -0.01446296,\n",
       "         0.04243682, -0.01794821], dtype=float32),\n",
       " array([ 0.00415284, -0.01014922,  0.00098107, ..., -0.02559662,\n",
       "         0.08084679,  0.00141645], dtype=float32)]"
      ]
     },
     "execution_count": 46,
     "metadata": {},
     "output_type": "execute_result"
    }
   ],
   "source": [
    "docs_embeddings[\"dense\"]"
   ]
  },
  {
   "cell_type": "code",
   "execution_count": 47,
   "metadata": {},
   "outputs": [
    {
     "name": "stdout",
     "output_type": "stream",
     "text": [
      "Dim: 768 (1024,)\n",
      "Data has 3 entities, each with fields:  dict_keys(['id', 'vector', 'text', 'subject'])\n",
      "Vector dim: 1024\n"
     ]
    }
   ],
   "source": [
    "\n",
    "vectors = docs_embeddings[\"dense\"]\n",
    "print(\"Dim:\", embedding_fn.dim, vectors[0].shape)  # Dim: 768 (768,)\n",
    "data =[ {\"id\": i, \"vector\": vectors[i], \"text\": docs[i], \"subject\": \"history\"}\n",
    "    for i in range(len(vectors))]\n",
    "\n",
    "print(\"Data has\", len(data), \"entities, each with fields: \", data[0].keys())\n",
    "print(\"Vector dim:\", len(data[0][\"vector\"]))\n"
   ]
  },
  {
   "cell_type": "code",
   "execution_count": 48,
   "metadata": {},
   "outputs": [
    {
     "data": {
      "text/plain": [
       "{'insert_count': 3, 'ids': [0, 1, 2], 'cost': 0}"
      ]
     },
     "execution_count": 48,
     "metadata": {},
     "output_type": "execute_result"
    }
   ],
   "source": [
    "res = client.insert(collection_name=\"demo_collection\", data=data)\n",
    "res"
   ]
  },
  {
   "cell_type": "code",
   "execution_count": 49,
   "metadata": {},
   "outputs": [
    {
     "name": "stdout",
     "output_type": "stream",
     "text": [
      "data: [\"[{'id': 2, 'distance': 0.7207302451133728, 'entity': {'text': 'Born in Maida Vale, London, Turing was raised in southern England.', 'subject': 'history'}}, {'id': 1, 'distance': 0.6383245587348938, 'entity': {'text': 'Alan Turing was the first person to conduct substantial research in AI.', 'subject': 'history'}}]\"] \n"
     ]
    }
   ],
   "source": [
    "res = client.search(\n",
    "    collection_name=\"demo_collection\",  # target collection\n",
    "    data=[query_embeddings['dense'][0]],  # query vectors\n",
    "    limit=2,  # number of returned entities\n",
    "    output_fields=[\"text\", \"subject\"],  # specifies fields to be returned\n",
    ")\n",
    "\n",
    "print(res)\n",
    "\n"
   ]
  },
  {
   "cell_type": "code",
   "execution_count": 50,
   "metadata": {},
   "outputs": [
    {
     "name": "stdout",
     "output_type": "stream",
     "text": [
      "file_name Văn Bản Pháp Luật_p100000-100019.parquet\n",
      "{'insert_count': 20, 'ids': [100000, 100001, 100002, 100003, 100004, 100005, 100006, 100007, 100008, 100009, 100010, 100011, 100012, 100013, 100014, 100015, 100016, 100017, 100018, 100019]}\n",
      "Data inserted successfully!\n"
     ]
    }
   ],
   "source": [
    "import os\n",
    "import pandas as pd\n",
    "\n",
    "# Đường dẫn đến thư mục \"Khoi\"\n",
    "folder_path = '../Khoi'\n",
    "\n",
    "# Danh sách lưu trữ các DataFrame\n",
    "df_list = []\n",
    "\n",
    "# Duyệt qua tất cả các file trong thư mục\n",
    "# for file_name in os.listdir('Khoi'):\n",
    "for file_name in ['Văn Bản Pháp Luật_p100000-100019.parquet']:\n",
    "    # Kiểm tra nếu file có định dạng giống \"Văn Bản Pháp Luật_p*.parquet\"\n",
    "    print(\"file_name\", file_name)\n",
    "    file_path = os.path.join(folder_path, file_name)\n",
    "    \n",
    "    # Đọc file Parquet và thêm vào danh sách DataFrame\n",
    "    file_df = pd.read_parquet(file_path)\n",
    "    \n",
    "    # Thực hiện các chuyển đổi tương tự như bạn đã đề cập\n",
    "    file_df['created_date'] = pd.to_datetime(file_df['created_date'], format='%d/%m/%Y')\n",
    "    file_df['updated_date'] = pd.to_datetime(file_df['updated_date'], format='%d/%m/%Y')\n",
    "    file_df['content_raw'] = file_df['content'].apply(lambda x: x.decode('utf-8') if isinstance(x, bytes) else x)\n",
    "    \n",
    "    # df_list.append(file_df)\n",
    "    \n",
    "    \n",
    "\n",
    "    # connection = create_connection()\n",
    "\n",
    "    # cursor = connection.cursor()\n",
    "\n",
    "    try: \n",
    "        # Chèn dữ liệu từ DataFrame vào PostgreSQL\n",
    "        \n",
    "        data = []\n",
    "        for index, item in file_df.iterrows():\n",
    "            docs= [f\"{item.title}\"]\n",
    "            \n",
    "            docs_embeddings = bge_m3_ef.encode_documents(docs)\n",
    "\n",
    "            vectors = docs_embeddings[\"dense\"]\n",
    "\n",
    "        \n",
    "            data.append({\"id\": item.id, \"vector\": vectors[0], \"text\": docs[0], \"subject\": \"van_ban_phap_luat\"} )\n",
    "        \n",
    "        res = client.insert(collection_name=\"demo_collection\", data=data)\n",
    "        print(res)\n",
    "        \n",
    "        # Xác nhận các thay đổi vào cơ sở dữ liệu\n",
    "        # connection.commit()\n",
    "\n",
    "    except Exception as e:\n",
    "        print(e)\n",
    "\n",
    "    # Đóng kết nối\n",
    "    # cursor.close()\n",
    "    # connection.close()\n",
    "\n",
    "    print(\"Data inserted successfully!\")\n",
    "\n",
    "\n",
    "# # Nối tất cả các DataFrame lại với nhau thành một DataFrame duy nhất\n",
    "# combined_df = pd.concat(df_list, ignore_index=True)\n",
    "\n",
    "# # Hiển thị vài dòng đầu tiên của DataFrame\n",
    "# combined_df.head()"
   ]
  },
  {
   "cell_type": "code",
   "execution_count": 51,
   "metadata": {},
   "outputs": [
    {
     "name": "stdout",
     "output_type": "stream",
     "text": [
      "{'id': 0, 'text': 'Artificial intelligence was founded as an academic discipline in 1956.'}\n",
      "{'id': 1, 'text': 'Alan Turing was the first person to conduct substantial research in AI.'}\n",
      "{'id': 2, 'text': 'Born in Maida Vale, London, Turing was raised in southern England.'}\n",
      "{'id': 100000, 'text': 'Quyết định 720/QĐ-CTN năm 2020 về cho thôi quốc tịch Việt Nam đối với 95 công dân hiện đang cư trú tại Đức do Chủ tịch nước ban hành'}\n",
      "{'id': 100001, 'text': 'Quyết định 719/QĐ-CTN năm 2020 về cho thôi quốc tịch Việt Nam đối với 15 công dân hiện đang cư trú tại Hồng Kông (Trung Quốc) do Chủ tịch nước ban hành'}\n",
      "{'id': 100002, 'text': 'Quyết định 648/QĐ-TTg năm 2020 về phê duyệt nhiệm vụ lập quy hoạch mạng lưới cơ sở y tế thời kỳ 2021-2030, tầm nhìn đến năm 2045 do Thủ tướng Chính phủ ban hành'}\n",
      "{'id': 100003, 'text': 'Quyết định 1000/QĐ-UBND năm 2020 công bố danh mục thủ tục hành chính thuộc phạm vi chức năng quản lý nhà nước của Sở Công thương tỉnh Sơn La'}\n",
      "{'id': 100004, 'text': 'Quyết định 1517/QĐ-UBND năm 2020 về công bố Danh mục và Quy trình nội bộ thủ tục hành chính được sửa đổi, bổ sung thuộc thẩm quyền quản lý của ngành Xây dựng áp dụng tại Ủy ban nhân dân cấp huyện trên địa bàn tỉnh Hà Tĩnh'}\n",
      "{'id': 100005, 'text': 'Quyết định 647/QĐ-TTg năm 2020 về phê duyệt Đề án hợp tác quốc tế về phát triển bền vững kinh tế biển Việt Nam đến 2030 do Thủ tướng Chính phủ ban hành'}\n",
      "{'id': 100006, 'text': 'Quyết định 949/QĐ-BGTVT năm 2020 công bố thủ tục hành chính được sửa đổi, bổ sung lĩnh vực hàng không thuộc phạm vi chức năng quản lý của Bộ Giao thông vận tải'}\n",
      "{'id': 100007, 'text': 'Quyết định 579/QĐ-TCCB về Kế hoạch thi và chỉ tiêu thi nâng ngạch lên chuyên viên, chuyên viên chính năm 2020 do Chánh án Tòa án nhân dân tối cao ban hành'}\n",
      "{'id': 100008, 'text': 'Quyết định 649/QĐ-TTg năm 2020 về phê duyệt chủ trương đầu tư Dự án đầu tư xây dựng tuyến đường bộ ven biển đoạn Hoằng Hóa - Sầm Sơn và đoạn Quảng Xương - Tĩnh Gia, tỉnh Thanh Hóa theo hình thức đối tác công tư, hợp đồng BOT do Thủ tướng Chính phủ ban hành'}\n",
      "{'id': 100009, 'text': 'Quyết định 13/2020/QĐ-UBND bãi bỏ Quyết định 10/2015/QĐ-UBND quy định về chính sách hỗ trợ doanh nghiệp xuất khẩu phần mềm trên địa bàn thành phố Đà Nẵng'}\n",
      "{'id': 100010, 'text': 'Quyết định 854/QĐ-UBND về phê duyệt Kế hoạch phát triển nông nghiệp ứng dụng công nghệ cao, nông nghiệp thông minh trên địa bàn tỉnh Lâm Đồng năm 2020'}\n",
      "{'id': 100011, 'text': 'Quyết định 1079/QĐ-UBND năm 2020 công bố danh mục thủ tục hành chính thực hiện chính sách hỗ trợ người dân gặp khó khăn do đại dịch Covid-19 thuộc lĩnh vực Lao động - Thương binh và Xã hội trên địa bàn tỉnh Đắk Lắk'}\n",
      "{'id': 100012, 'text': 'Quyết định 09/2020/QĐ-UBND về Bảng giá tính thuế tài nguyên trên địa bàn tỉnh Phú Thọ năm 2020'}\n",
      "{'id': 100013, 'text': 'Quyết định 13/2020/QĐ-UBND về phân cấp thẩm quyền cấp, điều chỉnh, thu hồi Giấy phép đủ điều kiện kinh doanh dịch vụ karaoke trên địa bàn tỉnh Nghệ An'}\n",
      "{'id': 100014, 'text': 'Kế hoạch 112/KH-UBND năm 2020 về thực hiện Quyết định 142/QĐ-TTg thực hiện Kết luận 52-KL/TW về tiếp tục thực hiện Nghị quyết về xây dựng đội ngũ trí thức trong thời kỳ đẩy mạnh công nghiệp hóa, hiện đại hóa đất nước do tỉnh Yên Bái ban hành'}\n",
      "{'id': 100015, 'text': 'Quyết định 859/QĐ-UBND về phê duyệt danh mục dịch vụ công trực tuyến và danh mục dịch vụ công của tỉnh Lâm Đồng tích hợp, cung cấp trên Cổng dịch vụ công Quốc gia năm 2020'}\n",
      "{'id': 100016, 'text': 'Kế hoạch 4223/KH-UBND năm 2020 thực hiện Nghị quyết 35/NQ-CP về tăng cường huy động nguồn lực của xã hội đầu tư cho phát triển giáo dục và đào tạo trên địa bàn tỉnh Đắk Lắk giai đoạn 2019-2025'}\n",
      "{'id': 100017, 'text': 'Quyết định 22/2020/QĐ-UBND về tiêu chuẩn, định mức sử dụng máy móc, thiết bị chuyên dùng thuộc lĩnh vực y tế do tỉnh Vĩnh Phúc ban hành'}\n",
      "{'id': 100018, 'text': 'Quyết định 18/2020/QĐ-UBND quy định về mức giá dịch vụ sử dụng đường bộ của các phương tiện giao thông đối với dự án Đường ĐT.768 theo hình thức đối tác công tư, hợp đồng BOT do tỉnh Đồng Nai ban hành'}\n",
      "{'id': 100019, 'text': 'Thông báo 1403/TB-GDĐT-KTKĐCLGD năm 2020 về tuyển thẳng vào lớp 10 trung học phổ thông năm học 2020-2021 do Sở Giáo dục và Đào tạo thành phố Hồ Chí Minh ban hành'}\n"
     ]
    }
   ],
   "source": [
    "\n",
    "res = client.query(\n",
    "    collection_name=\"demo_collection\",  # target collection\n",
    "    filter='',  # number of returned entities\n",
    "    limit=100,\n",
    "    output_fields=[\"id\", 'text'],  # specifies fields to be returned\n",
    "    # sorted=True, #\n",
    ")\n",
    "for item in res:\n",
    "    print(item)"
   ]
  },
  {
   "cell_type": "code",
   "execution_count": 52,
   "metadata": {},
   "outputs": [
    {
     "name": "stdout",
     "output_type": "stream",
     "text": [
      "data: [\"[{'id': 100013, 'distance': 0.6344581246376038, 'entity': {'text': 'Quyết định 13/2020/QĐ-UBND về phân cấp thẩm quyền cấp, điều chỉnh, thu hồi Giấy phép đủ điều kiện kinh doanh dịch vụ karaoke trên địa bàn tỉnh Nghệ An', 'subject': 'van_ban_phap_luat'}}, {'id': 100009, 'distance': 0.608363151550293, 'entity': {'text': 'Quyết định 13/2020/QĐ-UBND bãi bỏ Quyết định 10/2015/QĐ-UBND quy định về chính sách hỗ trợ doanh nghiệp xuất khẩu phần mềm trên địa bàn thành phố Đà Nẵng', 'subject': 'van_ban_phap_luat'}}]\"] \n"
     ]
    }
   ],
   "source": [
    "queries = [\"13/2020/QĐ-UBND\"]\n",
    "\n",
    "query_embeddings = bge_m3_ef.encode_queries(queries)\n",
    "\n",
    "res = client.search(\n",
    "    collection_name=\"demo_collection\",  # target collection\n",
    "    data=[query_embeddings['dense'][0]],  # query vectors\n",
    "    limit=2,  # number of returned entities\n",
    "    output_fields=[\"text\", \"subject\"],  # specifies fields to be returned\n",
    ")\n",
    "\n",
    "print(res)\n",
    "\n"
   ]
  },
  {
   "cell_type": "markdown",
   "metadata": {},
   "source": [
    "## Milvus standalone"
   ]
  },
  {
   "cell_type": "code",
   "execution_count": 53,
   "metadata": {},
   "outputs": [],
   "source": [
    "from pymilvus import connections, db\n",
    "\n",
    "conn = connections.connect(host=\"127.0.0.1\", port=19530)\n",
    "\n",
    "database = db.create_database(\"my_database\")\n"
   ]
  },
  {
   "cell_type": "code",
   "execution_count": 54,
   "metadata": {},
   "outputs": [],
   "source": [
    "db.using_database(\"my_database\")\n"
   ]
  },
  {
   "cell_type": "code",
   "execution_count": 55,
   "metadata": {},
   "outputs": [],
   "source": [
    "conn = connections.connect(\n",
    "    host=\"127.0.0.1\",\n",
    "    port=\"19530\",\n",
    "    db_name=\"my_database\"\n",
    ")\n"
   ]
  },
  {
   "cell_type": "code",
   "execution_count": 56,
   "metadata": {},
   "outputs": [
    {
     "data": {
      "text/plain": [
       "['default', 'my_database']"
      ]
     },
     "execution_count": 56,
     "metadata": {},
     "output_type": "execute_result"
    }
   ],
   "source": [
    "db.list_database()\n"
   ]
  },
  {
   "cell_type": "code",
   "execution_count": 57,
   "metadata": {},
   "outputs": [
    {
     "data": {
      "text/plain": [
       "['default']"
      ]
     },
     "execution_count": 57,
     "metadata": {},
     "output_type": "execute_result"
    }
   ],
   "source": [
    "db.drop_database(\"my_database\")\n",
    "\n",
    "db.list_database()"
   ]
  },
  {
   "cell_type": "code",
   "execution_count": 58,
   "metadata": {},
   "outputs": [],
   "source": [
    "from pymilvus import connections, Role\n",
    "\n",
    "_URI = \"http://localhost:19530\"\n",
    "_TOKEN = \"root:Milvus\"\n",
    "_DB_NAME = \"default\"\n",
    "\n",
    "\n",
    "def connect_to_milvus(db_name=\"default\"):\n",
    "    print(f\"connect to milvus\\n\")\n",
    "    connections.connect(\n",
    "        uri=_URI,\n",
    "        token=_TOKEN,\n",
    "        db_name=db_name\n",
    "    )\n"
   ]
  },
  {
   "cell_type": "code",
   "execution_count": 59,
   "metadata": {},
   "outputs": [],
   "source": [
    "# _ROLE_NAME = \"test_role\"\n",
    "# _PRIVILEGE_INSERT = \"Insert\"\n",
    "\n",
    "# connect_to_milvus()\n",
    "# role = Role(_ROLE_NAME)\n",
    "# role.create()\n",
    "\n",
    "# connect_to_milvus()\n",
    "# role.grant(\"Collection\", \"*\", _PRIVILEGE_INSERT)\n",
    "# print(role.list_grants())\n",
    "# print(role.list_grant(\"Collection\", \"*\"))\n",
    "# role.revoke(\"Global\", \"*\", _PRIVILEGE_INSERT)\n"
   ]
  },
  {
   "cell_type": "code",
   "execution_count": 60,
   "metadata": {},
   "outputs": [],
   "source": [
    "from pymilvus import MilvusClient\n",
    "\n",
    "client = MilvusClient(\n",
    "    uri='http://localhost:19530', # replace with your own Milvus server address\n",
    "    token='root:Milvus' # replace with your own Milvus server token\n",
    ")\n"
   ]
  },
  {
   "cell_type": "code",
   "execution_count": 61,
   "metadata": {},
   "outputs": [],
   "source": [
    "# client.create_user(\n",
    "#     user_name='user_1',\n",
    "#     password='P@ssw0rd'\n",
    "# )\n"
   ]
  },
  {
   "cell_type": "code",
   "execution_count": 62,
   "metadata": {},
   "outputs": [
    {
     "data": {
      "text/plain": [
       "['root']"
      ]
     },
     "execution_count": 62,
     "metadata": {},
     "output_type": "execute_result"
    }
   ],
   "source": [
    "client.list_users()\n",
    "\n"
   ]
  },
  {
   "cell_type": "code",
   "execution_count": 63,
   "metadata": {},
   "outputs": [
    {
     "data": {
      "text/plain": [
       "{}"
      ]
     },
     "execution_count": 63,
     "metadata": {},
     "output_type": "execute_result"
    }
   ],
   "source": [
    "client.describe_user(user_name='user_1')\n",
    "\n"
   ]
  },
  {
   "cell_type": "code",
   "execution_count": 64,
   "metadata": {},
   "outputs": [],
   "source": [
    "# client.create_role(\n",
    "#     role_name=\"roleA\",\n",
    "# )\n"
   ]
  },
  {
   "cell_type": "code",
   "execution_count": 65,
   "metadata": {},
   "outputs": [
    {
     "data": {
      "text/plain": [
       "['admin', 'public']"
      ]
     },
     "execution_count": 65,
     "metadata": {},
     "output_type": "execute_result"
    }
   ],
   "source": [
    "client.list_roles()\n",
    "\n"
   ]
  },
  {
   "cell_type": "code",
   "execution_count": 66,
   "metadata": {},
   "outputs": [
    {
     "name": "stderr",
     "output_type": "stream",
     "text": [
      "RPC error: [grant_privilege], <MilvusException: (code=65535, message=not found the role, maybe the role isn't existed or internal system error)>, <Time:{'RPC start': '2024-09-06 21:41:53.835983', 'RPC error': '2024-09-06 21:41:53.843202'}>\n"
     ]
    },
    {
     "ename": "MilvusException",
     "evalue": "<MilvusException: (code=65535, message=not found the role, maybe the role isn't existed or internal system error)>",
     "output_type": "error",
     "traceback": [
      "\u001b[0;31m---------------------------------------------------------------------------\u001b[0m",
      "\u001b[0;31mMilvusException\u001b[0m                           Traceback (most recent call last)",
      "    \u001b[0;31m[... skipping hidden 1 frame]\u001b[0m\n",
      "Cell \u001b[0;32mIn[66], line 1\u001b[0m\n\u001b[0;32m----> 1\u001b[0m \u001b[43mclient\u001b[49m\u001b[38;5;241;43m.\u001b[39;49m\u001b[43mgrant_privilege\u001b[49m\u001b[43m(\u001b[49m\n\u001b[1;32m      2\u001b[0m \u001b[43m    \u001b[49m\u001b[43mrole_name\u001b[49m\u001b[38;5;241;43m=\u001b[39;49m\u001b[38;5;124;43m'\u001b[39;49m\u001b[38;5;124;43mroleA\u001b[39;49m\u001b[38;5;124;43m'\u001b[39;49m\u001b[43m,\u001b[49m\n\u001b[1;32m      3\u001b[0m \u001b[43m    \u001b[49m\u001b[43mobject_type\u001b[49m\u001b[38;5;241;43m=\u001b[39;49m\u001b[38;5;124;43m'\u001b[39;49m\u001b[38;5;124;43mUser\u001b[39;49m\u001b[38;5;124;43m'\u001b[39;49m\u001b[43m,\u001b[49m\u001b[43m  \u001b[49m\u001b[38;5;66;43;03m# value here can be Global, Collection or User, object type also depends on the API defined in privilegeName\u001b[39;49;00m\n\u001b[1;32m      4\u001b[0m \u001b[43m    \u001b[49m\u001b[43mobject_name\u001b[49m\u001b[38;5;241;43m=\u001b[39;49m\u001b[38;5;124;43m'\u001b[39;49m\u001b[38;5;124;43muser_1\u001b[39;49m\u001b[38;5;124;43m'\u001b[39;49m\u001b[43m,\u001b[49m\u001b[43m  \u001b[49m\u001b[38;5;66;43;03m# value here can be * or a specific user name if object type is 'User'\u001b[39;49;00m\n\u001b[1;32m      5\u001b[0m \u001b[43m    \u001b[49m\u001b[43mprivilege\u001b[49m\u001b[38;5;241;43m=\u001b[39;49m\u001b[38;5;124;43m'\u001b[39;49m\u001b[38;5;124;43mSelectUser\u001b[39;49m\u001b[38;5;124;43m'\u001b[39;49m\n\u001b[1;32m      6\u001b[0m \u001b[43m)\u001b[49m\n",
      "File \u001b[0;32m/Volumes/home/Learn/Master/3.LLMs/rag_pipeline/.venv/lib/python3.11/site-packages/pymilvus/milvus_client/milvus_client.py:930\u001b[0m, in \u001b[0;36mMilvusClient.grant_privilege\u001b[0;34m(self, role_name, object_type, privilege, object_name, db_name, timeout, **kwargs)\u001b[0m\n\u001b[1;32m    929\u001b[0m conn \u001b[38;5;241m=\u001b[39m \u001b[38;5;28mself\u001b[39m\u001b[38;5;241m.\u001b[39m_get_connection()\n\u001b[0;32m--> 930\u001b[0m \u001b[43mconn\u001b[49m\u001b[38;5;241;43m.\u001b[39;49m\u001b[43mgrant_privilege\u001b[49m\u001b[43m(\u001b[49m\n\u001b[1;32m    931\u001b[0m \u001b[43m    \u001b[49m\u001b[43mrole_name\u001b[49m\u001b[43m,\u001b[49m\u001b[43m \u001b[49m\u001b[43mobject_type\u001b[49m\u001b[43m,\u001b[49m\u001b[43m \u001b[49m\u001b[43mobject_name\u001b[49m\u001b[43m,\u001b[49m\u001b[43m \u001b[49m\u001b[43mprivilege\u001b[49m\u001b[43m,\u001b[49m\u001b[43m \u001b[49m\u001b[43mdb_name\u001b[49m\u001b[43m,\u001b[49m\u001b[43m \u001b[49m\u001b[43mtimeout\u001b[49m\u001b[38;5;241;43m=\u001b[39;49m\u001b[43mtimeout\u001b[49m\u001b[43m,\u001b[49m\u001b[43m \u001b[49m\u001b[38;5;241;43m*\u001b[39;49m\u001b[38;5;241;43m*\u001b[39;49m\u001b[43mkwargs\u001b[49m\n\u001b[1;32m    932\u001b[0m \u001b[43m\u001b[49m\u001b[43m)\u001b[49m\n",
      "File \u001b[0;32m/Volumes/home/Learn/Master/3.LLMs/rag_pipeline/.venv/lib/python3.11/site-packages/pymilvus/decorators.py:148\u001b[0m, in \u001b[0;36merror_handler.<locals>.wrapper.<locals>.handler\u001b[0;34m(*args, **kwargs)\u001b[0m\n\u001b[1;32m    147\u001b[0m     LOGGER\u001b[38;5;241m.\u001b[39merror(\u001b[38;5;124mf\u001b[39m\u001b[38;5;124m\"\u001b[39m\u001b[38;5;124mRPC error: [\u001b[39m\u001b[38;5;132;01m{\u001b[39;00minner_name\u001b[38;5;132;01m}\u001b[39;00m\u001b[38;5;124m], \u001b[39m\u001b[38;5;132;01m{\u001b[39;00me\u001b[38;5;132;01m}\u001b[39;00m\u001b[38;5;124m, <Time:\u001b[39m\u001b[38;5;132;01m{\u001b[39;00mrecord_dict\u001b[38;5;132;01m}\u001b[39;00m\u001b[38;5;124m>\u001b[39m\u001b[38;5;124m\"\u001b[39m)\n\u001b[0;32m--> 148\u001b[0m     \u001b[38;5;28;01mraise\u001b[39;00m e \u001b[38;5;28;01mfrom\u001b[39;00m \u001b[38;5;21;01me\u001b[39;00m\n\u001b[1;32m    149\u001b[0m \u001b[38;5;28;01mexcept\u001b[39;00m grpc\u001b[38;5;241m.\u001b[39mFutureTimeoutError \u001b[38;5;28;01mas\u001b[39;00m e:\n",
      "File \u001b[0;32m/Volumes/home/Learn/Master/3.LLMs/rag_pipeline/.venv/lib/python3.11/site-packages/pymilvus/decorators.py:144\u001b[0m, in \u001b[0;36merror_handler.<locals>.wrapper.<locals>.handler\u001b[0;34m(*args, **kwargs)\u001b[0m\n\u001b[1;32m    143\u001b[0m     record_dict[\u001b[38;5;124m\"\u001b[39m\u001b[38;5;124mRPC start\u001b[39m\u001b[38;5;124m\"\u001b[39m] \u001b[38;5;241m=\u001b[39m \u001b[38;5;28mstr\u001b[39m(datetime\u001b[38;5;241m.\u001b[39mdatetime\u001b[38;5;241m.\u001b[39mnow())\n\u001b[0;32m--> 144\u001b[0m     \u001b[38;5;28;01mreturn\u001b[39;00m \u001b[43mfunc\u001b[49m\u001b[43m(\u001b[49m\u001b[38;5;241;43m*\u001b[39;49m\u001b[43margs\u001b[49m\u001b[43m,\u001b[49m\u001b[43m \u001b[49m\u001b[38;5;241;43m*\u001b[39;49m\u001b[38;5;241;43m*\u001b[39;49m\u001b[43mkwargs\u001b[49m\u001b[43m)\u001b[49m\n\u001b[1;32m    145\u001b[0m \u001b[38;5;28;01mexcept\u001b[39;00m MilvusException \u001b[38;5;28;01mas\u001b[39;00m e:\n",
      "File \u001b[0;32m/Volumes/home/Learn/Master/3.LLMs/rag_pipeline/.venv/lib/python3.11/site-packages/pymilvus/decorators.py:183\u001b[0m, in \u001b[0;36mtracing_request.<locals>.wrapper.<locals>.handler\u001b[0;34m(self, *args, **kwargs)\u001b[0m\n\u001b[1;32m    182\u001b[0m     \u001b[38;5;28mself\u001b[39m\u001b[38;5;241m.\u001b[39mset_onetime_request_id(req_id)\n\u001b[0;32m--> 183\u001b[0m \u001b[38;5;28;01mreturn\u001b[39;00m \u001b[43mfunc\u001b[49m\u001b[43m(\u001b[49m\u001b[38;5;28;43mself\u001b[39;49m\u001b[43m,\u001b[49m\u001b[43m \u001b[49m\u001b[38;5;241;43m*\u001b[39;49m\u001b[43margs\u001b[49m\u001b[43m,\u001b[49m\u001b[43m \u001b[49m\u001b[38;5;241;43m*\u001b[39;49m\u001b[38;5;241;43m*\u001b[39;49m\u001b[43mkwargs\u001b[49m\u001b[43m)\u001b[49m\n",
      "File \u001b[0;32m/Volumes/home/Learn/Master/3.LLMs/rag_pipeline/.venv/lib/python3.11/site-packages/pymilvus/decorators.py:123\u001b[0m, in \u001b[0;36mretry_on_rpc_failure.<locals>.wrapper.<locals>.handler\u001b[0;34m(*args, **kwargs)\u001b[0m\n\u001b[1;32m    122\u001b[0m     \u001b[38;5;28;01melse\u001b[39;00m:\n\u001b[0;32m--> 123\u001b[0m         \u001b[38;5;28;01mraise\u001b[39;00m e \u001b[38;5;28;01mfrom\u001b[39;00m \u001b[38;5;21;01me\u001b[39;00m\n\u001b[1;32m    124\u001b[0m \u001b[38;5;28;01mexcept\u001b[39;00m \u001b[38;5;167;01mException\u001b[39;00m \u001b[38;5;28;01mas\u001b[39;00m e:\n",
      "File \u001b[0;32m/Volumes/home/Learn/Master/3.LLMs/rag_pipeline/.venv/lib/python3.11/site-packages/pymilvus/decorators.py:87\u001b[0m, in \u001b[0;36mretry_on_rpc_failure.<locals>.wrapper.<locals>.handler\u001b[0;34m(*args, **kwargs)\u001b[0m\n\u001b[1;32m     86\u001b[0m \u001b[38;5;28;01mtry\u001b[39;00m:\n\u001b[0;32m---> 87\u001b[0m     \u001b[38;5;28;01mreturn\u001b[39;00m \u001b[43mfunc\u001b[49m\u001b[43m(\u001b[49m\u001b[38;5;241;43m*\u001b[39;49m\u001b[43margs\u001b[49m\u001b[43m,\u001b[49m\u001b[43m \u001b[49m\u001b[38;5;241;43m*\u001b[39;49m\u001b[38;5;241;43m*\u001b[39;49m\u001b[43mkwargs\u001b[49m\u001b[43m)\u001b[49m\n\u001b[1;32m     88\u001b[0m \u001b[38;5;28;01mexcept\u001b[39;00m grpc\u001b[38;5;241m.\u001b[39mRpcError \u001b[38;5;28;01mas\u001b[39;00m e:\n\u001b[1;32m     89\u001b[0m     \u001b[38;5;66;03m# Do not retry on these codes\u001b[39;00m\n",
      "File \u001b[0;32m/Volumes/home/Learn/Master/3.LLMs/rag_pipeline/.venv/lib/python3.11/site-packages/pymilvus/client/grpc_handler.py:1830\u001b[0m, in \u001b[0;36mGrpcHandler.grant_privilege\u001b[0;34m(self, role_name, object, object_name, privilege, db_name, timeout, **kwargs)\u001b[0m\n\u001b[1;32m   1829\u001b[0m resp \u001b[38;5;241m=\u001b[39m \u001b[38;5;28mself\u001b[39m\u001b[38;5;241m.\u001b[39m_stub\u001b[38;5;241m.\u001b[39mOperatePrivilege(req, wait_for_ready\u001b[38;5;241m=\u001b[39m\u001b[38;5;28;01mTrue\u001b[39;00m, timeout\u001b[38;5;241m=\u001b[39mtimeout)\n\u001b[0;32m-> 1830\u001b[0m \u001b[43mcheck_status\u001b[49m\u001b[43m(\u001b[49m\u001b[43mresp\u001b[49m\u001b[43m)\u001b[49m\n",
      "File \u001b[0;32m/Volumes/home/Learn/Master/3.LLMs/rag_pipeline/.venv/lib/python3.11/site-packages/pymilvus/client/utils.py:63\u001b[0m, in \u001b[0;36mcheck_status\u001b[0;34m(status)\u001b[0m\n\u001b[1;32m     62\u001b[0m \u001b[38;5;28;01mif\u001b[39;00m status\u001b[38;5;241m.\u001b[39mcode \u001b[38;5;241m!=\u001b[39m \u001b[38;5;241m0\u001b[39m \u001b[38;5;129;01mor\u001b[39;00m status\u001b[38;5;241m.\u001b[39merror_code \u001b[38;5;241m!=\u001b[39m \u001b[38;5;241m0\u001b[39m:\n\u001b[0;32m---> 63\u001b[0m     \u001b[38;5;28;01mraise\u001b[39;00m MilvusException(status\u001b[38;5;241m.\u001b[39mcode, status\u001b[38;5;241m.\u001b[39mreason, status\u001b[38;5;241m.\u001b[39merror_code)\n",
      "\u001b[0;31mMilvusException\u001b[0m: <MilvusException: (code=65535, message=not found the role, maybe the role isn't existed or internal system error)>",
      "\nThe above exception was the direct cause of the following exception:\n",
      "\u001b[0;31mMilvusException\u001b[0m                           Traceback (most recent call last)",
      "    \u001b[0;31m[... skipping hidden 1 frame]\u001b[0m\n",
      "Cell \u001b[0;32mIn[66], line 1\u001b[0m\n\u001b[0;32m----> 1\u001b[0m \u001b[43mclient\u001b[49m\u001b[38;5;241;43m.\u001b[39;49m\u001b[43mgrant_privilege\u001b[49m\u001b[43m(\u001b[49m\n\u001b[1;32m      2\u001b[0m \u001b[43m    \u001b[49m\u001b[43mrole_name\u001b[49m\u001b[38;5;241;43m=\u001b[39;49m\u001b[38;5;124;43m'\u001b[39;49m\u001b[38;5;124;43mroleA\u001b[39;49m\u001b[38;5;124;43m'\u001b[39;49m\u001b[43m,\u001b[49m\n\u001b[1;32m      3\u001b[0m \u001b[43m    \u001b[49m\u001b[43mobject_type\u001b[49m\u001b[38;5;241;43m=\u001b[39;49m\u001b[38;5;124;43m'\u001b[39;49m\u001b[38;5;124;43mUser\u001b[39;49m\u001b[38;5;124;43m'\u001b[39;49m\u001b[43m,\u001b[49m\u001b[43m  \u001b[49m\u001b[38;5;66;43;03m# value here can be Global, Collection or User, object type also depends on the API defined in privilegeName\u001b[39;49;00m\n\u001b[1;32m      4\u001b[0m \u001b[43m    \u001b[49m\u001b[43mobject_name\u001b[49m\u001b[38;5;241;43m=\u001b[39;49m\u001b[38;5;124;43m'\u001b[39;49m\u001b[38;5;124;43muser_1\u001b[39;49m\u001b[38;5;124;43m'\u001b[39;49m\u001b[43m,\u001b[49m\u001b[43m  \u001b[49m\u001b[38;5;66;43;03m# value here can be * or a specific user name if object type is 'User'\u001b[39;49;00m\n\u001b[1;32m      5\u001b[0m \u001b[43m    \u001b[49m\u001b[43mprivilege\u001b[49m\u001b[38;5;241;43m=\u001b[39;49m\u001b[38;5;124;43m'\u001b[39;49m\u001b[38;5;124;43mSelectUser\u001b[39;49m\u001b[38;5;124;43m'\u001b[39;49m\n\u001b[1;32m      6\u001b[0m \u001b[43m)\u001b[49m\n",
      "File \u001b[0;32m/Volumes/home/Learn/Master/3.LLMs/rag_pipeline/.venv/lib/python3.11/site-packages/pymilvus/milvus_client/milvus_client.py:930\u001b[0m, in \u001b[0;36mMilvusClient.grant_privilege\u001b[0;34m(self, role_name, object_type, privilege, object_name, db_name, timeout, **kwargs)\u001b[0m\n\u001b[1;32m    929\u001b[0m conn \u001b[38;5;241m=\u001b[39m \u001b[38;5;28mself\u001b[39m\u001b[38;5;241m.\u001b[39m_get_connection()\n\u001b[0;32m--> 930\u001b[0m \u001b[43mconn\u001b[49m\u001b[38;5;241;43m.\u001b[39;49m\u001b[43mgrant_privilege\u001b[49m\u001b[43m(\u001b[49m\n\u001b[1;32m    931\u001b[0m \u001b[43m    \u001b[49m\u001b[43mrole_name\u001b[49m\u001b[43m,\u001b[49m\u001b[43m \u001b[49m\u001b[43mobject_type\u001b[49m\u001b[43m,\u001b[49m\u001b[43m \u001b[49m\u001b[43mobject_name\u001b[49m\u001b[43m,\u001b[49m\u001b[43m \u001b[49m\u001b[43mprivilege\u001b[49m\u001b[43m,\u001b[49m\u001b[43m \u001b[49m\u001b[43mdb_name\u001b[49m\u001b[43m,\u001b[49m\u001b[43m \u001b[49m\u001b[43mtimeout\u001b[49m\u001b[38;5;241;43m=\u001b[39;49m\u001b[43mtimeout\u001b[49m\u001b[43m,\u001b[49m\u001b[43m \u001b[49m\u001b[38;5;241;43m*\u001b[39;49m\u001b[38;5;241;43m*\u001b[39;49m\u001b[43mkwargs\u001b[49m\n\u001b[1;32m    932\u001b[0m \u001b[43m\u001b[49m\u001b[43m)\u001b[49m\n",
      "File \u001b[0;32m/Volumes/home/Learn/Master/3.LLMs/rag_pipeline/.venv/lib/python3.11/site-packages/pymilvus/decorators.py:148\u001b[0m, in \u001b[0;36merror_handler.<locals>.wrapper.<locals>.handler\u001b[0;34m(*args, **kwargs)\u001b[0m\n\u001b[1;32m    147\u001b[0m     LOGGER\u001b[38;5;241m.\u001b[39merror(\u001b[38;5;124mf\u001b[39m\u001b[38;5;124m\"\u001b[39m\u001b[38;5;124mRPC error: [\u001b[39m\u001b[38;5;132;01m{\u001b[39;00minner_name\u001b[38;5;132;01m}\u001b[39;00m\u001b[38;5;124m], \u001b[39m\u001b[38;5;132;01m{\u001b[39;00me\u001b[38;5;132;01m}\u001b[39;00m\u001b[38;5;124m, <Time:\u001b[39m\u001b[38;5;132;01m{\u001b[39;00mrecord_dict\u001b[38;5;132;01m}\u001b[39;00m\u001b[38;5;124m>\u001b[39m\u001b[38;5;124m\"\u001b[39m)\n\u001b[0;32m--> 148\u001b[0m     \u001b[38;5;28;01mraise\u001b[39;00m e \u001b[38;5;28;01mfrom\u001b[39;00m \u001b[38;5;21;01me\u001b[39;00m\n\u001b[1;32m    149\u001b[0m \u001b[38;5;28;01mexcept\u001b[39;00m grpc\u001b[38;5;241m.\u001b[39mFutureTimeoutError \u001b[38;5;28;01mas\u001b[39;00m e:\n",
      "File \u001b[0;32m/Volumes/home/Learn/Master/3.LLMs/rag_pipeline/.venv/lib/python3.11/site-packages/pymilvus/decorators.py:144\u001b[0m, in \u001b[0;36merror_handler.<locals>.wrapper.<locals>.handler\u001b[0;34m(*args, **kwargs)\u001b[0m\n\u001b[1;32m    143\u001b[0m     record_dict[\u001b[38;5;124m\"\u001b[39m\u001b[38;5;124mRPC start\u001b[39m\u001b[38;5;124m\"\u001b[39m] \u001b[38;5;241m=\u001b[39m \u001b[38;5;28mstr\u001b[39m(datetime\u001b[38;5;241m.\u001b[39mdatetime\u001b[38;5;241m.\u001b[39mnow())\n\u001b[0;32m--> 144\u001b[0m     \u001b[38;5;28;01mreturn\u001b[39;00m \u001b[43mfunc\u001b[49m\u001b[43m(\u001b[49m\u001b[38;5;241;43m*\u001b[39;49m\u001b[43margs\u001b[49m\u001b[43m,\u001b[49m\u001b[43m \u001b[49m\u001b[38;5;241;43m*\u001b[39;49m\u001b[38;5;241;43m*\u001b[39;49m\u001b[43mkwargs\u001b[49m\u001b[43m)\u001b[49m\n\u001b[1;32m    145\u001b[0m \u001b[38;5;28;01mexcept\u001b[39;00m MilvusException \u001b[38;5;28;01mas\u001b[39;00m e:\n",
      "File \u001b[0;32m/Volumes/home/Learn/Master/3.LLMs/rag_pipeline/.venv/lib/python3.11/site-packages/pymilvus/decorators.py:183\u001b[0m, in \u001b[0;36mtracing_request.<locals>.wrapper.<locals>.handler\u001b[0;34m(self, *args, **kwargs)\u001b[0m\n\u001b[1;32m    182\u001b[0m     \u001b[38;5;28mself\u001b[39m\u001b[38;5;241m.\u001b[39mset_onetime_request_id(req_id)\n\u001b[0;32m--> 183\u001b[0m \u001b[38;5;28;01mreturn\u001b[39;00m \u001b[43mfunc\u001b[49m\u001b[43m(\u001b[49m\u001b[38;5;28;43mself\u001b[39;49m\u001b[43m,\u001b[49m\u001b[43m \u001b[49m\u001b[38;5;241;43m*\u001b[39;49m\u001b[43margs\u001b[49m\u001b[43m,\u001b[49m\u001b[43m \u001b[49m\u001b[38;5;241;43m*\u001b[39;49m\u001b[38;5;241;43m*\u001b[39;49m\u001b[43mkwargs\u001b[49m\u001b[43m)\u001b[49m\n",
      "File \u001b[0;32m/Volumes/home/Learn/Master/3.LLMs/rag_pipeline/.venv/lib/python3.11/site-packages/pymilvus/decorators.py:123\u001b[0m, in \u001b[0;36mretry_on_rpc_failure.<locals>.wrapper.<locals>.handler\u001b[0;34m(*args, **kwargs)\u001b[0m\n\u001b[1;32m    122\u001b[0m     \u001b[38;5;28;01melse\u001b[39;00m:\n\u001b[0;32m--> 123\u001b[0m         \u001b[38;5;28;01mraise\u001b[39;00m e \u001b[38;5;28;01mfrom\u001b[39;00m \u001b[38;5;21;01me\u001b[39;00m\n\u001b[1;32m    124\u001b[0m \u001b[38;5;28;01mexcept\u001b[39;00m \u001b[38;5;167;01mException\u001b[39;00m \u001b[38;5;28;01mas\u001b[39;00m e:\n",
      "File \u001b[0;32m/Volumes/home/Learn/Master/3.LLMs/rag_pipeline/.venv/lib/python3.11/site-packages/pymilvus/decorators.py:87\u001b[0m, in \u001b[0;36mretry_on_rpc_failure.<locals>.wrapper.<locals>.handler\u001b[0;34m(*args, **kwargs)\u001b[0m\n\u001b[1;32m     86\u001b[0m \u001b[38;5;28;01mtry\u001b[39;00m:\n\u001b[0;32m---> 87\u001b[0m     \u001b[38;5;28;01mreturn\u001b[39;00m \u001b[43mfunc\u001b[49m\u001b[43m(\u001b[49m\u001b[38;5;241;43m*\u001b[39;49m\u001b[43margs\u001b[49m\u001b[43m,\u001b[49m\u001b[43m \u001b[49m\u001b[38;5;241;43m*\u001b[39;49m\u001b[38;5;241;43m*\u001b[39;49m\u001b[43mkwargs\u001b[49m\u001b[43m)\u001b[49m\n\u001b[1;32m     88\u001b[0m \u001b[38;5;28;01mexcept\u001b[39;00m grpc\u001b[38;5;241m.\u001b[39mRpcError \u001b[38;5;28;01mas\u001b[39;00m e:\n\u001b[1;32m     89\u001b[0m     \u001b[38;5;66;03m# Do not retry on these codes\u001b[39;00m\n",
      "File \u001b[0;32m/Volumes/home/Learn/Master/3.LLMs/rag_pipeline/.venv/lib/python3.11/site-packages/pymilvus/client/grpc_handler.py:1830\u001b[0m, in \u001b[0;36mGrpcHandler.grant_privilege\u001b[0;34m(self, role_name, object, object_name, privilege, db_name, timeout, **kwargs)\u001b[0m\n\u001b[1;32m   1829\u001b[0m resp \u001b[38;5;241m=\u001b[39m \u001b[38;5;28mself\u001b[39m\u001b[38;5;241m.\u001b[39m_stub\u001b[38;5;241m.\u001b[39mOperatePrivilege(req, wait_for_ready\u001b[38;5;241m=\u001b[39m\u001b[38;5;28;01mTrue\u001b[39;00m, timeout\u001b[38;5;241m=\u001b[39mtimeout)\n\u001b[0;32m-> 1830\u001b[0m \u001b[43mcheck_status\u001b[49m\u001b[43m(\u001b[49m\u001b[43mresp\u001b[49m\u001b[43m)\u001b[49m\n",
      "File \u001b[0;32m/Volumes/home/Learn/Master/3.LLMs/rag_pipeline/.venv/lib/python3.11/site-packages/pymilvus/client/utils.py:63\u001b[0m, in \u001b[0;36mcheck_status\u001b[0;34m(status)\u001b[0m\n\u001b[1;32m     62\u001b[0m \u001b[38;5;28;01mif\u001b[39;00m status\u001b[38;5;241m.\u001b[39mcode \u001b[38;5;241m!=\u001b[39m \u001b[38;5;241m0\u001b[39m \u001b[38;5;129;01mor\u001b[39;00m status\u001b[38;5;241m.\u001b[39merror_code \u001b[38;5;241m!=\u001b[39m \u001b[38;5;241m0\u001b[39m:\n\u001b[0;32m---> 63\u001b[0m     \u001b[38;5;28;01mraise\u001b[39;00m MilvusException(status\u001b[38;5;241m.\u001b[39mcode, status\u001b[38;5;241m.\u001b[39mreason, status\u001b[38;5;241m.\u001b[39merror_code)\n",
      "\u001b[0;31mMilvusException\u001b[0m: <MilvusException: (code=65535, message=not found the role, maybe the role isn't existed or internal system error)>",
      "\nThe above exception was the direct cause of the following exception:\n",
      "\u001b[0;31mMilvusException\u001b[0m                           Traceback (most recent call last)",
      "Cell \u001b[0;32mIn[66], line 1\u001b[0m\n\u001b[0;32m----> 1\u001b[0m \u001b[43mclient\u001b[49m\u001b[38;5;241;43m.\u001b[39;49m\u001b[43mgrant_privilege\u001b[49m\u001b[43m(\u001b[49m\n\u001b[1;32m      2\u001b[0m \u001b[43m    \u001b[49m\u001b[43mrole_name\u001b[49m\u001b[38;5;241;43m=\u001b[39;49m\u001b[38;5;124;43m'\u001b[39;49m\u001b[38;5;124;43mroleA\u001b[39;49m\u001b[38;5;124;43m'\u001b[39;49m\u001b[43m,\u001b[49m\n\u001b[1;32m      3\u001b[0m \u001b[43m    \u001b[49m\u001b[43mobject_type\u001b[49m\u001b[38;5;241;43m=\u001b[39;49m\u001b[38;5;124;43m'\u001b[39;49m\u001b[38;5;124;43mUser\u001b[39;49m\u001b[38;5;124;43m'\u001b[39;49m\u001b[43m,\u001b[49m\u001b[43m  \u001b[49m\u001b[38;5;66;43;03m# value here can be Global, Collection or User, object type also depends on the API defined in privilegeName\u001b[39;49;00m\n\u001b[1;32m      4\u001b[0m \u001b[43m    \u001b[49m\u001b[43mobject_name\u001b[49m\u001b[38;5;241;43m=\u001b[39;49m\u001b[38;5;124;43m'\u001b[39;49m\u001b[38;5;124;43muser_1\u001b[39;49m\u001b[38;5;124;43m'\u001b[39;49m\u001b[43m,\u001b[49m\u001b[43m  \u001b[49m\u001b[38;5;66;43;03m# value here can be * or a specific user name if object type is 'User'\u001b[39;49;00m\n\u001b[1;32m      5\u001b[0m \u001b[43m    \u001b[49m\u001b[43mprivilege\u001b[49m\u001b[38;5;241;43m=\u001b[39;49m\u001b[38;5;124;43m'\u001b[39;49m\u001b[38;5;124;43mSelectUser\u001b[39;49m\u001b[38;5;124;43m'\u001b[39;49m\n\u001b[1;32m      6\u001b[0m \u001b[43m)\u001b[49m\n",
      "File \u001b[0;32m/Volumes/home/Learn/Master/3.LLMs/rag_pipeline/.venv/lib/python3.11/site-packages/pymilvus/milvus_client/milvus_client.py:930\u001b[0m, in \u001b[0;36mMilvusClient.grant_privilege\u001b[0;34m(self, role_name, object_type, privilege, object_name, db_name, timeout, **kwargs)\u001b[0m\n\u001b[1;32m    919\u001b[0m \u001b[38;5;28;01mdef\u001b[39;00m \u001b[38;5;21mgrant_privilege\u001b[39m(\n\u001b[1;32m    920\u001b[0m     \u001b[38;5;28mself\u001b[39m,\n\u001b[1;32m    921\u001b[0m     role_name: \u001b[38;5;28mstr\u001b[39m,\n\u001b[0;32m   (...)\u001b[0m\n\u001b[1;32m    927\u001b[0m     \u001b[38;5;241m*\u001b[39m\u001b[38;5;241m*\u001b[39mkwargs,\n\u001b[1;32m    928\u001b[0m ):\n\u001b[1;32m    929\u001b[0m     conn \u001b[38;5;241m=\u001b[39m \u001b[38;5;28mself\u001b[39m\u001b[38;5;241m.\u001b[39m_get_connection()\n\u001b[0;32m--> 930\u001b[0m     \u001b[43mconn\u001b[49m\u001b[38;5;241;43m.\u001b[39;49m\u001b[43mgrant_privilege\u001b[49m\u001b[43m(\u001b[49m\n\u001b[1;32m    931\u001b[0m \u001b[43m        \u001b[49m\u001b[43mrole_name\u001b[49m\u001b[43m,\u001b[49m\u001b[43m \u001b[49m\u001b[43mobject_type\u001b[49m\u001b[43m,\u001b[49m\u001b[43m \u001b[49m\u001b[43mobject_name\u001b[49m\u001b[43m,\u001b[49m\u001b[43m \u001b[49m\u001b[43mprivilege\u001b[49m\u001b[43m,\u001b[49m\u001b[43m \u001b[49m\u001b[43mdb_name\u001b[49m\u001b[43m,\u001b[49m\u001b[43m \u001b[49m\u001b[43mtimeout\u001b[49m\u001b[38;5;241;43m=\u001b[39;49m\u001b[43mtimeout\u001b[49m\u001b[43m,\u001b[49m\u001b[43m \u001b[49m\u001b[38;5;241;43m*\u001b[39;49m\u001b[38;5;241;43m*\u001b[39;49m\u001b[43mkwargs\u001b[49m\n\u001b[1;32m    932\u001b[0m \u001b[43m    \u001b[49m\u001b[43m)\u001b[49m\n",
      "File \u001b[0;32m/Volumes/home/Learn/Master/3.LLMs/rag_pipeline/.venv/lib/python3.11/site-packages/pymilvus/decorators.py:148\u001b[0m, in \u001b[0;36merror_handler.<locals>.wrapper.<locals>.handler\u001b[0;34m(*args, **kwargs)\u001b[0m\n\u001b[1;32m    146\u001b[0m     record_dict[\u001b[38;5;124m\"\u001b[39m\u001b[38;5;124mRPC error\u001b[39m\u001b[38;5;124m\"\u001b[39m] \u001b[38;5;241m=\u001b[39m \u001b[38;5;28mstr\u001b[39m(datetime\u001b[38;5;241m.\u001b[39mdatetime\u001b[38;5;241m.\u001b[39mnow())\n\u001b[1;32m    147\u001b[0m     LOGGER\u001b[38;5;241m.\u001b[39merror(\u001b[38;5;124mf\u001b[39m\u001b[38;5;124m\"\u001b[39m\u001b[38;5;124mRPC error: [\u001b[39m\u001b[38;5;132;01m{\u001b[39;00minner_name\u001b[38;5;132;01m}\u001b[39;00m\u001b[38;5;124m], \u001b[39m\u001b[38;5;132;01m{\u001b[39;00me\u001b[38;5;132;01m}\u001b[39;00m\u001b[38;5;124m, <Time:\u001b[39m\u001b[38;5;132;01m{\u001b[39;00mrecord_dict\u001b[38;5;132;01m}\u001b[39;00m\u001b[38;5;124m>\u001b[39m\u001b[38;5;124m\"\u001b[39m)\n\u001b[0;32m--> 148\u001b[0m     \u001b[38;5;28;01mraise\u001b[39;00m e \u001b[38;5;28;01mfrom\u001b[39;00m \u001b[38;5;21;01me\u001b[39;00m\n\u001b[1;32m    149\u001b[0m \u001b[38;5;28;01mexcept\u001b[39;00m grpc\u001b[38;5;241m.\u001b[39mFutureTimeoutError \u001b[38;5;28;01mas\u001b[39;00m e:\n\u001b[1;32m    150\u001b[0m     record_dict[\u001b[38;5;124m\"\u001b[39m\u001b[38;5;124mgRPC timeout\u001b[39m\u001b[38;5;124m\"\u001b[39m] \u001b[38;5;241m=\u001b[39m \u001b[38;5;28mstr\u001b[39m(datetime\u001b[38;5;241m.\u001b[39mdatetime\u001b[38;5;241m.\u001b[39mnow())\n",
      "File \u001b[0;32m/Volumes/home/Learn/Master/3.LLMs/rag_pipeline/.venv/lib/python3.11/site-packages/pymilvus/decorators.py:144\u001b[0m, in \u001b[0;36merror_handler.<locals>.wrapper.<locals>.handler\u001b[0;34m(*args, **kwargs)\u001b[0m\n\u001b[1;32m    142\u001b[0m \u001b[38;5;28;01mtry\u001b[39;00m:\n\u001b[1;32m    143\u001b[0m     record_dict[\u001b[38;5;124m\"\u001b[39m\u001b[38;5;124mRPC start\u001b[39m\u001b[38;5;124m\"\u001b[39m] \u001b[38;5;241m=\u001b[39m \u001b[38;5;28mstr\u001b[39m(datetime\u001b[38;5;241m.\u001b[39mdatetime\u001b[38;5;241m.\u001b[39mnow())\n\u001b[0;32m--> 144\u001b[0m     \u001b[38;5;28;01mreturn\u001b[39;00m \u001b[43mfunc\u001b[49m\u001b[43m(\u001b[49m\u001b[38;5;241;43m*\u001b[39;49m\u001b[43margs\u001b[49m\u001b[43m,\u001b[49m\u001b[43m \u001b[49m\u001b[38;5;241;43m*\u001b[39;49m\u001b[38;5;241;43m*\u001b[39;49m\u001b[43mkwargs\u001b[49m\u001b[43m)\u001b[49m\n\u001b[1;32m    145\u001b[0m \u001b[38;5;28;01mexcept\u001b[39;00m MilvusException \u001b[38;5;28;01mas\u001b[39;00m e:\n\u001b[1;32m    146\u001b[0m     record_dict[\u001b[38;5;124m\"\u001b[39m\u001b[38;5;124mRPC error\u001b[39m\u001b[38;5;124m\"\u001b[39m] \u001b[38;5;241m=\u001b[39m \u001b[38;5;28mstr\u001b[39m(datetime\u001b[38;5;241m.\u001b[39mdatetime\u001b[38;5;241m.\u001b[39mnow())\n",
      "File \u001b[0;32m/Volumes/home/Learn/Master/3.LLMs/rag_pipeline/.venv/lib/python3.11/site-packages/pymilvus/decorators.py:183\u001b[0m, in \u001b[0;36mtracing_request.<locals>.wrapper.<locals>.handler\u001b[0;34m(self, *args, **kwargs)\u001b[0m\n\u001b[1;32m    181\u001b[0m \u001b[38;5;28;01mif\u001b[39;00m req_id:\n\u001b[1;32m    182\u001b[0m     \u001b[38;5;28mself\u001b[39m\u001b[38;5;241m.\u001b[39mset_onetime_request_id(req_id)\n\u001b[0;32m--> 183\u001b[0m \u001b[38;5;28;01mreturn\u001b[39;00m \u001b[43mfunc\u001b[49m\u001b[43m(\u001b[49m\u001b[38;5;28;43mself\u001b[39;49m\u001b[43m,\u001b[49m\u001b[43m \u001b[49m\u001b[38;5;241;43m*\u001b[39;49m\u001b[43margs\u001b[49m\u001b[43m,\u001b[49m\u001b[43m \u001b[49m\u001b[38;5;241;43m*\u001b[39;49m\u001b[38;5;241;43m*\u001b[39;49m\u001b[43mkwargs\u001b[49m\u001b[43m)\u001b[49m\n",
      "File \u001b[0;32m/Volumes/home/Learn/Master/3.LLMs/rag_pipeline/.venv/lib/python3.11/site-packages/pymilvus/decorators.py:123\u001b[0m, in \u001b[0;36mretry_on_rpc_failure.<locals>.wrapper.<locals>.handler\u001b[0;34m(*args, **kwargs)\u001b[0m\n\u001b[1;32m    121\u001b[0m         back_off \u001b[38;5;241m=\u001b[39m \u001b[38;5;28mmin\u001b[39m(back_off \u001b[38;5;241m*\u001b[39m back_off_multiplier, max_back_off)\n\u001b[1;32m    122\u001b[0m     \u001b[38;5;28;01melse\u001b[39;00m:\n\u001b[0;32m--> 123\u001b[0m         \u001b[38;5;28;01mraise\u001b[39;00m e \u001b[38;5;28;01mfrom\u001b[39;00m \u001b[38;5;21;01me\u001b[39;00m\n\u001b[1;32m    124\u001b[0m \u001b[38;5;28;01mexcept\u001b[39;00m \u001b[38;5;167;01mException\u001b[39;00m \u001b[38;5;28;01mas\u001b[39;00m e:\n\u001b[1;32m    125\u001b[0m     \u001b[38;5;28;01mraise\u001b[39;00m e \u001b[38;5;28;01mfrom\u001b[39;00m \u001b[38;5;21;01me\u001b[39;00m\n",
      "File \u001b[0;32m/Volumes/home/Learn/Master/3.LLMs/rag_pipeline/.venv/lib/python3.11/site-packages/pymilvus/decorators.py:87\u001b[0m, in \u001b[0;36mretry_on_rpc_failure.<locals>.wrapper.<locals>.handler\u001b[0;34m(*args, **kwargs)\u001b[0m\n\u001b[1;32m     85\u001b[0m \u001b[38;5;28;01mwhile\u001b[39;00m \u001b[38;5;28;01mTrue\u001b[39;00m:\n\u001b[1;32m     86\u001b[0m     \u001b[38;5;28;01mtry\u001b[39;00m:\n\u001b[0;32m---> 87\u001b[0m         \u001b[38;5;28;01mreturn\u001b[39;00m \u001b[43mfunc\u001b[49m\u001b[43m(\u001b[49m\u001b[38;5;241;43m*\u001b[39;49m\u001b[43margs\u001b[49m\u001b[43m,\u001b[49m\u001b[43m \u001b[49m\u001b[38;5;241;43m*\u001b[39;49m\u001b[38;5;241;43m*\u001b[39;49m\u001b[43mkwargs\u001b[49m\u001b[43m)\u001b[49m\n\u001b[1;32m     88\u001b[0m     \u001b[38;5;28;01mexcept\u001b[39;00m grpc\u001b[38;5;241m.\u001b[39mRpcError \u001b[38;5;28;01mas\u001b[39;00m e:\n\u001b[1;32m     89\u001b[0m         \u001b[38;5;66;03m# Do not retry on these codes\u001b[39;00m\n\u001b[1;32m     90\u001b[0m         \u001b[38;5;28;01mif\u001b[39;00m e\u001b[38;5;241m.\u001b[39mcode() \u001b[38;5;129;01min\u001b[39;00m IGNORE_RETRY_CODES:\n",
      "File \u001b[0;32m/Volumes/home/Learn/Master/3.LLMs/rag_pipeline/.venv/lib/python3.11/site-packages/pymilvus/client/grpc_handler.py:1830\u001b[0m, in \u001b[0;36mGrpcHandler.grant_privilege\u001b[0;34m(self, role_name, object, object_name, privilege, db_name, timeout, **kwargs)\u001b[0m\n\u001b[1;32m   1821\u001b[0m req \u001b[38;5;241m=\u001b[39m Prepare\u001b[38;5;241m.\u001b[39moperate_privilege_request(\n\u001b[1;32m   1822\u001b[0m     role_name,\n\u001b[1;32m   1823\u001b[0m     \u001b[38;5;28mobject\u001b[39m,\n\u001b[0;32m   (...)\u001b[0m\n\u001b[1;32m   1827\u001b[0m     milvus_types\u001b[38;5;241m.\u001b[39mOperatePrivilegeType\u001b[38;5;241m.\u001b[39mGrant,\n\u001b[1;32m   1828\u001b[0m )\n\u001b[1;32m   1829\u001b[0m resp \u001b[38;5;241m=\u001b[39m \u001b[38;5;28mself\u001b[39m\u001b[38;5;241m.\u001b[39m_stub\u001b[38;5;241m.\u001b[39mOperatePrivilege(req, wait_for_ready\u001b[38;5;241m=\u001b[39m\u001b[38;5;28;01mTrue\u001b[39;00m, timeout\u001b[38;5;241m=\u001b[39mtimeout)\n\u001b[0;32m-> 1830\u001b[0m \u001b[43mcheck_status\u001b[49m\u001b[43m(\u001b[49m\u001b[43mresp\u001b[49m\u001b[43m)\u001b[49m\n",
      "File \u001b[0;32m/Volumes/home/Learn/Master/3.LLMs/rag_pipeline/.venv/lib/python3.11/site-packages/pymilvus/client/utils.py:63\u001b[0m, in \u001b[0;36mcheck_status\u001b[0;34m(status)\u001b[0m\n\u001b[1;32m     61\u001b[0m \u001b[38;5;28;01mdef\u001b[39;00m \u001b[38;5;21mcheck_status\u001b[39m(status: Status):\n\u001b[1;32m     62\u001b[0m     \u001b[38;5;28;01mif\u001b[39;00m status\u001b[38;5;241m.\u001b[39mcode \u001b[38;5;241m!=\u001b[39m \u001b[38;5;241m0\u001b[39m \u001b[38;5;129;01mor\u001b[39;00m status\u001b[38;5;241m.\u001b[39merror_code \u001b[38;5;241m!=\u001b[39m \u001b[38;5;241m0\u001b[39m:\n\u001b[0;32m---> 63\u001b[0m         \u001b[38;5;28;01mraise\u001b[39;00m MilvusException(status\u001b[38;5;241m.\u001b[39mcode, status\u001b[38;5;241m.\u001b[39mreason, status\u001b[38;5;241m.\u001b[39merror_code)\n",
      "\u001b[0;31mMilvusException\u001b[0m: <MilvusException: (code=65535, message=not found the role, maybe the role isn't existed or internal system error)>"
     ]
    }
   ],
   "source": [
    "\n",
    "client.grant_privilege(\n",
    "    role_name='roleA',\n",
    "    object_type='User',  # value here can be Global, Collection or User, object type also depends on the API defined in privilegeName\n",
    "    object_name='user_1',  # value here can be * or a specific user name if object type is 'User'\n",
    "    privilege='SelectUser'\n",
    ")\n"
   ]
  },
  {
   "cell_type": "code",
   "execution_count": null,
   "metadata": {},
   "outputs": [
    {
     "data": {
      "text/plain": [
       "{'role': 'roleA',\n",
       " 'privileges': [{'object_type': 'User',\n",
       "   'object_name': 'user_1',\n",
       "   'db_name': 'default',\n",
       "   'role_name': 'roleA',\n",
       "   'privilege': 'SelectUser',\n",
       "   'grantor_name': 'root'}]}"
      ]
     },
     "execution_count": 72,
     "metadata": {},
     "output_type": "execute_result"
    }
   ],
   "source": [
    "client.describe_role(\n",
    "    role_name='roleA'\n",
    ")\n",
    "\n"
   ]
  },
  {
   "cell_type": "code",
   "execution_count": null,
   "metadata": {},
   "outputs": [],
   "source": [
    "\n",
    "client.grant_role(\n",
    "    user_name='user_1',\n",
    "    role_name='roleA'\n",
    ")\n"
   ]
  },
  {
   "cell_type": "code",
   "execution_count": null,
   "metadata": {},
   "outputs": [
    {
     "data": {
      "text/plain": [
       "{'user_name': 'user_1', 'roles': ('roleA',)}"
      ]
     },
     "execution_count": 74,
     "metadata": {},
     "output_type": "execute_result"
    }
   ],
   "source": [
    "client.describe_user(\n",
    "    user_name='user_1'\n",
    ")\n",
    "\n"
   ]
  },
  {
   "cell_type": "code",
   "execution_count": null,
   "metadata": {},
   "outputs": [],
   "source": [
    "client = MilvusClient(\n",
    "    uri=\"http://localhost:19530\"\n",
    ")"
   ]
  },
  {
   "cell_type": "code",
   "execution_count": null,
   "metadata": {},
   "outputs": [],
   "source": [
    "if client.has_collection(collection_name=\"demo_collection\"):\n",
    "    client.drop_collection(collection_name=\"demo_collection\")\n",
    "client.create_collection(\n",
    "        collection_name=\"demo_collection\",\n",
    "        dimension=1024,  # The vectors we will use in this demo has 768 dimensions\n",
    ")\n"
   ]
  },
  {
   "cell_type": "code",
   "execution_count": null,
   "metadata": {},
   "outputs": [
    {
     "name": "stdout",
     "output_type": "stream",
     "text": [
      "file_name Văn Bản Pháp Luật_p100000-100019.parquet\n",
      "{'insert_count': 20, 'ids': [100000, 100001, 100002, 100003, 100004, 100005, 100006, 100007, 100008, 100009, 100010, 100011, 100012, 100013, 100014, 100015, 100016, 100017, 100018, 100019]}\n",
      "Data inserted successfully!\n"
     ]
    }
   ],
   "source": [
    "import os\n",
    "import pandas as pd\n",
    "\n",
    "# Đường dẫn đến thư mục \"Khoi\"\n",
    "folder_path = '../Khoi'\n",
    "\n",
    "# Danh sách lưu trữ các DataFrame\n",
    "df_list = []\n",
    "\n",
    "# Duyệt qua tất cả các file trong thư mục\n",
    "# for file_name in os.listdir('Khoi'):\n",
    "for file_name in ['Văn Bản Pháp Luật_p100000-100019.parquet']:\n",
    "    # Kiểm tra nếu file có định dạng giống \"Văn Bản Pháp Luật_p*.parquet\"\n",
    "    print(\"file_name\", file_name)\n",
    "    file_path = os.path.join(folder_path, file_name)\n",
    "    \n",
    "    # Đọc file Parquet và thêm vào danh sách DataFrame\n",
    "    file_df = pd.read_parquet(file_path)\n",
    "    \n",
    "    # Thực hiện các chuyển đổi tương tự như bạn đã đề cập\n",
    "    file_df['created_date'] = pd.to_datetime(file_df['created_date'], format='%d/%m/%Y')\n",
    "    file_df['updated_date'] = pd.to_datetime(file_df['updated_date'], format='%d/%m/%Y')\n",
    "    file_df['content_raw'] = file_df['content'].apply(lambda x: x.decode('utf-8') if isinstance(x, bytes) else x)\n",
    "    \n",
    "    # df_list.append(file_df)\n",
    "    \n",
    "    \n",
    "\n",
    "    # connection = create_connection()\n",
    "\n",
    "    # cursor = connection.cursor()\n",
    "\n",
    "    try: \n",
    "        # Chèn dữ liệu từ DataFrame vào PostgreSQL\n",
    "        \n",
    "        data = []\n",
    "        for index, item in file_df.iterrows():\n",
    "            docs= [f\"{item.title}\"]\n",
    "            \n",
    "            docs_embeddings = bge_m3_ef.encode_documents(docs)\n",
    "\n",
    "            vectors = docs_embeddings[\"dense\"]\n",
    "\n",
    "        \n",
    "            data.append({\"id\": item.id, \"vector\": vectors[0], \"text\": docs[0], \"subject\": \"van_ban_phap_luat\"} )\n",
    "        \n",
    "        res = client.insert(collection_name=\"demo_collection\", data=data)\n",
    "        print(res)\n",
    "        \n",
    "        # Xác nhận các thay đổi vào cơ sở dữ liệu\n",
    "        # connection.commit()\n",
    "\n",
    "    except Exception as e:\n",
    "        print(e)\n",
    "\n",
    "    # Đóng kết nối\n",
    "    # cursor.close()\n",
    "    # connection.close()\n",
    "\n",
    "    print(\"Data inserted successfully!\")\n",
    "\n",
    "\n",
    "# # Nối tất cả các DataFrame lại với nhau thành một DataFrame duy nhất\n",
    "# combined_df = pd.concat(df_list, ignore_index=True)\n",
    "\n",
    "# # Hiển thị vài dòng đầu tiên của DataFrame\n",
    "# combined_df.head()"
   ]
  },
  {
   "cell_type": "code",
   "execution_count": null,
   "metadata": {},
   "outputs": [],
   "source": [
    "\n",
    "res = client.query(\n",
    "    collection_name=\"demo_collection\",  # target collection\n",
    "    filter='',  # number of returned entities\n",
    "    limit=100,\n",
    "    output_fields=[\"id\", 'text'],  # specifies fields to be returned\n",
    "    # sorted=True, #\n",
    ")\n",
    "for item in res:\n",
    "    print(item)"
   ]
  },
  {
   "cell_type": "code",
   "execution_count": null,
   "metadata": {},
   "outputs": [
    {
     "name": "stdout",
     "output_type": "stream",
     "text": [
      "data: [\"[{'id': 100013, 'distance': 0.6344585418701172, 'entity': {'text': 'Quyết định 13/2020/QĐ-UBND về phân cấp thẩm quyền cấp, điều chỉnh, thu hồi Giấy phép đủ điều kiện kinh doanh dịch vụ karaoke trên địa bàn tỉnh Nghệ An', 'subject': 'van_ban_phap_luat'}}, {'id': 100009, 'distance': 0.608363151550293, 'entity': {'text': 'Quyết định 13/2020/QĐ-UBND bãi bỏ Quyết định 10/2015/QĐ-UBND quy định về chính sách hỗ trợ doanh nghiệp xuất khẩu phần mềm trên địa bàn thành phố Đà Nẵng', 'subject': 'van_ban_phap_luat'}}]\"] \n"
     ]
    }
   ],
   "source": [
    "queries = [\"13/2020/QĐ-UBND\"]\n",
    "\n",
    "query_embeddings = bge_m3_ef.encode_queries(queries)\n",
    "\n",
    "res = client.search(\n",
    "    collection_name=\"demo_collection\",  # target collection\n",
    "    data=[query_embeddings['dense'][0]],  # query vectors\n",
    "    limit=2,  # number of returned entities\n",
    "    output_fields=[\"text\", \"subject\"],  # specifies fields to be returned\n",
    ")\n",
    "\n",
    "print(res)\n",
    "\n"
   ]
  }
 ],
 "metadata": {
  "kernelspec": {
   "display_name": ".venv",
   "language": "python",
   "name": "python3"
  },
  "language_info": {
   "codemirror_mode": {
    "name": "ipython",
    "version": 3
   },
   "file_extension": ".py",
   "mimetype": "text/x-python",
   "name": "python",
   "nbconvert_exporter": "python",
   "pygments_lexer": "ipython3",
   "version": "3.11.2"
  }
 },
 "nbformat": 4,
 "nbformat_minor": 2
}
