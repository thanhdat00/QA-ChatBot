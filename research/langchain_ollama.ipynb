{
 "cells": [
  {
   "cell_type": "code",
   "execution_count": 140,
   "id": "26c37b36-0556-4d49-86cd-2a2e960e7499",
   "metadata": {},
   "outputs": [],
   "source": [
    "from langchain_community.document_loaders import WebBaseLoader\n",
    "from langchain_text_splitters import RecursiveCharacterTextSplitter\n",
    "\n",
    "loader = WebBaseLoader(\n",
    "    \"https://thuvienphapluat.vn/cong-dong-dan-luat//9-truong-hop-khong-tiep-nhan-tra-ho-so-dang-ky-dat-dai-216838.aspx?rel=dan_luat_chitietvb\",\n",
    ")\n",
    "data = loader.load()\n",
    "\n",
    "text_splitter = RecursiveCharacterTextSplitter(chunk_size=500, chunk_overlap=0)\n",
    "all_splits = text_splitter.split_documents(data)"
   ]
  },
  {
   "cell_type": "code",
   "execution_count": 141,
   "id": "e95ae759-7f8e-4344-93b3-d5e7369e59e3",
   "metadata": {},
   "outputs": [
    {
     "name": "stdout",
     "output_type": "stream",
     "text": [
      "[Document(metadata={'source': 'https://thuvienphapluat.vn/cong-dong-dan-luat//9-truong-hop-khong-tiep-nhan-tra-ho-so-dang-ky-dat-dai-216838.aspx?rel=dan_luat_chitietvb', 'title': '9 trường hợp không tiếp nhận, trả hồ sơ đăng ký đất đai', 'description': 'Kể từ ngày 01/8/2024, khi làm hồ sơ đăng ký đất đai thì người dân cần lưu ý đến 9 trường hợp mà cơ quan chức năng sẽ không tiếp nhận, trả hồ sơ đăng ký đất đai.\\xa0\\t9 trường hợp không tiếp nhận, trả hồ sơ đăng ký đất , cơ qu', 'language': 'No language found.'}, page_content='\\n\\n\\n\\n9 trường hợp không tiếp nhận, trả hồ sơ đăng ký đất đai\\n\\n\\n\\n\\n\\n\\n9 trường hợp không tiếp nhận, trả hồ sơ đăng ký đất đai\\n\\n\\n\\n\\n\\n\\n\\n\\n\\n\\n\\n\\n\\n\\n\\n\\n\\n\\n\\n\\n\\n\\n\\n\\n\\n\\n\\n\\n\\n\\n\\n\\n\\n\\n\\n\\n\\n\\n\\n\\n\\n\\n\\n\\n\\n\\n\\n\\n\\n\\n\\n\\n\\n\\n\\n\\n\\n\\n\\n\\n\\n\\n\\n\\n\\n\\n\\n\\n\\n\\n\\n\\n\\n\\n\\n\\n\\n\\n\\n\\n\\n\\nĐã có toàn văn Luật đường bộ 2024 về hoạt động đường bộ và quản lý của nhà nước\\n\\n\\n04 trường hợp CSGT được dừng xe để kiểm tra từ tháng 1/2025\\n\\n\\nĐề xuất cấp Chứng chỉ hành nghề nhà giáo cho giáo viên đang giảng dạy tại trường công lập\\n\\n\\nTAND Tối cao hướng dẫn áp dụng một số quy định của Bộ Luật Hình sự\\n\\n\\nCó buộc phải ghi tên của cả 2 vợ chồng vào sổ đỏ từ 01/8?\\n\\n\\nThông tư 07/2024/TT-BNV: Hướng dẫn thực hiện mức lương cơ sở từ 01/7/2024\\n\\n\\nHiểu quy định rút BHXH một lần sau ngày 01/7/2025 như thế nào mới đúng?\\n\\n\\nThông tư 04/2024/TT-BNV: Tỷ lệ ngạch công chức theo từng chuyên ngành cụ thể\\n\\n\\nMức thanh toán trực tiếp chi phí khám, chữa bệnh khi lương cơ sở tăng lên là bao nhiêu?\\n\\n\\nMẫu đơn đề nghị phúc khảo điểm thi tốt nghiệp THPT 2024\\n\\n\\n\\n\\n\\n\\n\\n\\n\\n\\n\\n\\nĐăng ký\\n\\n\\n\\n\\n\\n\\n\\n\\n\\n\\n\\n\\n\\n\\n\\n\\n\\n\\n\\n\\n\\n\\n\\n\\n\\n\\n\\n\\n\\n\\n\\n\\n\\n\\n\\n\\n\\n\\n\\n\\n\\n\\n\\nTrang chủ\\nThư viện pháp luật\\nLuật sư toàn quốc\\nLuật sư tư vấn\\nGiải đáp cùng chuyên gia\\nVướng mắc pháp lý\\nThư viện bản án\\nTài khoản\\n\\n\\n\\n\\n\\n\\n\\n\\nDanh sách diễn đàn\\n\\n\\n\\n\\n\\n\\n\\n\\n\\n\\xa0\\xa0Trang chủ\\n\\n\\n\\n\\n\\n\\nLuật sư tư vấn (206,890)\\n\\n\\n\\n\\xa0Đất đai, Nhà cửa (39,725)\\n\\n\\n\\xa0Lao động (65,624)\\n\\n\\n\\xa0Hợp đồng (74,648)\\n\\n\\n\\xa0Kế toán, Thuế (80,395)\\n\\n\\n\\xa0Doanh nghiệp (94,433)\\n\\n\\n\\xa0Hình sự (109,415)\\n\\n\\n\\xa0Hôn nhân, Thừa kế (126,451)\\n\\n\\n\\xa0Lĩnh vực Luật khác (140,790)\\n\\n\\n\\n\\n\\n\\nGiải đáp cùng chuyên gia (699,309)\\n\\n\\n\\n\\xa0Café DanLuat (67,068)\\n\\n\\n\\xa0Vướng mắc pháp lý (295,792)\\n\\n\\n\\xa0Tặng nhau Văn bản Luật (304,223)\\n\\n\\n\\xa0Phòng Sinh viên Luật (341,820)\\n\\n\\n\\xa0Phòng giảm \"Sì trét\" (367,327)\\n\\n\\n\\xa0Dự thảo Luật mới (371,931)\\n\\n\\n\\xa0Góc doanh nhân (373,845)\\n\\n\\n\\xa0Tình huống pháp lý tham khảo (376,344)\\n\\n\\n\\xa0Bình luận án (376,644)\\n\\n\\n\\n\\n\\n\\nVướng mắc pháp lý (484,523)\\n\\n\\n\\n\\xa0Doanh nghiệp & Đầu tư (32,045)\\n\\n\\n\\xa0Kế toán - Kiểm toán (47,227)\\n\\n\\n\\xa0Vấn đề pháp lý khác (87,975)\\n\\n\\n\\xa0Đất đai - Nhà cửa (112,431)\\n\\n\\n\\xa0Lao động - Việc làm (152,488)\\n\\n\\n\\xa0Hôn nhân & Gia đình (168,783)\\n\\n\\n\\xa0Hình sự & Hình phạt (186,662)\\n\\n\\n\\xa0Thuế - Phí - Lệ phí (201,385)\\n\\n\\n\\xa0HTKK - Hỗ Trợ Kê Khai (202,041)\\n\\n\\n\\xa0Quyết Toán Thuế (202,932)\\n\\n\\n\\xa0Nghiệp vụ chuyên ngành (203,339)\\n\\n\\n\\n\\n\\n\\nThư Viện Bản Án \\n\\n\\n\\n\\n\\n\\n\\nLuật sư toàn quốc \\n\\n\\n\\n\\n\\n\\n\\nLuật sư tư vấn \\n\\n\\n\\n\\n\\n\\n\\nTài khoản \\n\\n\\n\\n\\n\\n\\n\\nFAQ\\n\\n\\n\\n\\n\\n\\n\\nVề chúng tôi\\n\\n\\n\\n\\n\\n\\n\\nThỏa ước sử dụng\\n\\n\\n\\n\\n\\n\\n\\nHướng dẫn sử dụng\\n\\n\\n\\n\\n\\n\\n\\nSiteMap\\n\\n\\n\\n\\n\\n\\n\\n\\n\\n\\n\\n\\n\\n\\r\\n                        Chủ quản: Công ty \\nTHƯ VIỆN PHÁP LUẬT\\n. Giấy phép số: 27/GP-TTĐT, do Sở TTTT TP. HCM cấp ngày 09/05/2019.\\r\\n                        \\r\\n\\r\\n                        Chịu trách nhiệm chính: Ông Bùi Tường Vũ - Số điện thoại liên hệ: 028 3930 3279\\r\\n                        \\r\\n                        Địa chỉ: P.702A , Centre Point, 106 Nguyễn Văn Trỗi, P.8, Q. Phú Nhuận, TP. HCM;\\r\\n                        \\r\\n                        Địa điểm Kinh Doanh: Số 19 Nguyễn Gia Thiều, P.Võ Thị Sáu, Q.3, TP. HCM;\\r\\n                    \\n\\n\\n\\n\\n\\n\\n\\n\\n\\n\\n\\n\\nx\\n\\r\\n                Chào mừng bạn đến với Dân Luật\\r\\n. Để viết bài Tư vấn,\\r\\n                Hỏi Luật Sư, kết nối với Luật sư và chuyên gia, … Bạn vui lòng ĐĂNG KÝ TÀI KHOẢN.\\r\\n            \\n\\n\\n\\n\\n\\n\\n\\n\\n\\n\\n\\n\\n\\n\\n\\n\\nTrang Chủ\\n\\n\\n\\n\\n\\n\\n\\n\\n\\n\\n\\nGửi câu hỏi/chủ đề\\n\\n\\n\\n\\n\\n\\n×\\n\\n\\n\\nThêm câu phản hồi\\n\\n\\n\\n\\n\\n\\n\\n\\n\\n\\n\\n\\n\\n9 trường hợp không tiếp nhận, trả hồ sơ đăng ký đất đai\\n\\n\\n\\n\\n\\n\\n\\nassociate\\n\\n\\n\\n\\n\\n\\n\\n\\n\\xa0\\n\\n\\nTham gia:\\n\\n\\n\\nSố điểm:\\n\\n\\n\\nCảm ơn:\\n\\n\\n\\nĐược cảm ơn:\\n\\n\\n\\n\\n\\n\\nNgày đăng: 19/08/2024\\n\\n\\n\\nKể từ ngày 01/8/2024, khi làm hồ sơ đăng ký đất đai thì người dân cần lưu ý đến 9 trường hợp mà cơ quan chức năng sẽ không tiếp nhận, trả hồ sơ đăng ký đất đai.\\xa0\\n\\n9 trường hợp không tiếp nhận, trả hồ sơ đăng ký đất , cơ quan giải quyết thủ tục không tiếp nhận hồ sơ hoặc dừng giải quyết thủ tục đăng ký đất đai, tài sản gắn liền với đất và trả hồ sơ cho người yêu cầu đăng ký, trừ trường hợp đăng ký đất đai lần đầu mà không cấp Giấy chứng nhận quyền sử dụng đất, quyền sở hữu tài sản gắn liền với đất, trong các trường hợp sau:\\n\\n(1) Không thuộc thẩm quyền tiếp nhận hồ sơ hoặc hồ sơ không đầy đủ thành phần hoặc không đảm bảo tính thống nhất nội dung thông tin giữa các giấy tờ hoặc kê khai nội dung không đầy đủ thông tin theo quy định;\\n\\n(2) Nhận được văn bản của cơ quan thi hành án dân sự hoặc cơ quan, người có thẩm quyền tố tụng yêu cầu tạm dừng hoặc dừng việc đăng ký, cấp Giấy chứng nhận quyền sử dụng đất, quyền sở hữu tài sản gắn liền với đất đối với tài sản là quyền sử dụng đất, tài sản gắn liền với đất của người sử dụng đất, chủ sở hữu tài sản gắn liền với đất thuộc đối tượng phải thi hành án theo quy định của pháp luật;\\n\\n(3) Nhận được văn bản thông báo về việc kê biên tài sản thi hành án;\\n\\n(4) Nhận được văn bản của Ủy ban nhân dân cấp xã hoặc của Ủy ban nhân dân cấp huyện hoặc của Ủy ban nhân dân cấp tỉnh hoặc của Bộ trưởng Bộ Tài nguyên và Môi trường về việc đã thụ lý đơn yêu cầu hòa giải tranh chấp đất đai hoặc đơn yêu cầu giải quyết tranh chấp đất đai, tài sản gắn liền với đất;\\n\\n(5) Nhận được văn bản của Tòa án nhân dân có thẩm quyền về việc đã thụ lý đơn đề nghị giải quyết tranh chấp đất đai, tài sản gắn liền với đất;\\n\\n(6) Nhận được văn bản của Trọng tài Thương mại Việt Nam về việc thụ lý đơn giải quyết tranh chấp giữa các bên phát sinh từ hoạt động thương mại liên quan đến đất đai, tài sản gắn liền với đất;\\n\\n(7) Nhận được văn bản yêu cầu dừng thực hiện thủ tục hành chính về đất đai để áp dụng biện pháp khẩn cấp tạm thời của cơ quan có thẩm quyền;\\n\\n(8) Trường hợp đăng ký biến động đất đai do nhận chuyển nhượng, nhận tặng cho quyền sử dụng đất, quyền sở hữu tài sản gắn liền với đất mà quyền sử dụng đất, quyền sở hữu tài sản gắn liền với đất đang được thế chấp và đã đăng ký tại Văn phòng đăng ký đất đai, Chi nhánh Văn phòng đăng ký đất đai nhưng hồ sơ đăng ký nhận chuyển nhượng, nhận tặng cho không có văn bản của bên nhận thế chấp về việc đồng ý cho bên thế chấp được chuyển nhượng, tặng cho quyền sử dụng đất, quyền sở hữu tài sản gắn liền với đất;\\n\\n(9) Trường hợp chủ đầu tư đã thế chấp và đăng ký thế chấp dự án đầu tư xây dựng nhà ở hoặc nhà ở hình thành trong tương lai, dự án đầu tư xây dựng công trình không phải là nhà ở, dự án đầu tư nông nghiệp, dự án phát triển rừng, dự án khác có sử dụng đất hoặc công trình xây dựng thuộc các dự án này tại Văn phòng đăng ký đất đai, Chi nhánh Văn phòng đăng ký đất đai mà chủ đầu tư chuyển nhượng quyền sử dụng đất, bán tài sản gắn liền với đất nhưng chưa thực hiện thủ tục đăng ký thay đổi để rút bớt tài sản thế chấp là tài sản đã chuyển nhượng, đã bán, trừ trường hợp bên nhận thế chấp và bên mua tài sản có thỏa thuận về việc tiếp tục dùng tài sản này làm tài sản thế chấp và thực hiện đăng ký thay đổi bên bảo đảm theo quy định của pháp luật về đăng ký biện pháp bảo đảm.\\n\\nNhư vậy, người dân cần lưu ý kể từ ngày 01/8/2024 nếu thuộc 9 trường hợp nêu trên thì cơ quan có thẩm quyền sẽ không tiếp nhận hồ sơ/dừng giải quyết thủ tục đăng ký đất đai và trả hồ sơ cho người yêu cầu đăng ký (trừ trường hợp đăng ký đất đai lần đầu mà không cấp Giấy chứng nhận quyền sử dụng đất, quyền sở hữu tài sản gắn liền với đất).\\n\\n\\n\\nCơ quan nào tiếp nhận hồ sơ đăng ký đất đai?\\n\\nTheo khoản 1 Điều 21 Nghị định 101/2024/NĐ-CP quy định về tiếp nhận hồ sơ và trả kết quả giải quyết thủ tục đăng ký đất đai, tài sản gắn liền với đất thì cơ quan tiếp nhận hồ sơ và trả kết quả bao gồm:\\n\\n- Bộ phận Một cửa theo quy định của Ủy ban nhân dân cấp tỉnh về thực hiện việc tiếp nhận hồ sơ và trả kết quả giải quyết thủ tục hành chính cấp tỉnh, cấp huyện, cấp xã;\\n\\n- Văn phòng đăng ký đất đai;\\n\\n- Chi nhánh Văn phòng đăng ký đất đai.\\n\\nNhư vậy, có 3 cơ quan tiếp nhận hồ sơ đăng ký đất đai bao gồm bộ phận Một cửa, văn phòng đăng ký đất đai và chi nhánh văn phòng đăng ký đất đai. 3 cơ quan này sẽ có quyền không tiếp nhận, trả hồ sơ đăng ký đất đai nếu hồ sơ đó nằm trong 9 trường hợp bị từ chối ở phần trên.\\n\\nCơ quan tiếp nhận hồ sơ đăng ký đất đai có quyền yêu cầu người dân nộp thêm hồ sơ không?\\n\\nTheo khoản 1 Điều 19 Nghị định 101/2024/NĐ-CP quy định cơ quan tiếp nhận hồ sơ đăng ký đất đai chịu trách nhiệm:\\n\\n- Kiểm tra tính đầy đủ của thành phần hồ sơ, tính thống nhất về nội dung thông tin giữa các giấy tờ, tính đầy đủ của nội dung kê khai và cấp Giấy tiếp nhận hồ sơ và hẹn trả kết quả theo mẫu quy định tại Nghị định của Chính phủ quy định về thực hiện cơ chế một cửa, một cửa liên thông trong giải quyết thủ tục hành chính;\\n\\n- Không yêu cầu nộp thêm giấy tờ, kê khai thêm thông tin mà Nghị định 101/2024/NĐ-CP không quy định.\\n\\nNhư vậy, vì cơ quan tiếp nhận hồ sơ có trách nhiệm kiểm tra tính đầy đủ của thành phần hồ sơ nên sẽ được quyền yêu cầu người dân nộp thêm hồ sơ ngoài quy định.\\n\\n\\n\\n\\n\\n\\n\\nTags:\\n\\n\\n\\n\\xa019\\n\\xa0Cảm ơn\\n\\xa0Phản hồi\\n\\n\\n\\n\\n\\n\\n\\n\\n\\n\\n\\n\\n\\n\\n\\n\\u2002Chủ đề đang được đánh giá\\n Chia sẻ trên Facebook\\n\\n\\n\\n\\n\\n\\n\\n\\n\\n\\nChủ đề liên quan:\\n\\n\\n\\n\\nXem nhiều nhất\\n\\n\\n\\n\\nXem nhiều nhất\\n\\n\\n\\n\\nTư vấn luật sư liên quan\\n\\n\\n\\n\\n\\n\\n\\n\\n\\n\\n\\n0 Lượt cảm ơn\\r\\n            \\n\\n câu phản hồi\\r\\n            \\n\\n\\n\\n\\n\\n\\n\\nXem thêm câu phản hồi\\n\\nphản hồi\\n\\n\\n\\n\\n\\n\\n\\n\\n\\n\\n\\n\\r\\n                            Tìm kiếm văn bản\\r\\n                                \\n\\n\\n\\n\\n Xem toàn bộ văn bản về văn phòng đăng ký đất đai\\n\\n\\n\\n\\n\\r\\n        Không tìm thấy chủ đề nào trong ;\\r\\n    \\n\\n\\n\\n\\n\\n\\n\\n\\nClick vào bảng để xem hiển thị đầy đủ thông tin\\nBạn vui lòng đăng nhập hoặc Đăng ký tại đây để tham gia thảo luận\\n\\n\\n\\n\\n\\n\\n\\n\\n\\n\\n\\n\\n\\n\\n\\nTrang chủ\\nFaq\\nHướng dẫn sử dụng\\n\\n\\n\\n\\nThỏa ước sử dụng\\nVề chúng tôi\\nLiên hệ\\n\\n\\n\\n\\n\\n\\n\\r\\n                    Chủ quản: Công ty \\nTHƯ VIỆN PHÁP LUẬT\\n\\n\\n\\n\\n\\n\\n\\n\\n\\n\\n\\n\\nLoading…\\n\\n\\n\\n\\n\\n\\n\\n\\n\\nĐăng nhập\\n\\n                            Bạn vui lòng đăng nhập. Bạn cũng có thể đăng nhập bằng tài khoản của\\n                            ThuVienPhapLuat.vn hoặc\\n                            Đăng ký nếu bạn chưa có tài khoản\\n                        \\n\\n\\n\\n\\nQuên mật khẩu?\\n\\n\\nĐăng nhập\\n\\n\\n\\n\\n\\nĐăng nhập bằng Facebook\\n\\n\\n\\n\\n\\n\\n\\nĐăng nhập bằng Google\\n\\n\\n\\n\\n——— Hoặc ———\\n\\nĐăng ký\\n\\n© 2024 THƯ VIỆN PHÁP LUẬT\\n\\u2002Hotline: 028 3930 3279\\n\\u2002(028) 3930 3279\\n\\u200219 Nguyễn Gia Thiều, P.Võ Thị Sáu, Q.3, TP.HCM\\n\\n\\n\\n\\nĐóng\\n\\n\\n\\n\\n\\n\\n\\n\\n\\n\\n×\\n\\n\\n\\n\\n\\n\\n\\n                                Chào mừng bạn đến với Dân Luật\\r\\n. Để viết bài Tư vấn,\\n                                Hỏi Luật Sư, kết nối với Luật sư và chuyên gia, …\\n                            \\n\\n\\n\\nĐăng ký tài khoản\\n\\n\\n\\nÔng\\nBà\\nAnh\\nChị\\n\\n\\n\\n\\n\\n\\n\\n\\n\\nChọn tỉnh thành\\n\\n\\n\\n\\nTôi đã đọc và đồng ý Thỏa ước dịch vụ\\n\\n\\n\\n\\n\\n\\n\\n\\n\\n\\n\\nĐăng Ký\\n\\n\\n\\n\\n\\n\\n\\nBạn đã đã có tài khoản thì đăng nhập để sử dụng tiện ích\\n\\n\\n\\n\\n\\n\\n\\n\\n\\n\\n\\nĐăng nhập\\n\\n\\nQuên mật khẩu?\\n\\n\\n\\n\\n\\n\\nĐăng nhập bằng Facebook\\n\\n\\n\\n\\n\\n\\n\\nĐăng nhập bằng Google\\n\\n\\n\\n\\n\\n\\n\\n\\n\\n\\n\\n\\n\\n\\n\\n\\n\\n\\n\\n\\nĐăng ký tài khoản\\n\\n\\n\\nÔng\\nBà\\nAnh\\nChị\\n\\n\\n\\n\\n\\n\\n\\n\\n\\nChọn tỉnh thành\\n\\n\\n\\n\\nTôi đã đọc và đồng ý Thỏa ước dịch vụ\\n\\nĐăng Ký\\n\\n\\n\\n\\nĐăng nhập bằng Facebook\\n\\n\\n\\n\\n\\n\\n\\nĐăng nhập bằng Google\\n\\n\\n\\n\\n\\n© 2024 THƯ VIỆN PHÁP LUẬT\\n\\u2002Hotline: 028 3930 3279\\n\\u2002(028) 3930 3279\\n\\u200219 Nguyễn Gia Thiều, P.Võ Thị Sáu, Q.3, TP.HCM\\n\\n\\n\\n\\n\\nĐóng\\n\\n\\n\\n\\n\\n\\n\\n\\n\\n\\nLấy lại mật khẩu\\nVui lòng nhập địa chỉ Email mà bạn đã dùng đăng ký tài khoản để khôi phục mật khẩu\\n\\n\\n\\n\\nĐóng\\nGửi yêu cầu\\n\\n\\n\\n\\n\\n\\n\\n\\n\\n\\nTạo thư mục\\n\\n\\n\\n\\nĐóng\\nTạo\\n\\n\\n\\n\\n\\n\\n\\n\\n\\nMục lục văn bản\\n\\n×\\n\\n\\n\\n                ...\\n            \\n\\nĐóng\\n\\n\\n\\n\\n\\n\\n\\n\\n\\n\\nGửi câu hỏi/chủ đề\\n\\n\\n\\n\\n\\n\\n\\n\\n\\n\\n\\n\\n\\n\\n\\n\\n\\n\\n\\n\\n\\n\\n\\n\\n\\n\\n\\n\\r\\n            Thêm tags/Từ khóa\\r\\n            \\n\\n\\n\\nSửa tags\\nXóa tags\\n\\n\\n\\n\\n\\n\\n\\n\\n\\n\\n#\\nTên file\\nDung lượng\\nChức năng\\n\\n\\n\\n\\n\\n\\n\\n\\nĐóng\\nGửi câu hỏi/chủ đề\\n\\n\\n\\n\\n\\n\\n\\n\\n\\n\\nSửa Phản hồi\\n\\n\\n\\n\\n\\n\\n\\n\\n\\n\\n\\n\\n\\n\\n\\n\\n\\n\\n#\\nTên file\\nDung lượng\\nChức năng\\n\\n\\n\\n\\n\\n\\n\\n\\n\\n\\n#\\nTên file\\nDung lượng\\nChức năng\\n\\n\\n\\n\\n\\n\\n\\n\\nĐóng\\nGửi câu hỏi/chủ đề\\n\\n\\n\\n\\n\\n\\n\\n\\n\\n\\nSửa Chủ đề\\n\\n\\n\\n\\n\\n\\n\\n\\n\\n\\n\\n\\n\\n\\r\\n            Sửa hoặc thêm tags/Từ khóa\\r\\n            \\n\\n\\n\\nSửa tags\\nXóa tags\\n\\n\\n\\n\\n\\n\\n\\n\\n\\n#\\nTên file\\nDung lượng\\nChức năng\\n\\n\\n\\n\\n\\n\\n\\n\\nĐóng\\nSửa Chủ đề\\n\\n\\n\\n\\n\\n\\n\\n\\n\\nĐính kèm file\\n×\\n\\n\\n\\n\\n\\n\\n\\n#\\nTên file\\nDung lượng\\nChức năng\\n\\n\\n\\n\\nChọn file đính kèm\\n\\n\\n\\n\\nChọn file đính kèm :\\n\\nĐính kèm\\n\\n\\n\\n\\n\\n\\nĐóng\\nĐính kèm\\n\\n\\n\\n\\n\\n\\n\\n\\n\\nThêm link\\n×\\n\\n\\n\\n\\n\\n\\n\\n\\nĐóng\\nĐính kèm\\n\\n\\n\\n\\n\\n\\n\\n\\n\\nĐính kèm link file\\n×\\n\\n\\n\\n\\n\\n\\n\\n\\nĐóng\\nĐính kèm\\n\\n\\n\\n\\n\\n\\n\\n\\n\\n\\n×\\n\\n\\n\\nPhóng to\\nThu nhỏ\\n\\n\\n\\n\\n\\n\\nĐóng\\n\\n\\n\\n\\n\\n\\n\\n\\n\\nTất cả \\n×\\n\\n\\n\\n\\n\\n\\n\\n\\n\\n\\n\\n\\n\\nGóp ý cho Dân Luật\\n\\n×\\n\\n\\n\\n\\n\\n\\n\\n\\n\\n\\n\\n\\nĐóng\\nGửi góp ý\\n\\n\\n\\n\\n\\n\\n\\n\\n\\nThông báo\\n\\nclose\\n\\n\\n\\n\\n\\n\\n\\n\\n\\nTP. HCM, ngày 29/09/2021\\n\\n\\nĐừng để  Rủi Ro Pháp Lý  theo sau Covid\\n\\nThưa Quý Khách,\\nTHƯ VIỆN PHÁP LUẬT  làm việc tại trụ sở từ 01/10.\\nLà sản phẩm online, thời gian qua 90% nhân sự làm tại nhà, 10% làm “3 tại chỗ” ở trụ sở.\\nDù có thế mạnh làm online, nhưng 10% tại trụ sở 90% tại nhà không phải là mô hình phục vụ tốt nhất.\\nTừ 01/10, TP. HCM làm việc bình thường mới, chúng ta sẽ tăng dần tỷ lệ làm tại trụ sở.\\nGiúp khách hàng Loại Rủi Ro Pháp Lý và Nắm Cơ Hội Làm Giàu từ chính sách pháp luật mới, là một phần sứ mệnh của  THƯ VIỆN PHÁP LUẬT.\\n“… loại rủi ro pháp lý, nắm cơ hội làm giàu…”\\n******\\n\\n\\n\\n\\n\\n\\n\\n\\n\\n\\n\\n\\nThông tin chi tiết\\n×\\n\\n\\n\\n\\n\\n\\n\\n\\n\\n\\n\\n\\n\\n\\n\\n\\n\\n\\n\\n\\n\\n\\n\\n\\n\\n\\n\\n\\n\\n\\n\\n\\n\\n\\n\\n')]\n"
     ]
    }
   ],
   "source": [
    "print(data)"
   ]
  },
  {
   "cell_type": "code",
   "execution_count": 50,
   "id": "d33eb16e-9497-4995-aacc-3be135784021",
   "metadata": {},
   "outputs": [],
   "source": [
    "import pyarrow.parquet as pq\n",
    "import pandas as pd"
   ]
  },
  {
   "cell_type": "code",
   "execution_count": 57,
   "id": "2523607c-f3c0-44fa-87c2-ba2b3a6009cc",
   "metadata": {},
   "outputs": [],
   "source": [
    "df = pd.read_parquet(path='/data4/share_nlp/datltt/Văn Bản Pháp Luật_p100000-109999.parquet')"
   ]
  },
  {
   "cell_type": "code",
   "execution_count": 58,
   "id": "502c0abd-ca5d-46bb-a39b-c2651f95dcf4",
   "metadata": {},
   "outputs": [
    {
     "data": {
      "text/plain": [
       "(1, 6)"
      ]
     },
     "execution_count": 58,
     "metadata": {},
     "output_type": "execute_result"
    }
   ],
   "source": [
    "df.shape"
   ]
  },
  {
   "cell_type": "code",
   "execution_count": 59,
   "id": "8a7d27d5-3fed-4c6c-ac2a-ea1f4f4ca593",
   "metadata": {},
   "outputs": [
    {
     "data": {
      "text/html": [
       "<div>\n",
       "<style scoped>\n",
       "    .dataframe tbody tr th:only-of-type {\n",
       "        vertical-align: middle;\n",
       "    }\n",
       "\n",
       "    .dataframe tbody tr th {\n",
       "        vertical-align: top;\n",
       "    }\n",
       "\n",
       "    .dataframe thead th {\n",
       "        text-align: right;\n",
       "    }\n",
       "</style>\n",
       "<table border=\"1\" class=\"dataframe\">\n",
       "  <thead>\n",
       "    <tr style=\"text-align: right;\">\n",
       "      <th></th>\n",
       "      <th>id</th>\n",
       "      <th>url</th>\n",
       "      <th>title</th>\n",
       "      <th>created_date</th>\n",
       "      <th>updated_date</th>\n",
       "      <th>content</th>\n",
       "    </tr>\n",
       "  </thead>\n",
       "  <tbody>\n",
       "    <tr>\n",
       "      <th>0</th>\n",
       "      <td>100000</td>\n",
       "      <td>https://thuvienphapluat.vn/van-ban/Linh-vuc-kh...</td>\n",
       "      <td>Quyết định 1493/QĐ-UBND về Đề án sản xuất vụ M...</td>\n",
       "      <td>22/05/2020</td>\n",
       "      <td>21/09/2020</td>\n",
       "      <td>b'&lt;div class=\"content1\"&gt;\\n &lt;div&gt;\\n  &lt;div&gt;\\n   ...</td>\n",
       "    </tr>\n",
       "  </tbody>\n",
       "</table>\n",
       "</div>"
      ],
      "text/plain": [
       "       id                                                url  \\\n",
       "0  100000  https://thuvienphapluat.vn/van-ban/Linh-vuc-kh...   \n",
       "\n",
       "                                               title created_date  \\\n",
       "0  Quyết định 1493/QĐ-UBND về Đề án sản xuất vụ M...   22/05/2020   \n",
       "\n",
       "  updated_date                                            content  \n",
       "0   21/09/2020  b'<div class=\"content1\">\\n <div>\\n  <div>\\n   ...  "
      ]
     },
     "execution_count": 59,
     "metadata": {},
     "output_type": "execute_result"
    }
   ],
   "source": [
    "df[:10]"
   ]
  },
  {
   "cell_type": "code",
   "execution_count": 143,
   "id": "3c2926f2-46dd-42bc-b8a1-4cadbdcb5f29",
   "metadata": {},
   "outputs": [],
   "source": [
    "from langchain_chroma import Chroma\n",
    "from langchain_ollama import OllamaEmbeddings\n",
    "\n",
    "local_embeddings = OllamaEmbeddings(model=\"bge-m3\")\n",
    "\n",
    "vectorstore = Chroma.from_documents(documents=all_splits, embedding=local_embeddings)"
   ]
  },
  {
   "cell_type": "code",
   "execution_count": 142,
   "id": "db9e9737-3f35-451c-aaef-b8762479e278",
   "metadata": {},
   "outputs": [],
   "source": [
    "vectorstore.delete_collection()  # This deletes all documents and embeddings in the collection"
   ]
  },
  {
   "cell_type": "code",
   "execution_count": 111,
   "id": "406f318a-a382-4d22-8576-a3ea4365a845",
   "metadata": {},
   "outputs": [
    {
     "name": "stdout",
     "output_type": "stream",
     "text": [
      "1024\n"
     ]
    }
   ],
   "source": [
    "# Assuming you have a document or a piece of text\n",
    "sample_document = \"This is a sample text.\"\n",
    "\n",
    "# Generate the embedding\n",
    "embedding_vector = local_embeddings.embed_query(sample_document)\n",
    "\n",
    "# Check the shape of the embedding\n",
    "print(len(embedding_vector))  # This will give you the dimensionality of the embedding\n"
   ]
  },
  {
   "cell_type": "code",
   "execution_count": 112,
   "id": "c40cfc0e-7b42-4f06-8ade-ee49b4fc3bea",
   "metadata": {},
   "outputs": [],
   "source": [
    "# dir(local_embeddings)"
   ]
  },
  {
   "cell_type": "code",
   "execution_count": 113,
   "id": "7a8f7bdf-87f5-4933-9827-9aca7f558689",
   "metadata": {},
   "outputs": [
    {
     "data": {
      "text/plain": [
       "4"
      ]
     },
     "execution_count": 113,
     "metadata": {},
     "output_type": "execute_result"
    }
   ],
   "source": [
    "question = \"Phạm vi điều chỉnh\"\n",
    "docs = vectorstore.similarity_search(question)\n",
    "len(docs)"
   ]
  },
  {
   "cell_type": "code",
   "execution_count": 114,
   "id": "c7a3abbc-63c5-44dd-98c8-0d70ca7fff07",
   "metadata": {},
   "outputs": [
    {
     "data": {
      "text/plain": [
       "'Đăng ký tài khoản\\n\\n\\n\\nÔng\\nBà\\nAnh\\nChị\\n\\n\\n\\n\\n\\n\\n\\n\\n\\nChọn tỉnh thành\\n\\n\\n\\n\\nTôi đã đọc và đồng ý Thỏa ước dịch vụ\\n\\nĐăng Ký\\n\\n\\n\\n\\nĐăng nhập bằng Facebook\\n\\n\\n\\n\\n\\n\\n\\nĐăng nhập bằng Google\\n\\n\\n\\n\\n\\n© 2024 THƯ VIỆN PHÁP LUẬT\\n\\u2002Hotline: 028 3930 3279\\n\\u2002(028) 3930 3279\\n\\u200219 Nguyễn Gia Thiều, P.Võ Thị Sáu, Q.3, TP.HCM\\n\\n\\n\\n\\n\\nĐóng\\n\\n\\n\\n\\n\\n\\n\\n\\n\\n\\nLấy lại mật khẩu\\nVui lòng nhập địa chỉ Email mà bạn đã dùng đăng ký tài khoản để khôi phục mật khẩu\\n\\n\\n\\n\\nĐóng\\nGửi yêu cầu\\n\\n\\n\\n\\n\\n\\n\\n\\n\\n\\nTạo thư mục\\n\\n\\n\\n\\nĐóng\\nTạo\\n\\n\\n\\n\\n\\n\\n\\n\\n\\nMục lục văn bản\\n\\n×\\n\\n\\n\\n                ...\\n            \\n\\nĐóng\\n\\n\\n\\n\\n\\n\\n\\n\\n\\n\\nGửi câu hỏi/chủ đề\\n\\n\\n\\n\\n\\n\\n\\n\\n\\n\\n\\n\\n\\n\\n\\n\\n\\n\\n\\n\\n\\n\\n\\n\\n\\n\\n\\n\\r\\n            Thêm tags/Từ khóa\\r\\n            \\n\\n\\n\\nSửa tags\\nXóa tags\\n\\n\\n\\n\\n\\n\\n\\n\\n\\n\\n#\\nTên file\\nDung lượng\\nChức năng\\n\\n\\n\\n\\n\\n\\n\\n\\nĐóng\\nGửi câu hỏi/chủ đề\\n\\n\\n\\n\\n\\n\\n\\n\\n\\n\\nSửa Phản hồi\\n\\n\\n\\n\\n\\n\\n\\n\\n\\n\\n\\n\\n\\n\\n\\n\\n\\n\\n#\\nTên file\\nDung lượng\\nChức năng\\n\\n\\n\\n\\n\\n\\n\\n\\n\\n\\n#\\nTên file\\nDung lượng\\nChức năng\\n\\n\\n\\n\\n\\n\\n\\n\\nĐóng\\nGửi câu hỏi/chủ đề\\n\\n\\n\\n\\n\\n\\n\\n\\n\\n\\nSửa Chủ đề\\n\\n\\n\\n\\n\\n\\n\\n\\n\\n\\n\\n\\n\\n\\r\\n            Sửa hoặc thêm tags/Từ khóa\\r\\n            \\n\\n\\n\\nSửa tags\\nXóa tags\\n\\n\\n\\n\\n\\n\\n\\n\\n\\n#\\nTên file\\nDung lượng\\nChức năng\\n\\n\\n\\n\\n\\n\\n\\n\\nĐóng\\nSửa Chủ đề\\n\\n\\n\\n\\n\\n\\n\\n\\n\\nĐính kèm file\\n×\\n\\n\\n\\n\\n\\n\\n\\n#\\nTên file\\nDung lượng\\nChức năng\\n\\n\\n\\n\\nChọn file đính kèm\\n\\n\\n\\n\\nChọn file đính kèm :\\n\\nĐính kèm\\n\\n\\n\\n\\n\\n\\nĐóng\\nĐính kèm\\n\\n\\n\\n\\n\\n\\n\\n\\n\\nThêm link\\n×\\n\\n\\n\\n\\n\\n\\n\\n\\nĐóng\\nĐính kèm\\n\\n\\n\\n\\n\\n\\n\\n\\n\\nĐính kèm link file\\n×\\n\\n\\n\\n\\n\\n\\n\\n\\nĐóng\\nĐính kèm\\n\\n\\n\\n\\n\\n\\n\\n\\n\\n\\n×\\n\\n\\n\\nPhóng to\\nThu nhỏ\\n\\n\\n\\n\\n\\n\\nĐóng\\n\\n\\n\\n\\n\\n\\n\\n\\n\\nTất cả \\n×\\n\\n\\n\\n\\n\\n\\n\\n\\n\\n\\n\\n\\n\\nGóp ý cho Dân Luật\\n\\n×\\n\\n\\n\\n\\n\\n\\n\\n\\n\\n\\n\\n\\nĐóng\\nGửi góp ý\\n\\n\\n\\n\\n\\n\\n\\n\\n\\nThông báo\\n\\nclose\\n\\n\\n\\n\\n\\n\\n\\n\\n\\nTP. HCM, ngày 29/09/2021\\n\\n\\nĐừng để  Rủi Ro Pháp Lý  theo sau Covid'"
      ]
     },
     "execution_count": 114,
     "metadata": {},
     "output_type": "execute_result"
    }
   ],
   "source": [
    "docs[2].page_content"
   ]
  },
  {
   "cell_type": "code",
   "execution_count": 68,
   "id": "56aacebf-835c-4f05-819c-e84ca60c57e1",
   "metadata": {},
   "outputs": [],
   "source": [
    "from langchain_ollama import ChatOllama\n",
    "\n",
    "model = ChatOllama(\n",
    "    model=\"llama3.1:8b\",\n",
    ")"
   ]
  },
  {
   "cell_type": "code",
   "execution_count": 69,
   "id": "8d97e79f-9748-4038-b9eb-c170039650a2",
   "metadata": {},
   "outputs": [],
   "source": [
    "# response_message = model.invoke(\n",
    "#     \"Simulate a rap battle between Stephen Colbert and John Oliver\"\n",
    "# )\n",
    "\n",
    "# print(response_message.content)"
   ]
  },
  {
   "cell_type": "code",
   "execution_count": 85,
   "id": "fc8ad327-292b-405e-bce7-62552814eb4d",
   "metadata": {},
   "outputs": [
    {
     "data": {
      "text/plain": [
       "\"The main themes of these documents are:\\n\\n1. **Land rental fees**: The documents discuss the payment of land rental fees for businesses operating in industrial zones and export processing zones.\\n2. **Quyết định (Administrative Decree)**: The decision-making process by government authorities to adjust land rental fees is mentioned, particularly regarding adjustments to land rental rates.\\n3. **Government regulations**: The documents reference specific government regulations, including the 2005 Decree on land rental and water surface usage (Nghị định số 142/2005/NĐ-CP).\\n\\nHowever, without more context or background information, it's difficult to provide a more nuanced summary of these themes.\\n\\nIf you'd like me to elaborate on any aspect of this summary, please let me know!\""
      ]
     },
     "execution_count": 85,
     "metadata": {},
     "output_type": "execute_result"
    }
   ],
   "source": [
    "from langchain_core.output_parsers import StrOutputParser\n",
    "from langchain_core.prompts import ChatPromptTemplate\n",
    "\n",
    "prompt = ChatPromptTemplate.from_template(\n",
    "    \"Summarize the main themes in these retrieved docs: {docs}\"\n",
    ")\n",
    "\n",
    "\n",
    "# Convert loaded documents into strings by concatenating their content\n",
    "# and ignoring metadata\n",
    "def format_docs(docs):\n",
    "    return \"\\n\\n\".join(doc.page_content for doc in docs)\n",
    "\n",
    "\n",
    "chain = {\"docs\": format_docs} | prompt | model | StrOutputParser()\n",
    "\n",
    "question = \"Phạm vi điêu chỉnh ?\"\n",
    "\n",
    "docs = vectorstore.similarity_search(question)\n",
    "\n",
    "chain.invoke(docs)"
   ]
  },
  {
   "cell_type": "code",
   "execution_count": 144,
   "id": "d72eec00-12b9-48d8-9eec-4ac4a8bde0e7",
   "metadata": {},
   "outputs": [
    {
     "data": {
      "text/plain": [
       "'Theo thông tin trong context, có 9 trường hợp không tiếp nhận hồ sơ đăng ký đất đai. Tuy nhiên, cụ thể các trường hợp đó không được mô tả rõ ràng trong câu hỏi của bạn.\\n\\nTuy nhiên, từ ngữ trong văn bản có nhắc đến \"9 trường hợp\" và sau đó chỉ ra rằng cơ quan chức năng sẽ không tiếp nhận, trả hồ sơ đăng ký đất đai trong những trường hợp đó.'"
      ]
     },
     "execution_count": 144,
     "metadata": {},
     "output_type": "execute_result"
    }
   ],
   "source": [
    "from langchain_core.runnables import RunnablePassthrough\n",
    "\n",
    "RAG_TEMPLATE = \"\"\"\n",
    "You are an assistant for question-answering tasks. Use the following pieces of retrieved context to answer the question. If you don't know the answer, just say that you don't know.\n",
    "\n",
    "<context>\n",
    "{context}\n",
    "</context>\n",
    "\n",
    "Answer the following question:\n",
    "\n",
    "{question}\"\"\"\n",
    "\n",
    "rag_prompt = ChatPromptTemplate.from_template(RAG_TEMPLATE)\n",
    "\n",
    "chain = (\n",
    "    RunnablePassthrough.assign(context=lambda input: format_docs(input[\"context\"]))\n",
    "    | rag_prompt\n",
    "    | model\n",
    "    | StrOutputParser()\n",
    ")\n",
    "\n",
    "question = \"Các trường hợp không tiếp nhận hồ sơ đăng ký đất ?\"\n",
    "\n",
    "docs = vectorstore.similarity_search(question)\n",
    "\n",
    "# Run\n",
    "chain.invoke({\"context\": docs, \"question\": question})"
   ]
  },
  {
   "cell_type": "code",
   "execution_count": 29,
   "id": "a6c9cfd0-0d77-4479-ba96-33322d1aeed4",
   "metadata": {},
   "outputs": [],
   "source": [
    "retriever = vectorstore.as_retriever()\n",
    "\n",
    "qa_chain = (\n",
    "    {\"context\": retriever | format_docs, \"question\": RunnablePassthrough()}\n",
    "    | rag_prompt\n",
    "    | model\n",
    "    | StrOutputParser()\n",
    ")"
   ]
  },
  {
   "cell_type": "code",
   "execution_count": 30,
   "id": "30504528-d694-40e0-ac14-cfd6f6401635",
   "metadata": {},
   "outputs": [
    {
     "data": {
      "text/plain": [
       "'There are three approaches to task decomposition: (1) using Large Language Models (LLM) with simple prompting, (2) utilizing task-specific instructions, and (3) incorporating human inputs. These methods enable efficient handling of complex tasks by breaking them down into smaller, manageable subgoals. This process allows agents to plan ahead and execute tasks more effectively.'"
      ]
     },
     "execution_count": 30,
     "metadata": {},
     "output_type": "execute_result"
    }
   ],
   "source": [
    "question = \"What are the approaches to Task Decomposition?\"\n",
    "\n",
    "qa_chain.invoke(question)"
   ]
  },
  {
   "cell_type": "code",
   "execution_count": null,
   "id": "533aa94e-cfb8-4f6f-ad4f-cb47126338be",
   "metadata": {},
   "outputs": [],
   "source": []
  }
 ],
 "metadata": {
  "kernelspec": {
   "display_name": "Python 3 (ipykernel)",
   "language": "python",
   "name": "python3"
  },
  "language_info": {
   "codemirror_mode": {
    "name": "ipython",
    "version": 3
   },
   "file_extension": ".py",
   "mimetype": "text/x-python",
   "name": "python",
   "nbconvert_exporter": "python",
   "pygments_lexer": "ipython3",
   "version": "3.12.4"
  }
 },
 "nbformat": 4,
 "nbformat_minor": 5
}
