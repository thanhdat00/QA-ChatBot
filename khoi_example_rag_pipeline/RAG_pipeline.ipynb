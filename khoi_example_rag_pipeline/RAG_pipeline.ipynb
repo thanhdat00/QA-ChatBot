{
 "cells": [
  {
   "cell_type": "markdown",
   "metadata": {},
   "source": [
    "# RAG pipeline"
   ]
  },
  {
   "cell_type": "code",
   "execution_count": 117,
   "metadata": {},
   "outputs": [],
   "source": [
    "from langchain.llms import Ollama\n",
    "from langchain.chains import RetrievalQA\n",
    "from langchain.text_splitter import CharacterTextSplitter\n",
    "from langchain.document_loaders import CSVLoader\n",
    "from langchain.vectorstores import FAISS\n",
    "import pandas as pd\n",
    "import psycopg2\n",
    "from langchain.embeddings import HuggingFaceEmbeddings\n",
    "\n"
   ]
  },
  {
   "cell_type": "code",
   "execution_count": 118,
   "metadata": {},
   "outputs": [],
   "source": [
    "# Step 1: Load Data from CSV\n",
    "csv_path = \"rag_data.csv\"  # Replace with your CSV file path\n",
    "loader = CSVLoader(csv_path)\n",
    "data = loader.load()"
   ]
  },
  {
   "cell_type": "code",
   "execution_count": 119,
   "metadata": {},
   "outputs": [
    {
     "name": "stdout",
     "output_type": "stream",
     "text": [
      "[Document(metadata={'source': 'rag_data.csv', 'row': 0}, page_content='id: 1\\ntext: Artificial Intelligence (AI) refers to the simulation of human intelligence in machines that are programmed to think and act like humans.'), Document(metadata={'source': 'rag_data.csv', 'row': 1}, page_content='id: 2\\ntext: Machine Learning is a subset of AI that involves training algorithms to learn from and make predictions or decisions based on data.'), Document(metadata={'source': 'rag_data.csv', 'row': 2}, page_content=\"id: 3\\ntext: Deep Learning is a specialized form of Machine Learning that uses neural networks with many layers (hence 'deep') to analyze various data types.\"), Document(metadata={'source': 'rag_data.csv', 'row': 3}, page_content='id: 4\\ntext: Natural Language Processing (NLP) is a field of AI that focuses on the interaction between computers and human language.'), Document(metadata={'source': 'rag_data.csv', 'row': 4}, page_content='id: 5\\ntext: Reinforcement Learning is a type of Machine Learning where an agent learns to make decisions by performing certain actions and receiving feedback.'), Document(metadata={'source': 'rag_data.csv', 'row': 5}, page_content='id: 6\\ntext: Supervised learning involves training a model on a labeled dataset, meaning that each training example is paired with an output label.'), Document(metadata={'source': 'rag_data.csv', 'row': 6}, page_content='id: 7\\ntext: Unsupervised learning involves training a model on data that does not have labeled outputs, allowing the model to find patterns and structure on its own.'), Document(metadata={'source': 'rag_data.csv', 'row': 7}, page_content='id: 8\\ntext: In transfer learning, a model trained on one task is repurposed to perform a different, but related, task.'), Document(metadata={'source': 'rag_data.csv', 'row': 8}, page_content='id: 9\\ntext: Overfitting occurs when a model learns the training data too well, including noise and details that don’t generalize to new data.'), Document(metadata={'source': 'rag_data.csv', 'row': 9}, page_content='id: 10\\ntext: Underfitting occurs when a model is too simple to capture the underlying pattern in the data, resulting in poor performance on both training and test data.'), Document(metadata={'source': 'rag_data.csv', 'row': 10}, page_content='id: 11\\ntext: FPT smart cloud là 1 công ty con của FPT')]\n"
     ]
    }
   ],
   "source": [
    "print(data)"
   ]
  },
  {
   "cell_type": "code",
   "execution_count": 120,
   "metadata": {},
   "outputs": [],
   "source": [
    "# Step 2: Split Data into Documents\n",
    "text_splitter = CharacterTextSplitter(chunk_size=1000, chunk_overlap=200)\n",
    "documents = text_splitter.split_documents(data)"
   ]
  },
  {
   "cell_type": "code",
   "execution_count": 121,
   "metadata": {},
   "outputs": [
    {
     "name": "stdout",
     "output_type": "stream",
     "text": [
      "[Document(metadata={'source': 'rag_data.csv', 'row': 0}, page_content='id: 1\\ntext: Artificial Intelligence (AI) refers to the simulation of human intelligence in machines that are programmed to think and act like humans.'), Document(metadata={'source': 'rag_data.csv', 'row': 1}, page_content='id: 2\\ntext: Machine Learning is a subset of AI that involves training algorithms to learn from and make predictions or decisions based on data.'), Document(metadata={'source': 'rag_data.csv', 'row': 2}, page_content=\"id: 3\\ntext: Deep Learning is a specialized form of Machine Learning that uses neural networks with many layers (hence 'deep') to analyze various data types.\"), Document(metadata={'source': 'rag_data.csv', 'row': 3}, page_content='id: 4\\ntext: Natural Language Processing (NLP) is a field of AI that focuses on the interaction between computers and human language.'), Document(metadata={'source': 'rag_data.csv', 'row': 4}, page_content='id: 5\\ntext: Reinforcement Learning is a type of Machine Learning where an agent learns to make decisions by performing certain actions and receiving feedback.'), Document(metadata={'source': 'rag_data.csv', 'row': 5}, page_content='id: 6\\ntext: Supervised learning involves training a model on a labeled dataset, meaning that each training example is paired with an output label.'), Document(metadata={'source': 'rag_data.csv', 'row': 6}, page_content='id: 7\\ntext: Unsupervised learning involves training a model on data that does not have labeled outputs, allowing the model to find patterns and structure on its own.'), Document(metadata={'source': 'rag_data.csv', 'row': 7}, page_content='id: 8\\ntext: In transfer learning, a model trained on one task is repurposed to perform a different, but related, task.'), Document(metadata={'source': 'rag_data.csv', 'row': 8}, page_content='id: 9\\ntext: Overfitting occurs when a model learns the training data too well, including noise and details that don’t generalize to new data.'), Document(metadata={'source': 'rag_data.csv', 'row': 9}, page_content='id: 10\\ntext: Underfitting occurs when a model is too simple to capture the underlying pattern in the data, resulting in poor performance on both training and test data.'), Document(metadata={'source': 'rag_data.csv', 'row': 10}, page_content='id: 11\\ntext: FPT smart cloud là 1 công ty con của FPT')]\n"
     ]
    }
   ],
   "source": [
    "print(documents)"
   ]
  },
  {
   "cell_type": "code",
   "execution_count": 122,
   "metadata": {},
   "outputs": [
    {
     "name": "stderr",
     "output_type": "stream",
     "text": [
      "/Volumes/home/Learn/Master/3.LLMs/rag_pipeline/.venv/lib/python3.11/site-packages/transformers/tokenization_utils_base.py:1601: FutureWarning: `clean_up_tokenization_spaces` was not set. It will be set to `True` by default. This behavior will be depracted in transformers v4.45, and will be then set to `False` by default. For more details check this issue: https://github.com/huggingface/transformers/issues/31884\n",
      "  warnings.warn(\n"
     ]
    }
   ],
   "source": [
    "# Step 3: Use Sentence-Transformers for Embeddings\n",
    "# Load a pre-trained sentence transformer model\n",
    "embeddings = HuggingFaceEmbeddings(model_name=\"sentence-transformers/all-MiniLM-L6-v2\")\n",
    "\n",
    "# Create embeddings for documents\n",
    "# embeddings = embedding_model.encode([doc.page_content for doc in documents])\n",
    "\n",
    "# Create FAISS vector store\n",
    "vectorstore = FAISS.from_documents(documents, embeddings)\n"
   ]
  },
  {
   "cell_type": "code",
   "execution_count": 123,
   "metadata": {},
   "outputs": [],
   "source": [
    "# Step 4: Initialize LLaMA LLM via Ollama\n",
    "llm = Ollama(model=\"llama3.1:latest\")\n"
   ]
  },
  {
   "cell_type": "code",
   "execution_count": 124,
   "metadata": {},
   "outputs": [],
   "source": [
    "# Step 5: Create the RAG Pipeline with LangChain's RetrievalQA Chain\n",
    "qa_chain = RetrievalQA.from_chain_type(\n",
    "    llm=llm,\n",
    "    chain_type=\"stuff\",  # You can also use \"map_reduce\" for larger datasets\n",
    "    retriever=vectorstore.as_retriever()\n",
    ")\n"
   ]
  },
  {
   "cell_type": "code",
   "execution_count": 125,
   "metadata": {},
   "outputs": [
    {
     "name": "stdout",
     "output_type": "stream",
     "text": [
      "FPT Smart Cloud là công ty con của FPT.\n"
     ]
    }
   ],
   "source": [
    "\n",
    "# Step 6: Run a Q&A Test\n",
    "query = \"FPT Smart Cloud là gì\"\n",
    "result = qa_chain.run(query)\n",
    "print(result)"
   ]
  },
  {
   "cell_type": "markdown",
   "metadata": {},
   "source": [
    "# Database integrate"
   ]
  },
  {
   "cell_type": "code",
   "execution_count": 126,
   "metadata": {},
   "outputs": [
    {
     "data": {
      "text/html": [
       "<div>\n",
       "<style scoped>\n",
       "    .dataframe tbody tr th:only-of-type {\n",
       "        vertical-align: middle;\n",
       "    }\n",
       "\n",
       "    .dataframe tbody tr th {\n",
       "        vertical-align: top;\n",
       "    }\n",
       "\n",
       "    .dataframe thead th {\n",
       "        text-align: right;\n",
       "    }\n",
       "</style>\n",
       "<table border=\"1\" class=\"dataframe\">\n",
       "  <thead>\n",
       "    <tr style=\"text-align: right;\">\n",
       "      <th></th>\n",
       "      <th>id</th>\n",
       "      <th>url</th>\n",
       "      <th>title</th>\n",
       "      <th>created_date</th>\n",
       "      <th>updated_date</th>\n",
       "      <th>content</th>\n",
       "      <th>content_raw</th>\n",
       "    </tr>\n",
       "  </thead>\n",
       "  <tbody>\n",
       "    <tr>\n",
       "      <th>0</th>\n",
       "      <td>100000</td>\n",
       "      <td>https://thuvienphapluat.vn/van-ban/Quyen-dan-s...</td>\n",
       "      <td>Quyết định 720/QĐ-CTN năm 2020 về cho thôi quố...</td>\n",
       "      <td>2020-05-18</td>\n",
       "      <td>2020-06-03</td>\n",
       "      <td>b'&lt;div class=\"content1\"&gt;\\n &lt;div&gt;\\n  &lt;div&gt;\\n   ...</td>\n",
       "      <td>&lt;div class=\"content1\"&gt;\\n &lt;div&gt;\\n  &lt;div&gt;\\n   &lt;t...</td>\n",
       "    </tr>\n",
       "    <tr>\n",
       "      <th>1</th>\n",
       "      <td>100001</td>\n",
       "      <td>https://thuvienphapluat.vn/van-ban/Quyen-dan-s...</td>\n",
       "      <td>Quyết định 719/QĐ-CTN năm 2020 về cho thôi quố...</td>\n",
       "      <td>2020-05-18</td>\n",
       "      <td>2020-06-03</td>\n",
       "      <td>b'&lt;div class=\"content1\"&gt;\\n &lt;div&gt;\\n  &lt;div&gt;\\n   ...</td>\n",
       "      <td>&lt;div class=\"content1\"&gt;\\n &lt;div&gt;\\n  &lt;div&gt;\\n   &lt;t...</td>\n",
       "    </tr>\n",
       "    <tr>\n",
       "      <th>2</th>\n",
       "      <td>100002</td>\n",
       "      <td>https://thuvienphapluat.vn/van-ban/Xay-dung-Do...</td>\n",
       "      <td>Quyết định 648/QĐ-TTg năm 2020 về phê duyệt nh...</td>\n",
       "      <td>2020-05-18</td>\n",
       "      <td>2020-05-18</td>\n",
       "      <td>b'&lt;div class=\"content1\"&gt;\\n &lt;div&gt;\\n  &lt;div&gt;\\n   ...</td>\n",
       "      <td>&lt;div class=\"content1\"&gt;\\n &lt;div&gt;\\n  &lt;div&gt;\\n   &lt;t...</td>\n",
       "    </tr>\n",
       "    <tr>\n",
       "      <th>3</th>\n",
       "      <td>100003</td>\n",
       "      <td>https://thuvienphapluat.vn/van-ban/Thuong-mai/...</td>\n",
       "      <td>Quyết định 1000/QĐ-UBND năm 2020 công bố danh ...</td>\n",
       "      <td>2020-05-18</td>\n",
       "      <td>2020-08-24</td>\n",
       "      <td>b'&lt;div class=\"content1\"&gt;\\n &lt;div&gt;\\n  &lt;div&gt;\\n   ...</td>\n",
       "      <td>&lt;div class=\"content1\"&gt;\\n &lt;div&gt;\\n  &lt;div&gt;\\n   &lt;t...</td>\n",
       "    </tr>\n",
       "    <tr>\n",
       "      <th>4</th>\n",
       "      <td>100004</td>\n",
       "      <td>https://thuvienphapluat.vn/van-ban/Bo-may-hanh...</td>\n",
       "      <td>Quyết định 1517/QĐ-UBND năm 2020 về công bố Da...</td>\n",
       "      <td>2020-05-18</td>\n",
       "      <td>2020-09-30</td>\n",
       "      <td>b'&lt;div class=\"content1\"&gt;\\n &lt;div&gt;\\n  &lt;div&gt;\\n   ...</td>\n",
       "      <td>&lt;div class=\"content1\"&gt;\\n &lt;div&gt;\\n  &lt;div&gt;\\n   &lt;t...</td>\n",
       "    </tr>\n",
       "  </tbody>\n",
       "</table>\n",
       "</div>"
      ],
      "text/plain": [
       "       id                                                url  \\\n",
       "0  100000  https://thuvienphapluat.vn/van-ban/Quyen-dan-s...   \n",
       "1  100001  https://thuvienphapluat.vn/van-ban/Quyen-dan-s...   \n",
       "2  100002  https://thuvienphapluat.vn/van-ban/Xay-dung-Do...   \n",
       "3  100003  https://thuvienphapluat.vn/van-ban/Thuong-mai/...   \n",
       "4  100004  https://thuvienphapluat.vn/van-ban/Bo-may-hanh...   \n",
       "\n",
       "                                               title created_date  \\\n",
       "0  Quyết định 720/QĐ-CTN năm 2020 về cho thôi quố...   2020-05-18   \n",
       "1  Quyết định 719/QĐ-CTN năm 2020 về cho thôi quố...   2020-05-18   \n",
       "2  Quyết định 648/QĐ-TTg năm 2020 về phê duyệt nh...   2020-05-18   \n",
       "3  Quyết định 1000/QĐ-UBND năm 2020 công bố danh ...   2020-05-18   \n",
       "4  Quyết định 1517/QĐ-UBND năm 2020 về công bố Da...   2020-05-18   \n",
       "\n",
       "  updated_date                                            content  \\\n",
       "0   2020-06-03  b'<div class=\"content1\">\\n <div>\\n  <div>\\n   ...   \n",
       "1   2020-06-03  b'<div class=\"content1\">\\n <div>\\n  <div>\\n   ...   \n",
       "2   2020-05-18  b'<div class=\"content1\">\\n <div>\\n  <div>\\n   ...   \n",
       "3   2020-08-24  b'<div class=\"content1\">\\n <div>\\n  <div>\\n   ...   \n",
       "4   2020-09-30  b'<div class=\"content1\">\\n <div>\\n  <div>\\n   ...   \n",
       "\n",
       "                                         content_raw  \n",
       "0  <div class=\"content1\">\\n <div>\\n  <div>\\n   <t...  \n",
       "1  <div class=\"content1\">\\n <div>\\n  <div>\\n   <t...  \n",
       "2  <div class=\"content1\">\\n <div>\\n  <div>\\n   <t...  \n",
       "3  <div class=\"content1\">\\n <div>\\n  <div>\\n   <t...  \n",
       "4  <div class=\"content1\">\\n <div>\\n  <div>\\n   <t...  "
      ]
     },
     "execution_count": 126,
     "metadata": {},
     "output_type": "execute_result"
    }
   ],
   "source": [
    "import pandas as pd\n",
    "df = pd.read_parquet('Văn Bản Pháp Luật_p100000-100019.parquet')\n",
    "# Đọc file Parquet bằng pandas\n",
    "parquet_file_path = 'Văn Bản Pháp Luật_p100000-100019.parquet'  # Đường dẫn đến file Parquet\n",
    "df = pd.read_parquet(parquet_file_path)\n",
    "df['created_date'] = pd.to_datetime(df['created_date'], format='%d/%m/%Y')\n",
    "df['updated_date'] = pd.to_datetime(df['updated_date'], format='%d/%m/%Y')\n",
    "df['content_raw'] =  df['content'].apply(lambda x: x.decode('utf-8') if isinstance(x, bytes) else x)\n",
    "df.head()\n"
   ]
  },
  {
   "cell_type": "code",
   "execution_count": 127,
   "metadata": {},
   "outputs": [
    {
     "name": "stdout",
     "output_type": "stream",
     "text": [
      "<class 'pandas.core.frame.DataFrame'>\n",
      "RangeIndex: 20 entries, 0 to 19\n",
      "Data columns (total 7 columns):\n",
      " #   Column        Non-Null Count  Dtype         \n",
      "---  ------        --------------  -----         \n",
      " 0   id            20 non-null     int64         \n",
      " 1   url           20 non-null     object        \n",
      " 2   title         20 non-null     object        \n",
      " 3   created_date  20 non-null     datetime64[ns]\n",
      " 4   updated_date  20 non-null     datetime64[ns]\n",
      " 5   content       20 non-null     object        \n",
      " 6   content_raw   20 non-null     object        \n",
      "dtypes: datetime64[ns](2), int64(1), object(4)\n",
      "memory usage: 1.2+ KB\n"
     ]
    }
   ],
   "source": [
    "df.info()"
   ]
  },
  {
   "cell_type": "code",
   "execution_count": 128,
   "metadata": {},
   "outputs": [],
   "source": [
    "# Kết nối tới PostgreSQL\n",
    "def create_connection():\n",
    "    connection = psycopg2.connect(\n",
    "        host=\"localhost\",\n",
    "        port=\"5432\",\n",
    "        user=\"postgres\",\n",
    "        password=\"123456\",\n",
    "        database=\"db_llm\"\n",
    "    )\n",
    "    return connection"
   ]
  },
  {
   "cell_type": "code",
   "execution_count": 129,
   "metadata": {},
   "outputs": [
    {
     "name": "stdout",
     "output_type": "stream",
     "text": [
      "duplicate key value violates unique constraint \"page_content_pkey\"\n",
      "DETAIL:  Key (type, id)=(van_ban_phap_luat, 100000) already exists.\n",
      "\n",
      "Data inserted successfully!\n"
     ]
    }
   ],
   "source": [
    "\n",
    "\n",
    "connection = create_connection()\n",
    "\n",
    "cursor = connection.cursor()\n",
    "\n",
    "try: \n",
    "    # Chèn dữ liệu từ DataFrame vào PostgreSQL\n",
    "    for index, row in df.iterrows():\n",
    "        cursor.execute(\n",
    "            \"\"\"\n",
    "            INSERT INTO page_content (type, id, url, title, created_date, updated_date, content, content_raw)\n",
    "            VALUES (%s, %s, %s, %s, %s, %s, %s, %s)\n",
    "            \"\"\",\n",
    "            (\"van_ban_phap_luat\",row['id'], row['url'], row['title'], row['created_date'], row['updated_date'], row['content'], row['content_raw'])\n",
    "        )\n",
    "\n",
    "    # Xác nhận các thay đổi vào cơ sở dữ liệu\n",
    "    connection.commit()\n",
    "\n",
    "except Exception as e:\n",
    "    print(e)\n",
    "\n",
    "# Đóng kết nối\n",
    "cursor.close()\n",
    "connection.close()\n",
    "\n",
    "print(\"Data inserted successfully!\")\n"
   ]
  },
  {
   "cell_type": "code",
   "execution_count": 130,
   "metadata": {},
   "outputs": [
    {
     "name": "stderr",
     "output_type": "stream",
     "text": [
      "/var/folders/38/q1znsjsj5c17qlggflslw4000000gn/T/ipykernel_37903/1748144191.py:6: UserWarning: pandas only supports SQLAlchemy connectable (engine/connection) or database string URI or sqlite3 DBAPI2 connection. Other DBAPI2 objects are not tested. Please consider using SQLAlchemy.\n",
      "  df = pd.read_sql_query(query, connection)\n"
     ]
    },
    {
     "data": {
      "text/html": [
       "<div>\n",
       "<style scoped>\n",
       "    .dataframe tbody tr th:only-of-type {\n",
       "        vertical-align: middle;\n",
       "    }\n",
       "\n",
       "    .dataframe tbody tr th {\n",
       "        vertical-align: top;\n",
       "    }\n",
       "\n",
       "    .dataframe thead th {\n",
       "        text-align: right;\n",
       "    }\n",
       "</style>\n",
       "<table border=\"1\" class=\"dataframe\">\n",
       "  <thead>\n",
       "    <tr style=\"text-align: right;\">\n",
       "      <th></th>\n",
       "      <th>type</th>\n",
       "      <th>id</th>\n",
       "      <th>url</th>\n",
       "      <th>title</th>\n",
       "      <th>created_date</th>\n",
       "      <th>updated_date</th>\n",
       "      <th>content</th>\n",
       "      <th>content_raw</th>\n",
       "    </tr>\n",
       "  </thead>\n",
       "  <tbody>\n",
       "    <tr>\n",
       "      <th>0</th>\n",
       "      <td>van_ban_phap_luat</td>\n",
       "      <td>100000</td>\n",
       "      <td>https://thuvienphapluat.vn/van-ban/Quyen-dan-s...</td>\n",
       "      <td>Quyết định 720/QĐ-CTN năm 2020 về cho thôi quố...</td>\n",
       "      <td>2020-05-18</td>\n",
       "      <td>2020-06-03</td>\n",
       "      <td>\\x3c64697620636c6173733d22636f6e74656e7431223e...</td>\n",
       "      <td>&lt;div class=\"content1\"&gt;\\n &lt;div&gt;\\n  &lt;div&gt;\\n   &lt;t...</td>\n",
       "    </tr>\n",
       "    <tr>\n",
       "      <th>1</th>\n",
       "      <td>van_ban_phap_luat</td>\n",
       "      <td>100001</td>\n",
       "      <td>https://thuvienphapluat.vn/van-ban/Quyen-dan-s...</td>\n",
       "      <td>Quyết định 719/QĐ-CTN năm 2020 về cho thôi quố...</td>\n",
       "      <td>2020-05-18</td>\n",
       "      <td>2020-06-03</td>\n",
       "      <td>\\x3c64697620636c6173733d22636f6e74656e7431223e...</td>\n",
       "      <td>&lt;div class=\"content1\"&gt;\\n &lt;div&gt;\\n  &lt;div&gt;\\n   &lt;t...</td>\n",
       "    </tr>\n",
       "  </tbody>\n",
       "</table>\n",
       "</div>"
      ],
      "text/plain": [
       "                type      id  \\\n",
       "0  van_ban_phap_luat  100000   \n",
       "1  van_ban_phap_luat  100001   \n",
       "\n",
       "                                                 url  \\\n",
       "0  https://thuvienphapluat.vn/van-ban/Quyen-dan-s...   \n",
       "1  https://thuvienphapluat.vn/van-ban/Quyen-dan-s...   \n",
       "\n",
       "                                               title created_date  \\\n",
       "0  Quyết định 720/QĐ-CTN năm 2020 về cho thôi quố...   2020-05-18   \n",
       "1  Quyết định 719/QĐ-CTN năm 2020 về cho thôi quố...   2020-05-18   \n",
       "\n",
       "  updated_date                                            content  \\\n",
       "0   2020-06-03  \\x3c64697620636c6173733d22636f6e74656e7431223e...   \n",
       "1   2020-06-03  \\x3c64697620636c6173733d22636f6e74656e7431223e...   \n",
       "\n",
       "                                         content_raw  \n",
       "0  <div class=\"content1\">\\n <div>\\n  <div>\\n   <t...  \n",
       "1  <div class=\"content1\">\\n <div>\\n  <div>\\n   <t...  "
      ]
     },
     "execution_count": 130,
     "metadata": {},
     "output_type": "execute_result"
    }
   ],
   "source": [
    "connection = create_connection()\n",
    "# Query to fetch data\n",
    "query = \"SELECT * FROM page_content;\"\n",
    "\n",
    "# Load data into a DataFrame\n",
    "df = pd.read_sql_query(query, connection)\n",
    "\n",
    "# Close the connection\n",
    "connection.close()\n",
    "\n",
    "df.head(2)"
   ]
  },
  {
   "cell_type": "code",
   "execution_count": 131,
   "metadata": {},
   "outputs": [
    {
     "name": "stderr",
     "output_type": "stream",
     "text": [
      "/var/folders/38/q1znsjsj5c17qlggflslw4000000gn/T/ipykernel_37903/4218795701.py:10: UserWarning: pandas only supports SQLAlchemy connectable (engine/connection) or database string URI or sqlite3 DBAPI2 connection. Other DBAPI2 objects are not tested. Please consider using SQLAlchemy.\n",
      "  df = pd.read_sql_query(query, connection)\n"
     ]
    }
   ],
   "source": [
    "\n",
    "# Define the Document class\n",
    "class Document:\n",
    "    def __init__(self,page_content,metadata):\n",
    "        self.page_content = page_content\n",
    "        self.metadata = metadata\n",
    "# Connect to PostgreSQL and fetch data\n",
    "def fetch_data_from_postgres():\n",
    "    connection = create_connection()\n",
    "    query = \"SELECT * FROM page_content;\"\n",
    "    df = pd.read_sql_query(query, connection)\n",
    "    connection.close()\n",
    "    return df\n",
    "\n",
    "# Convert DataFrame to Document objects\n",
    "def convert_df_to_documents(df):\n",
    "    documents = [\n",
    "        Document(\n",
    "            page_content=f\"ID: {row.id}, Title: {row.title}, Content: {row.content_raw}\",  # or combine other fields if needed\n",
    "            metadata={\n",
    "                'id': row['id'],\n",
    "                'url': row['url'],\n",
    "                'title': row['title'],\n",
    "                'created_date': row['created_date'],\n",
    "                'updated_date': row['updated_date']\n",
    "            }\n",
    "        )\n",
    "        for _, row in df.iterrows()\n",
    "    ]\n",
    "    return documents\n",
    "\n",
    "# Fetch data\n",
    "df = fetch_data_from_postgres()\n",
    "\n",
    "# Convert to Document objects\n",
    "documents = convert_df_to_documents(df)\n",
    "\n",
    "# Example usage\n",
    "# for doc in documents:\n",
    "#     print(f\"page_content: {doc.page_content}\")  # "
   ]
  },
  {
   "cell_type": "code",
   "execution_count": 132,
   "metadata": {},
   "outputs": [],
   "source": [
    "vectorstore = FAISS.from_documents(documents, embeddings)"
   ]
  },
  {
   "cell_type": "code",
   "execution_count": 133,
   "metadata": {},
   "outputs": [],
   "source": [
    "# Step 5: Create the RAG Pipeline with LangChain's RetrievalQA Chain\n",
    "qa_chain = RetrievalQA.from_chain_type(\n",
    "    llm=llm,\n",
    "    chain_type=\"stuff\",  # You can also use \"map_reduce\" for larger datasets\n",
    "    retriever=vectorstore.as_retriever()\n",
    ")"
   ]
  },
  {
   "cell_type": "code",
   "execution_count": 134,
   "metadata": {},
   "outputs": [
    {
     "name": "stdout",
     "output_type": "stream",
     "text": [
      "Quyết định 720/QĐ-CTN năm 2020 về cho thôi quốc tịch Việt Nam đối với 95 công dân hiện đang cư trú tại Đức do Chủ tịch nước ban hành.\n",
      "\n",
      "Thông tin được cung cấp ở phần đầu của văn bản, nêu rõ rằng quyết định này liên quan đến việc cho thôi quốc tịch Việt Nam đối với 95 công dân hiện đang cư trú tại Đức.\n"
     ]
    }
   ],
   "source": [
    "\n",
    "\n",
    "\n",
    "# Step 6: Run a Q&A Test\n",
    "query = \"Quyết định 720/QĐ-CTN năm 2020 về cho thôi quốc tịch Việt Nam đối với 95 công dân hiện đang cư trú tại Đức do Chủ tịch nước ban hành\"\n",
    "result = qa_chain.run(query)\n",
    "print(result)\n"
   ]
  },
  {
   "cell_type": "markdown",
   "metadata": {},
   "source": [
    "# Q&A "
   ]
  },
  {
   "cell_type": "code",
   "execution_count": 135,
   "metadata": {},
   "outputs": [],
   "source": [
    "from fuzzywuzzy import process\n"
   ]
  },
  {
   "cell_type": "code",
   "execution_count": 142,
   "metadata": {},
   "outputs": [
    {
     "name": "stderr",
     "output_type": "stream",
     "text": [
      "/var/folders/38/q1znsjsj5c17qlggflslw4000000gn/T/ipykernel_37903/4149731134.py:9: UserWarning: pandas only supports SQLAlchemy connectable (engine/connection) or database string URI or sqlite3 DBAPI2 connection. Other DBAPI2 objects are not tested. Please consider using SQLAlchemy.\n",
      "  df = pd.read_sql_query(query, conn)\n"
     ]
    },
    {
     "data": {
      "text/html": [
       "<div>\n",
       "<style scoped>\n",
       "    .dataframe tbody tr th:only-of-type {\n",
       "        vertical-align: middle;\n",
       "    }\n",
       "\n",
       "    .dataframe tbody tr th {\n",
       "        vertical-align: top;\n",
       "    }\n",
       "\n",
       "    .dataframe thead th {\n",
       "        text-align: right;\n",
       "    }\n",
       "</style>\n",
       "<table border=\"1\" class=\"dataframe\">\n",
       "  <thead>\n",
       "    <tr style=\"text-align: right;\">\n",
       "      <th></th>\n",
       "      <th>question</th>\n",
       "      <th>answer</th>\n",
       "    </tr>\n",
       "  </thead>\n",
       "  <tbody>\n",
       "    <tr>\n",
       "      <th>0</th>\n",
       "      <td>What is the return policy?</td>\n",
       "      <td>You can return items within 30 days of purchase.</td>\n",
       "    </tr>\n",
       "    <tr>\n",
       "      <th>1</th>\n",
       "      <td>How do I reset my password?</td>\n",
       "      <td>Click 'Forgot Password' on the login page.</td>\n",
       "    </tr>\n",
       "    <tr>\n",
       "      <th>2</th>\n",
       "      <td>What are the store hours?</td>\n",
       "      <td>We are open from 9 AM to 9 PM, Monday to Satur...</td>\n",
       "    </tr>\n",
       "    <tr>\n",
       "      <th>3</th>\n",
       "      <td>Where can I find my order history?</td>\n",
       "      <td>Log in to your account and go to 'Order History'.</td>\n",
       "    </tr>\n",
       "    <tr>\n",
       "      <th>4</th>\n",
       "      <td>Do you offer international shipping?</td>\n",
       "      <td>Yes, we ship to many countries worldwide.</td>\n",
       "    </tr>\n",
       "  </tbody>\n",
       "</table>\n",
       "</div>"
      ],
      "text/plain": [
       "                               question  \\\n",
       "0            What is the return policy?   \n",
       "1           How do I reset my password?   \n",
       "2             What are the store hours?   \n",
       "3    Where can I find my order history?   \n",
       "4  Do you offer international shipping?   \n",
       "\n",
       "                                              answer  \n",
       "0   You can return items within 30 days of purchase.  \n",
       "1         Click 'Forgot Password' on the login page.  \n",
       "2  We are open from 9 AM to 9 PM, Monday to Satur...  \n",
       "3  Log in to your account and go to 'Order History'.  \n",
       "4          Yes, we ship to many countries worldwide.  "
      ]
     },
     "execution_count": 142,
     "metadata": {},
     "output_type": "execute_result"
    }
   ],
   "source": [
    "def get_faq_data():\n",
    "    # Database connection parameters\n",
    "    conn = create_connection()\n",
    "    \n",
    "    # Query to fetch data\n",
    "    query = \"SELECT question, answer FROM faq;\"\n",
    "    \n",
    "    # Fetch data into a DataFrame\n",
    "    df = pd.read_sql_query(query, conn)\n",
    "    \n",
    "    # Close the connection\n",
    "    conn.close()\n",
    "    \n",
    "    return df\n",
    "\n",
    "df = get_faq_data()\n",
    "df.head()"
   ]
  },
  {
   "cell_type": "code",
   "execution_count": 137,
   "metadata": {},
   "outputs": [],
   "source": [
    "\n",
    "# Convert DataFrame to Document objects\n",
    "def convert_df_to_documents(df):\n",
    "    documents = [\n",
    "        Document(\n",
    "            page_content=f\"question: {row.question}\",  # or combine other fields if needed\n",
    "            metadata={\n",
    "                'question': row['question'],\n",
    "                'answer': row['answer'],\n",
    "            }\n",
    "        )\n",
    "        for _, row in df.iterrows()\n",
    "    ]\n",
    "    return documents\n"
   ]
  },
  {
   "cell_type": "code",
   "execution_count": 138,
   "metadata": {},
   "outputs": [],
   "source": [
    "question_documents = convert_df_to_documents(df)"
   ]
  },
  {
   "cell_type": "code",
   "execution_count": 139,
   "metadata": {},
   "outputs": [
    {
     "name": "stderr",
     "output_type": "stream",
     "text": [
      "/Volumes/home/Learn/Master/3.LLMs/rag_pipeline/.venv/lib/python3.11/site-packages/transformers/tokenization_utils_base.py:1601: FutureWarning: `clean_up_tokenization_spaces` was not set. It will be set to `True` by default. This behavior will be depracted in transformers v4.45, and will be then set to `False` by default. For more details check this issue: https://github.com/huggingface/transformers/issues/31884\n",
      "  warnings.warn(\n"
     ]
    }
   ],
   "source": [
    "from sentence_transformers import SentenceTransformer, util\n",
    "import numpy as np\n",
    "import torch\n",
    "\n",
    "# Initialize HuggingFaceEmbeddings\n",
    "model_name = \"sentence-transformers/all-MiniLM-L6-v2\"\n",
    "embedding_model = HuggingFaceEmbeddings(model_name=model_name)\n",
    "\n",
    "# Initialize FAISS vector store\n",
    "vector_store = FAISS.from_documents(question_documents, embedding_model)\n"
   ]
  },
  {
   "cell_type": "code",
   "execution_count": 140,
   "metadata": {},
   "outputs": [],
   "source": [
    "def search_similar_question(user_query):\n",
    "\n",
    "    # Find the most similar question\n",
    "    search_results = vector_store.similarity_search(user_query)\n",
    "    \n",
    "    \n",
    "    return [{'question': item.metadata['question'],'answer': item.metadata['answer'] } for item in search_results]\n",
    "    \n",
    "    # else:\n",
    "    #     return \"Sorry, I couldn't find a similar question.\"\n"
   ]
  },
  {
   "cell_type": "markdown",
   "metadata": {},
   "source": [
    "## Search "
   ]
  },
  {
   "cell_type": "code",
   "execution_count": 141,
   "metadata": {},
   "outputs": [
    {
     "data": {
      "text/plain": [
       "[{'question': 'Do you offer international shipping?',\n",
       "  'answer': 'Yes, we ship to many countries worldwide.'},\n",
       " {'question': 'What are the store hours?',\n",
       "  'answer': 'We are open from 9 AM to 9 PM, Monday to Saturday.'},\n",
       " {'question': 'Where can I find my order history?',\n",
       "  'answer': \"Log in to your account and go to 'Order History'.\"},\n",
       " {'question': 'What is the return policy?',\n",
       "  'answer': 'You can return items within 30 days of purchase.'}]"
      ]
     },
     "execution_count": 141,
     "metadata": {},
     "output_type": "execute_result"
    }
   ],
   "source": [
    "# Example usage\n",
    "user_query = \"delivery\"\n",
    "search_similar_question(user_query)"
   ]
  }
 ],
 "metadata": {
  "kernelspec": {
   "display_name": ".venv",
   "language": "python",
   "name": "python3"
  },
  "language_info": {
   "codemirror_mode": {
    "name": "ipython",
    "version": 3
   },
   "file_extension": ".py",
   "mimetype": "text/x-python",
   "name": "python",
   "nbconvert_exporter": "python",
   "pygments_lexer": "ipython3",
   "version": "3.11.2"
  }
 },
 "nbformat": 4,
 "nbformat_minor": 2
}
